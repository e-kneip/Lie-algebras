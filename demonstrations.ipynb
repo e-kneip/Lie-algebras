{
 "cells": [
  {
   "cell_type": "markdown",
   "metadata": {},
   "source": [
    "## Demonstrations"
   ]
  },
  {
   "cell_type": "code",
   "execution_count": 2,
   "metadata": {},
   "outputs": [],
   "source": [
    "from Lie_algebras import *\n",
    "import numpy as np\n",
    "import pickle\n",
    "import matplotlib.pyplot as plt"
   ]
  },
  {
   "cell_type": "markdown",
   "metadata": {},
   "source": [
    "#### 1. Speedup using Pauli decomposition for complete_algebra"
   ]
  },
  {
   "cell_type": "code",
   "execution_count": 2,
   "metadata": {},
   "outputs": [
    {
     "name": "stdout",
     "output_type": "stream",
     "text": [
      "503 µs ± 27.4 µs per loop (mean ± std. dev. of 7 runs, 1,000 loops each)\n",
      "1.54 ms ± 262 µs per loop (mean ± std. dev. of 7 runs, 1,000 loops each)\n"
     ]
    }
   ],
   "source": [
    "# Easy example comparison, complete {X, I, Z}\n",
    "\n",
    "easy = [X, I, Z]\n",
    "easy_pauli = [Pauli([X]), Pauli([I]), Pauli([Z])]\n",
    "\n",
    "%timeit complete_algebra(easy, 5)\n",
    "%timeit pauli_complete_algebra(easy_pauli, 5)"
   ]
  },
  {
   "cell_type": "code",
   "execution_count": 3,
   "metadata": {},
   "outputs": [
    {
     "name": "stdout",
     "output_type": "stream",
     "text": [
      "8.16 ms ± 768 µs per loop (mean ± std. dev. of 7 runs, 100 loops each)\n",
      "4.8 ms ± 640 µs per loop (mean ± std. dev. of 7 runs, 100 loops each)\n"
     ]
    }
   ],
   "source": [
    "# Medium example comparison, complete {X_1Y_2Z_5, Z_1Y_2Y_4Y_5, X_1X_2Y_3Z_4}\n",
    "\n",
    "medium = [np.kron(X, np.kron(Y, np.kron(I, np.kron(I, Z)))), np.kron(Z, np.kron(Y, np.kron(I, np.kron(Y, Y)))), np.kron(X, np.kron(X, np.kron(Y, np.kron(Z, I))))]\n",
    "medium_pauli = [Pauli([X, Y, I, I, Z]), Pauli([Z, Y, I, Y, Y]), Pauli([X, X, Y, Z, I])]\n",
    "\n",
    "%timeit complete_algebra(medium, 10)\n",
    "%timeit pauli_complete_algebra(medium_pauli, 10)"
   ]
  },
  {
   "cell_type": "code",
   "execution_count": 9,
   "metadata": {},
   "outputs": [
    {
     "name": "stdout",
     "output_type": "stream",
     "text": [
      "For 5 qubits:\n",
      "13.2 ms ± 821 µs per loop (mean ± std. dev. of 7 runs, 100 loops each)\n",
      "37.3 ms ± 1.75 ms per loop (mean ± std. dev. of 7 runs, 10 loops each)\n",
      "For 6 qubits:\n",
      "200 ms ± 3.83 ms per loop (mean ± std. dev. of 7 runs, 10 loops each)\n",
      "109 ms ± 7.15 ms per loop (mean ± std. dev. of 7 runs, 10 loops each)\n",
      "For 7 qubits:\n",
      "397 ms ± 21.3 ms per loop (mean ± std. dev. of 7 runs, 1 loop each)\n",
      "100 ms ± 4.74 ms per loop (mean ± std. dev. of 7 runs, 10 loops each)\n",
      "For 8 qubits:\n",
      "1.62 s ± 243 ms per loop (mean ± std. dev. of 7 runs, 1 loop each)\n",
      "202 ms ± 41.9 ms per loop (mean ± std. dev. of 7 runs, 1 loop each)\n",
      "For 9 qubits:\n",
      "7.11 s ± 370 ms per loop (mean ± std. dev. of 7 runs, 1 loop each)\n",
      "152 ms ± 5.19 ms per loop (mean ± std. dev. of 7 runs, 10 loops each)\n"
     ]
    }
   ],
   "source": [
    "# Hard example comparison\n",
    "\n",
    "q, r, s, t = Pauli([X, Y, Z, I, Z]), Pauli([Z, Z, I, Y, Y]), Pauli([X, X, Y, Z, I]), Pauli([X, Y, Z, I, I])\n",
    "ql, rl, sl, tl = np.kron(X, np.kron(Y, np.kron(Z, np.kron(I, Z)))), np.kron(Z, np.kron(Z, np.kron(I, np.kron(Y, Y)))), np.kron(X, np.kron(X, np.kron(Y, np.kron(Z, I)))), np.kron(X, np.kron(Y, np.kron(Z, np.kron(I, I))))\n",
    "\n",
    "hard = [ql + rl, 2*ql + sl + 5*tl, 3*rl + sl - 2*tl]\n",
    "hard_pauli = [q + r, 2*q + s + 5*t, 3*r + s - 2*t]\n",
    "\n",
    "print(\"For 5 qubits:\")\n",
    "%timeit complete_algebra(hard, 15)\n",
    "%timeit pauli_complete_algebra(hard_pauli, 15)\n",
    "\n",
    "q, r, s, t = Pauli([X, Y, Z, I, Z, Y]), Pauli([Z, Z, I, Y, Y, Z]), Pauli([X, X, Y, Z, I, Z]), Pauli([X, Y, Z, I, I, Y])\n",
    "ql, rl, sl, tl = np.kron(X, np.kron(Y, np.kron(Z, np.kron(I, np.kron(Z, Y))))), np.kron(Z, np.kron(Z, np.kron(I, np.kron(Y, np.kron(Y, Z))))), np.kron(X, np.kron(X, np.kron(Y, np.kron(Z, np.kron(I, Z))))), np.kron(X, np.kron(Y, np.kron(Z, np.kron(I, np.kron(I, Y)))))\n",
    "\n",
    "hard = [ql + rl, 2*ql + sl + 5*tl, 3*rl + sl - 2*tl]\n",
    "hard_pauli = [q + r, 2*q + s + 5*t, 3*r + s - 2*t]\n",
    "\n",
    "print(\"For 6 qubits:\")\n",
    "%timeit complete_algebra(hard, 15)\n",
    "%timeit pauli_complete_algebra(hard_pauli, 15)\n",
    "\n",
    "q, r, s, t = Pauli([Y, Z, I, Z, Y, Y, X]), Pauli([Z, I, Y, Y, Z, I, Y]), Pauli([X, Y, Z, I, Z, X, Z]), Pauli([Y, Z, I, I, Y, Z, I])\n",
    "ql, rl, sl, tl = np.kron(Y, np.kron(Z, np.kron(I, np.kron(Z, np.kron(Y, np.kron(Y, X)))))), np.kron(Z, np.kron(I, np.kron(Y, np.kron(Y, np.kron(Z, np.kron(I, Y)))))), np.kron(X, np.kron(Y, np.kron(Z, np.kron(I, np.kron(Z, np.kron(X, Z)))))), np.kron(Y, np.kron(Z, np.kron(I, np.kron(I, np.kron(Y, np.kron(Z, I))))))\n",
    "\n",
    "hard = [ql + rl, 2*ql + sl, 3*rl + sl - tl]\n",
    "hard_pauli = [q + r, 2*q + s, 3*r + s - t]\n",
    "\n",
    "print(\"For 7 qubits:\")\n",
    "%timeit complete_algebra(hard, 15)\n",
    "%timeit pauli_complete_algebra(hard_pauli, 15)\n",
    "\n",
    "q, r, s, t = Pauli([X, Y, Z, I, Z, Y, Y, X]), Pauli([Z, Z, I, Y, Y, Z, I, Y]), Pauli([X, X, Y, Z, I, Z, X, Z]), Pauli([X, Y, Z, I, I, Y, Z, I])\n",
    "ql, rl, sl, tl = np.kron(X, np.kron(Y, np.kron(Z, np.kron(I, np.kron(Z, np.kron(Y, np.kron(Y, X))))))), np.kron(Z, np.kron(Z, np.kron(I, np.kron(Y, np.kron(Y, np.kron(Z, np.kron(I, Y))))))), np.kron(X, np.kron(X, np.kron(Y, np.kron(Z, np.kron(I, np.kron(Z, np.kron(X, Z))))))), np.kron(X, np.kron(Y, np.kron(Z, np.kron(I, np.kron(I, np.kron(Y, np.kron(Z, I)))))))\n",
    "\n",
    "hard = [ql + rl, 2*ql + sl, 3*rl + sl - tl]\n",
    "hard_pauli = [q + r, 2*q + s, 3*r + s - t]\n",
    "\n",
    "print(\"For 8 qubits:\")\n",
    "%timeit complete_algebra(hard, 15)\n",
    "%timeit pauli_complete_algebra(hard_pauli, 15)\n",
    "\n",
    "q, r, s, t = Pauli([X, Y, Z, I, Z, Y, Y, X, I]), Pauli([Z, Z, I, Y, Y, Z, I, Y, X]), Pauli([X, X, Y, Z, I, Z, X, Z, X]), Pauli([X, Y, Z, I, I, Y, Z, I, Z])\n",
    "ql, rl, sl, tl = np.kron(X, np.kron(Y, np.kron(Z, np.kron(I, np.kron(Z, np.kron(Y, np.kron(Y, np.kron(X, I)))))))), np.kron(Z, np.kron(Z, np.kron(I, np.kron(Y, np.kron(Y, np.kron(Z, np.kron(I, np.kron(Y, X)))))))), np.kron(X, np.kron(X, np.kron(Y, np.kron(Z, np.kron(I, np.kron(Z, np.kron(X, np.kron(Z, X)))))))), np.kron(X, np.kron(Y, np.kron(Z, np.kron(I, np.kron(I, np.kron(Y, np.kron(Z, np.kron(I, Z))))))))\n",
    "\n",
    "hard = [ql + rl, 2*ql + sl, 3*rl + sl - tl]\n",
    "hard_pauli = [q + r, 2*q + s, 3*r + s - t]\n",
    "\n",
    "print(\"For 9 qubits:\")\n",
    "%timeit complete_algebra(hard, 15)\n",
    "%timeit pauli_complete_algebra(hard_pauli, 15)"
   ]
  },
  {
   "cell_type": "code",
   "execution_count": 5,
   "metadata": {},
   "outputs": [
    {
     "name": "stdout",
     "output_type": "stream",
     "text": [
      "1.23 s ± 180 ms per loop (mean ± std. dev. of 7 runs, 1 loop each)\n"
     ]
    }
   ],
   "source": [
    "# Super hard for fun\n",
    "\n",
    "q, r, s, t, u = Pauli([X, Y, Z, I, Z, Y, Y, X, X, I]), Pauli([Z, Z, I, Y, Y, Z, I, Y, I, Y]), Pauli([X, X, Y, Z, I, Z, X, Z, Y, Z]), Pauli([I, Y, Z, I, X, X, Z, I, Z, Z]), Pauli([I, Y, Y, I, X, Y, Z, I, I, X])\n",
    "\n",
    "hard_pauli = [q + r + s, 2*q + s - 1j*u, 3*r + s - t]\n",
    "\n",
    "%timeit pauli_complete_algebra(hard_pauli, 20)"
   ]
  },
  {
   "cell_type": "code",
   "execution_count": 66,
   "metadata": {},
   "outputs": [
    {
     "data": {
      "image/png": "[encoded data removed]",
      "text/plain": [
       "<Figure size 640x480 with 1 Axes>"
      ]
     },
     "metadata": {},
     "output_type": "display_data"
    }
   ],
   "source": [
    "# Plotting\n",
    "\n",
    "spins = (\"5\", \"6\", \"7\", \"8\", \"9\")\n",
    "representation = {\n",
    "    'Matrix': (13.2, 200, 397, 1620, 7110, 0.821, 3.83, 21.3, 243, 370),\n",
    "    'Pauli': (37.3, 109, 100, 202, 152, 1.75, 7.15, 4.74, 41.9, 5.19),\n",
    "}\n",
    "\n",
    "x = np.arange(len(spins))  # the label locations\n",
    "width = 0.25  # the width of the bars\n",
    "multiplier = 0\n",
    "\n",
    "fig, ax = plt.subplots(layout='constrained')\n",
    "\n",
    "for attribute, measurement in representation.items():\n",
    "    offset = width * multiplier\n",
    "    rects = ax.bar(x + offset, measurement[0:5], width, label=attribute)\n",
    "    ax.bar_label(rects, padding=3)\n",
    "    ax.errorbar(x + offset, measurement[0:5], yerr=measurement[5:10], fmt='None', color='0.6', ecolor='black', elinewidth=1, capsize=7, capthick=0.5)\n",
    "    multiplier += 1\n",
    "\n",
    "# Add some text for labels, title and custom x-axis tick labels, etc.\n",
    "ax.set_ylabel('Time, ms')\n",
    "ax.set_xlabel('Number of Spins')\n",
    "ax.set_title('Lie Algebra Completion Time Comparison')\n",
    "ax.set_xticks(x + 0.5*width, spins)\n",
    "ax.legend(loc='upper left', ncols=2)\n",
    "\n",
    "plt.show()"
   ]
  },
  {
   "cell_type": "markdown",
   "metadata": {},
   "source": [
    "#### 2. Size of generated sets for $H:\\Bigl\\{\\{Z_j\\}_{j=1}^n, \\{X_jX_{j+1}\\}_{j=1}^{n}\\Bigr\\}$ and $I_k: \\Bigl\\{Z_1Z_k\\Bigr\\}$"
   ]
  },
  {
   "cell_type": "code",
   "execution_count": 3,
   "metadata": {},
   "outputs": [],
   "source": [
    "# Import relevant examples\n",
    "\n",
    "file = open('set_1_periodic', 'rb')\n",
    "set_1_periodic_dict = pickle.load(file)\n",
    "file.close()"
   ]
  },
  {
   "cell_type": "code",
   "execution_count": 10,
   "metadata": {},
   "outputs": [
    {
     "name": "stdout",
     "output_type": "stream",
     "text": [
      "['n3k1: 30', 'n4k1: 70', 'n4k2: 70', 'n4k3: 70', 'n5k1: 420', 'n5k2: 420', 'n6k1: 990', 'n7k1: 2002']\n"
     ]
    }
   ],
   "source": [
    "# Find sizes of each (n, k)\n",
    "\n",
    "keys = set_1_periodic_dict.keys()\n",
    "print([f\"{key}: {len(set_1_periodic_dict[key])}\" for key in keys])"
   ]
  },
  {
   "cell_type": "code",
   "execution_count": 9,
   "metadata": {},
   "outputs": [
    {
     "data": {
      "text/plain": [
       "[(1, Pauli([Z, Z, I, I])),\n",
       " ((-0-8j), Pauli([Y, I, X, I])),\n",
       " ((-0-8j), Pauli([I, Y, I, X])),\n",
       " ((16+0j), Pauli([X, I, X, I])),\n",
       " ((-16-0j), Pauli([Y, I, Y, I])),\n",
       " ((16+0j), Pauli([Z, I, Z, I])),\n",
       " ((16+0j), Pauli([I, X, I, X])),\n",
       " ((-16-0j), Pauli([I, Y, I, Y])),\n",
       " ((16+0j), Pauli([I, Z, I, Z])),\n",
       " (-32j, Pauli([X, I, Y, I])),\n",
       " (-32j, Pauli([I, X, I, Y])),\n",
       " ((64+0j), Pauli([I, Z, Z, I])),\n",
       " ((64+0j), Pauli([Z, I, I, Z])),\n",
       " ((256+0j), Pauli([I, I, Z, Z]))]"
      ]
     },
     "execution_count": 9,
     "metadata": {},
     "output_type": "execute_result"
    }
   ],
   "source": [
    "# 2-body interactions example: see all Z_1Z_j are in set\n",
    "\n",
    "filtering(set_1_periodic_dict['n4k1'], 2)"
   ]
  },
  {
   "cell_type": "markdown",
   "metadata": {},
   "source": [
    "#### 2. Finding algebras for Hamiltonian $H: \\{\\sum_n Z_n, \\sum_n X_nX_{n+1}\\}$ with periodic boundary conditions and variable invariant $Inv$"
   ]
  },
  {
   "cell_type": "code",
   "execution_count": 3,
   "metadata": {},
   "outputs": [],
   "source": [
    "# contruct H for n = 3, 4, ..., 7\n",
    "\n",
    "H =[]\n",
    "for n in range(3, 8):\n",
    "    # op1 = Z_1+...+Z_n, op2 = X_1X_2+...+X_nX_1\n",
    "    ops1, ops2 = [], []\n",
    "    for i in range(n):\n",
    "        new_op = [I for i in range(n)]\n",
    "        new_op[i] = Z\n",
    "        ops1.append(new_op)\n",
    "    for i in range(n):\n",
    "        new_op = [I for i in range(n)]\n",
    "        new_op[i] = X\n",
    "        new_op[(i+1)%n] = X\n",
    "        ops2.append(new_op)\n",
    "    op1 = Pauli(ops1[0])\n",
    "    op2 = Pauli(ops2[0])\n",
    "    for j in range(1, len(ops1)):\n",
    "        op1 += Pauli(ops1[j])\n",
    "    for j in range(1, len(ops2)):\n",
    "        op2 += Pauli(ops2[j])\n",
    "    H.append((op1, op2))"
   ]
  },
  {
   "cell_type": "code",
   "execution_count": 4,
   "metadata": {},
   "outputs": [
    {
     "name": "stdout",
     "output_type": "stream",
     "text": [
      "The full algebra: (n:length:algebra)\n",
      "n=3: length=8: algebra=[SuperPauli([(1, Pauli([Z, I, I])), (1, Pauli([I, Z, I])), (1, Pauli([I, I, Z]))]), SuperPauli([(1, Pauli([X, X, I])), (1, Pauli([I, X, X])), (1, Pauli([X, I, X]))]), SuperPauli([(2j, Pauli([Y, X, I])), (2j, Pauli([Y, I, X])), (2j, Pauli([X, Y, I])), (2j, Pauli([I, Y, X])), (2j, Pauli([I, X, Y])), (2j, Pauli([X, I, Y]))]), SuperPauli([((8+0j), Pauli([X, X, I])), ((8+0j), Pauli([X, I, X])), ((-8+0j), Pauli([Y, Y, I])), ((-8+0j), Pauli([Y, I, Y])), ((8+0j), Pauli([I, X, X])), ((-8+0j), Pauli([I, Y, Y]))]), SuperPauli([((-8+0j), Pauli([Z, I, I])), ((-8+0j), Pauli([Z, X, X])), ((-8+0j), Pauli([I, Z, I])), ((-8+0j), Pauli([X, Z, X])), ((-8+0j), Pauli([I, I, Z])), ((-8+0j), Pauli([X, X, Z]))]), SuperPauli([((-0-16j), Pauli([Y, Z, X])), ((-0-16j), Pauli([Y, X, Z])), ((-0-16j), Pauli([Z, Y, X])), ((-0-16j), Pauli([X, Y, Z])), ((-0-16j), Pauli([Z, X, Y])), ((-0-16j), Pauli([X, Z, Y]))]), SuperPauli([((128+0j), Pauli([Z, I, I])), ((64+0j), Pauli([Z, X, X])), ((128+0j), Pauli([I, Z, I])), ((64-0j), Pauli([Y, Z, Y])), ((128+0j), Pauli([I, I, Z])), ((64-0j), Pauli([Y, Y, Z])), ((64-0j), Pauli([Z, Y, Y])), ((64+0j), Pauli([X, Z, X])), ((64+0j), Pauli([X, X, Z]))]), SuperPauli([((128-0j), Pauli([X, X, I])), ((128-0j), Pauli([X, I, X])), ((-64+0j), Pauli([Y, Y, I])), ((-64+0j), Pauli([Z, I, Z])), ((-64+0j), Pauli([Z, Z, I])), ((-64+0j), Pauli([Y, I, Y])), ((128-0j), Pauli([I, X, X])), ((-64+0j), Pauli([I, Z, Z])), ((-64+0j), Pauli([I, Y, Y]))])]\n",
      "n=4: length=11: algebra=[SuperPauli([(1, Pauli([Z, I, I, I])), (1, Pauli([I, Z, I, I])), (1, Pauli([I, I, Z, I])), (1, Pauli([I, I, I, Z]))]), SuperPauli([(1, Pauli([X, X, I, I])), (1, Pauli([I, X, X, I])), (1, Pauli([I, I, X, X])), (1, Pauli([X, I, I, X]))]), SuperPauli([(2j, Pauli([Y, X, I, I])), (2j, Pauli([Y, I, I, X])), (2j, Pauli([X, Y, I, I])), (2j, Pauli([I, Y, X, I])), (2j, Pauli([I, X, Y, I])), (2j, Pauli([I, I, Y, X])), (2j, Pauli([I, I, X, Y])), (2j, Pauli([X, I, I, Y]))]), SuperPauli([((8+0j), Pauli([X, X, I, I])), ((8+0j), Pauli([X, I, I, X])), ((-8+0j), Pauli([Y, Y, I, I])), ((-8+0j), Pauli([Y, I, I, Y])), ((8+0j), Pauli([I, X, X, I])), ((-8+0j), Pauli([I, Y, Y, I])), ((8+0j), Pauli([I, I, X, X])), ((-8+0j), Pauli([I, I, Y, Y]))]), SuperPauli([((-8+0j), Pauli([Z, I, I, I])), ((-8+0j), Pauli([Z, X, I, X])), ((-8+0j), Pauli([I, Z, I, I])), ((-8+0j), Pauli([X, Z, X, I])), ((-8+0j), Pauli([I, I, Z, I])), ((-8+0j), Pauli([I, X, Z, X])), ((-8+0j), Pauli([I, I, I, Z])), ((-8+0j), Pauli([X, I, X, Z]))]), SuperPauli([((-0-16j), Pauli([Y, Z, X, I])), ((-0-16j), Pauli([Y, I, X, Z])), ((-0-16j), Pauli([Z, Y, I, X])), ((-0-16j), Pauli([I, Y, Z, X])), ((-0-16j), Pauli([X, Z, Y, I])), ((-0-16j), Pauli([X, I, Y, Z])), ((-0-16j), Pauli([Z, X, I, Y])), ((-0-16j), Pauli([I, X, Z, Y]))]), SuperPauli([((128+0j), Pauli([Z, I, I, I])), ((64+0j), Pauli([Z, X, I, X])), ((128+0j), Pauli([I, Z, I, I])), ((64-0j), Pauli([Y, Z, Y, I])), ((128+0j), Pauli([I, I, I, Z])), ((64-0j), Pauli([Y, I, Y, Z])), ((64-0j), Pauli([Z, Y, I, Y])), ((64+0j), Pauli([X, Z, X, I])), ((128+0j), Pauli([I, I, Z, I])), ((64-0j), Pauli([I, Y, Z, Y])), ((64+0j), Pauli([I, X, Z, X])), ((64+0j), Pauli([X, I, X, Z]))]), SuperPauli([((128-0j), Pauli([X, X, I, I])), ((128-0j), Pauli([X, I, I, X])), ((-64+0j), Pauli([Y, Y, I, I])), ((-64+0j), Pauli([Z, X, X, Z])), ((-64+0j), Pauli([Z, Z, X, X])), ((-64+0j), Pauli([Y, I, I, Y])), ((128-0j), Pauli([I, X, X, I])), ((-64+0j), Pauli([X, Z, Z, X])), ((-64+0j), Pauli([I, Y, Y, I])), ((128-0j), Pauli([I, I, X, X])), ((-64+0j), Pauli([X, X, Z, Z])), ((-64+0j), Pauli([I, I, Y, Y]))]), SuperPauli([(384j, Pauli([Y, X, I, I])), (384j, Pauli([Y, I, I, X])), (384j, Pauli([X, Y, I, I])), (384j, Pauli([I, Y, X, I])), (384j, Pauli([X, I, I, Y])), (384j, Pauli([I, I, X, Y])), (-128j, Pauli([Y, Z, Z, X])), (-128j, Pauli([Z, Y, X, Z])), (-128j, Pauli([Z, Z, X, Y])), (-128j, Pauli([Y, X, Z, Z])), (384j, Pauli([I, X, Y, I])), (384j, Pauli([I, I, Y, X])), (-128j, Pauli([Z, Z, Y, X])), (-128j, Pauli([X, Y, Z, Z])), (-128j, Pauli([Z, X, Y, Z])), (-128j, Pauli([X, Z, Z, Y]))]), SuperPauli([((1536+0j), Pauli([X, X, I, I])), ((1536+0j), Pauli([X, I, I, X])), ((-1536+0j), Pauli([Y, Y, I, I])), ((-1536+0j), Pauli([Y, I, I, Y])), ((-512-0j), Pauli([X, Z, Z, X])), ((-512-0j), Pauli([X, X, Z, Z])), ((512+0j), Pauli([Y, Y, Z, Z])), ((512+0j), Pauli([Y, Z, Z, Y])), ((1536+0j), Pauli([I, X, X, I])), ((-512-0j), Pauli([Z, X, X, Z])), ((-1536+0j), Pauli([I, Y, Y, I])), ((512+0j), Pauli([Z, Y, Y, Z])), ((-1536+0j), Pauli([I, I, Y, Y])), ((512+0j), Pauli([Z, Z, Y, Y])), ((1536+0j), Pauli([I, I, X, X])), ((-512-0j), Pauli([Z, Z, X, X]))]), SuperPauli([((-1536+0j), Pauli([Z, I, I, I])), ((-1536+0j), Pauli([Z, X, I, X])), ((-1536+0j), Pauli([I, Z, I, I])), ((-1536+0j), Pauli([X, Z, X, I])), ((512+0j), Pauli([Z, I, Z, Z])), ((512+0j), Pauli([I, Z, Z, Z])), ((-512-0j), Pauli([Y, I, Y, Z])), ((-512-0j), Pauli([I, Y, Z, Y])), ((512+0j), Pauli([Z, Z, I, Z])), ((-512-0j), Pauli([Z, Y, I, Y])), ((-1536+0j), Pauli([I, I, Z, I])), ((-1536+0j), Pauli([I, X, Z, X])), ((-1536+0j), Pauli([X, I, X, Z])), ((-1536+0j), Pauli([I, I, I, Z])), ((-512-0j), Pauli([Y, Z, Y, I])), ((512+0j), Pauli([Z, Z, Z, I]))])]\n",
      "n=5: length=14: algebra=[SuperPauli([(1, Pauli([Z, I, I, I, I])), (1, Pauli([I, Z, I, I, I])), (1, Pauli([I, I, Z, I, I])), (1, Pauli([I, I, I, Z, I])), (1, Pauli([I, I, I, I, Z]))]), SuperPauli([(1, Pauli([X, X, I, I, I])), (1, Pauli([I, X, X, I, I])), (1, Pauli([I, I, X, X, I])), (1, Pauli([I, I, I, X, X])), (1, Pauli([X, I, I, I, X]))]), SuperPauli([(2j, Pauli([Y, X, I, I, I])), (2j, Pauli([Y, I, I, I, X])), (2j, Pauli([X, Y, I, I, I])), (2j, Pauli([I, Y, X, I, I])), (2j, Pauli([I, X, Y, I, I])), (2j, Pauli([I, I, Y, X, I])), (2j, Pauli([I, I, X, Y, I])), (2j, Pauli([I, I, I, Y, X])), (2j, Pauli([I, I, I, X, Y])), (2j, Pauli([X, I, I, I, Y]))]), SuperPauli([((8+0j), Pauli([X, X, I, I, I])), ((8+0j), Pauli([X, I, I, I, X])), ((-8+0j), Pauli([Y, Y, I, I, I])), ((-8+0j), Pauli([Y, I, I, I, Y])), ((8+0j), Pauli([I, X, X, I, I])), ((-8+0j), Pauli([I, Y, Y, I, I])), ((8+0j), Pauli([I, I, X, X, I])), ((-8+0j), Pauli([I, I, Y, Y, I])), ((8+0j), Pauli([I, I, I, X, X])), ((-8+0j), Pauli([I, I, I, Y, Y]))]), SuperPauli([((-8+0j), Pauli([Z, I, I, I, I])), ((-8+0j), Pauli([Z, X, I, I, X])), ((-8+0j), Pauli([I, Z, I, I, I])), ((-8+0j), Pauli([X, Z, X, I, I])), ((-8+0j), Pauli([I, I, Z, I, I])), ((-8+0j), Pauli([I, X, Z, X, I])), ((-8+0j), Pauli([I, I, I, Z, I])), ((-8+0j), Pauli([I, I, X, Z, X])), ((-8+0j), Pauli([I, I, I, I, Z])), ((-8+0j), Pauli([X, I, I, X, Z]))]), SuperPauli([((-0-16j), Pauli([Y, Z, X, I, I])), ((-0-16j), Pauli([Y, I, I, X, Z])), ((-0-16j), Pauli([Z, Y, I, I, X])), ((-0-16j), Pauli([I, Y, Z, X, I])), ((-0-16j), Pauli([X, Z, Y, I, I])), ((-0-16j), Pauli([I, I, Y, Z, X])), ((-0-16j), Pauli([I, X, Z, Y, I])), ((-0-16j), Pauli([X, I, I, Y, Z])), ((-0-16j), Pauli([Z, X, I, I, Y])), ((-0-16j), Pauli([I, I, X, Z, Y]))]), SuperPauli([((128+0j), Pauli([Z, I, I, I, I])), ((64+0j), Pauli([Z, X, I, I, X])), ((128+0j), Pauli([I, Z, I, I, I])), ((64-0j), Pauli([Y, Z, Y, I, I])), ((128+0j), Pauli([I, I, I, I, Z])), ((64-0j), Pauli([Y, I, I, Y, Z])), ((64-0j), Pauli([Z, Y, I, I, Y])), ((64+0j), Pauli([X, Z, X, I, I])), ((128+0j), Pauli([I, I, Z, I, I])), ((64-0j), Pauli([I, Y, Z, Y, I])), ((64+0j), Pauli([I, X, Z, X, I])), ((128+0j), Pauli([I, I, I, Z, I])), ((64-0j), Pauli([I, I, Y, Z, Y])), ((64+0j), Pauli([I, I, X, Z, X])), ((64+0j), Pauli([X, I, I, X, Z]))]), SuperPauli([((128-0j), Pauli([X, X, I, I, I])), ((128-0j), Pauli([X, I, I, I, X])), ((-64+0j), Pauli([Y, Y, I, I, I])), ((-64+0j), Pauli([Z, X, I, X, Z])), ((-64+0j), Pauli([Z, Z, X, I, X])), ((-64+0j), Pauli([Y, I, I, I, Y])), ((128-0j), Pauli([I, X, X, I, I])), ((-64+0j), Pauli([X, Z, Z, X, I])), ((-64+0j), Pauli([I, Y, Y, I, I])), ((128-0j), Pauli([I, I, X, X, I])), ((-64+0j), Pauli([I, X, Z, Z, X])), ((-64+0j), Pauli([I, I, Y, Y, I])), ((128-0j), Pauli([I, I, I, X, X])), ((-64+0j), Pauli([X, I, X, Z, Z])), ((-64+0j), Pauli([I, I, I, Y, Y]))]), SuperPauli([(384j, Pauli([Y, X, I, I, I])), (384j, Pauli([Y, I, I, I, X])), (384j, Pauli([X, Y, I, I, I])), (384j, Pauli([I, Y, X, I, I])), (384j, Pauli([X, I, I, I, Y])), (384j, Pauli([I, I, I, X, Y])), (-128j, Pauli([Y, Z, Z, X, I])), (-128j, Pauli([Z, Y, I, X, Z])), (-128j, Pauli([Z, Z, X, I, Y])), (-128j, Pauli([Y, I, X, Z, Z])), (384j, Pauli([I, X, Y, I, I])), (384j, Pauli([I, I, Y, X, I])), (-128j, Pauli([Z, Z, Y, I, X])), (-128j, Pauli([I, Y, Z, Z, X])), (384j, Pauli([I, I, X, Y, I])), (384j, Pauli([I, I, I, Y, X])), (-128j, Pauli([X, Z, Z, Y, I])), (-128j, Pauli([X, I, Y, Z, Z])), (-128j, Pauli([Z, X, I, Y, Z])), (-128j, Pauli([I, X, Z, Z, Y]))]), SuperPauli([((1536+0j), Pauli([X, X, I, I, I])), ((1536+0j), Pauli([X, I, I, I, X])), ((-1536+0j), Pauli([Y, Y, I, I, I])), ((-1536+0j), Pauli([Y, I, I, I, Y])), ((-512-0j), Pauli([X, Z, Z, X, I])), ((-512-0j), Pauli([X, I, X, Z, Z])), ((512+0j), Pauli([Y, Z, Z, Y, I])), ((512+0j), Pauli([Y, I, Y, Z, Z])), ((1536+0j), Pauli([I, X, X, I, I])), ((-512-0j), Pauli([Z, X, I, X, Z])), ((-1536+0j), Pauli([I, Y, Y, I, I])), ((-512-0j), Pauli([I, X, Z, Z, X])), ((512+0j), Pauli([Z, Y, I, Y, Z])), ((512+0j), Pauli([I, Y, Z, Z, Y])), ((512+0j), Pauli([Z, Z, Y, I, Y])), ((1536+0j), Pauli([I, I, X, X, I])), ((-512-0j), Pauli([Z, Z, X, I, X])), ((-1536+0j), Pauli([I, I, Y, Y, I])), ((-1536+0j), Pauli([I, I, I, Y, Y])), ((1536+0j), Pauli([I, I, I, X, X]))]), SuperPauli([((-1536+0j), Pauli([Z, I, I, I, I])), ((-1536+0j), Pauli([Z, X, I, I, X])), ((-1536+0j), Pauli([I, Z, I, I, I])), ((-1536+0j), Pauli([X, Z, X, I, I])), ((512+0j), Pauli([Z, X, X, Z, Z])), ((512+0j), Pauli([X, Z, Z, Z, X])), ((-512-0j), Pauli([I, Y, Z, Y, I])), ((-512-0j), Pauli([Y, I, I, Y, Z])), ((512+0j), Pauli([Z, Z, X, X, Z])), ((-512-0j), Pauli([Z, Y, I, I, Y])), ((-1536+0j), Pauli([I, I, Z, I, I])), ((-1536+0j), Pauli([I, X, Z, X, I])), ((512+0j), Pauli([X, X, Z, Z, Z])), ((-512-0j), Pauli([I, I, Y, Z, Y])), ((-512-0j), Pauli([Y, Z, Y, I, I])), ((512+0j), Pauli([Z, Z, Z, X, X])), ((-1536+0j), Pauli([I, I, I, Z, I])), ((-1536+0j), Pauli([I, I, X, Z, X])), ((-1536+0j), Pauli([X, I, I, X, Z])), ((-1536+0j), Pauli([I, I, I, I, Z]))]), SuperPauli([(2048j, Pauli([Y, I, I, X, Z])), (2048j, Pauli([Z, X, I, I, Y])), (2048j, Pauli([I, Y, Z, X, I])), (2048j, Pauli([X, Z, Y, I, I])), (2048j, Pauli([Z, Y, I, I, X])), (2048j, Pauli([Y, Z, X, I, I])), (2048j, Pauli([I, I, X, Z, Y])), (2048j, Pauli([X, I, I, Y, Z])), (-1024j, Pauli([Y, Z, Z, Z, X])), (-1024j, Pauli([Z, Y, X, Z, Z])), (-1024j, Pauli([Z, Z, Z, X, Y])), (-1024j, Pauli([Y, X, Z, Z, Z])), (2048j, Pauli([I, I, Y, Z, X])), (2048j, Pauli([I, X, Z, Y, I])), (-1024j, Pauli([Z, Z, Y, X, Z])), (-1024j, Pauli([X, Y, Z, Z, Z])), (-1024j, Pauli([Z, X, Y, Z, Z])), (-1024j, Pauli([Z, Z, Z, Y, X])), (-1024j, Pauli([Z, Z, X, Y, Z])), (-1024j, Pauli([X, Z, Z, Z, Y]))]), SuperPauli([((-24576+0j), Pauli([Z, I, I, I, I])), ((-16384+0j), Pauli([Z, X, I, I, X])), ((-24576+0j), Pauli([I, Z, I, I, I])), ((-16384+0j), Pauli([X, Z, X, I, I])), ((4096+0j), Pauli([Z, X, X, Z, Z])), ((4096+0j), Pauli([X, Z, Z, Z, X])), ((-16384+0j), Pauli([I, Y, Z, Y, I])), ((-16384+0j), Pauli([Y, I, I, Y, Z])), ((-24576+0j), Pauli([I, I, I, I, Z])), ((-16384+0j), Pauli([X, I, I, X, Z])), ((4096+0j), Pauli([Z, Z, Z, X, X])), ((-16384+0j), Pauli([Y, Z, Y, I, I])), ((-16384+0j), Pauli([I, I, Y, Z, Y])), ((4096+0j), Pauli([X, X, Z, Z, Z])), ((-16384+0j), Pauli([Z, Y, I, I, Y])), ((-16384+0j), Pauli([I, X, Z, X, I])), ((4096+0j), Pauli([Z, Y, Y, Z, Z])), ((4096+0j), Pauli([Y, Z, Z, Z, Y])), ((-16384+0j), Pauli([I, I, X, Z, X])), ((4096+0j), Pauli([Y, Y, Z, Z, Z])), ((4096+0j), Pauli([Z, Z, Z, Y, Y])), ((4096+0j), Pauli([Z, Z, X, X, Z])), ((-24576+0j), Pauli([I, I, Z, I, I])), ((4096+0j), Pauli([Z, Z, Y, Y, Z])), ((-24576+0j), Pauli([I, I, I, Z, I]))]), SuperPauli([((-24576+0j), Pauli([X, X, I, I, I])), ((-24576+0j), Pauli([X, I, I, I, X])), ((16384+0j), Pauli([Y, Y, I, I, I])), ((16384+0j), Pauli([Y, I, I, I, Y])), ((16384+0j), Pauli([X, Z, Z, X, I])), ((16384+0j), Pauli([X, I, X, Z, Z])), ((-4096+0j), Pauli([Y, Z, Z, Y, I])), ((-4096+0j), Pauli([Y, I, Y, Z, Z])), ((16384+0j), Pauli([Z, Z, X, I, X])), ((16384+0j), Pauli([Z, X, I, X, Z])), ((16384+0j), Pauli([I, Y, Y, I, I])), ((-4096+0j), Pauli([Z, Z, Z, Z, I])), ((16384+0j), Pauli([I, I, I, Y, Y])), ((-4096+0j), Pauli([Z, I, Z, Z, Z])), ((-24576+0j), Pauli([I, X, X, I, I])), ((16384+0j), Pauli([I, X, Z, Z, X])), ((-4096+0j), Pauli([Z, Y, I, Y, Z])), ((-4096+0j), Pauli([I, Y, Z, Z, Y])), ((-4096+0j), Pauli([Z, Z, I, Z, Z])), ((16384+0j), Pauli([I, I, Y, Y, I])), ((-4096+0j), Pauli([I, Z, Z, Z, Z])), ((-4096+0j), Pauli([Z, Z, Y, I, Y])), ((-24576+0j), Pauli([I, I, X, X, I])), ((-4096+0j), Pauli([Z, Z, Z, I, Z])), ((-24576+0j), Pauli([I, I, I, X, X]))])]\n",
      "n=6: length=17: algebra=[SuperPauli([(1, Pauli([Z, I, I, I, I, I])), (1, Pauli([I, Z, I, I, I, I])), (1, Pauli([I, I, Z, I, I, I])), (1, Pauli([I, I, I, Z, I, I])), (1, Pauli([I, I, I, I, Z, I])), (1, Pauli([I, I, I, I, I, Z]))]), SuperPauli([(1, Pauli([X, X, I, I, I, I])), (1, Pauli([I, X, X, I, I, I])), (1, Pauli([I, I, X, X, I, I])), (1, Pauli([I, I, I, X, X, I])), (1, Pauli([I, I, I, I, X, X])), (1, Pauli([X, I, I, I, I, X]))]), SuperPauli([(2j, Pauli([Y, X, I, I, I, I])), (2j, Pauli([Y, I, I, I, I, X])), (2j, Pauli([X, Y, I, I, I, I])), (2j, Pauli([I, Y, X, I, I, I])), (2j, Pauli([I, X, Y, I, I, I])), (2j, Pauli([I, I, Y, X, I, I])), (2j, Pauli([I, I, X, Y, I, I])), (2j, Pauli([I, I, I, Y, X, I])), (2j, Pauli([I, I, I, X, Y, I])), (2j, Pauli([I, I, I, I, Y, X])), (2j, Pauli([I, I, I, I, X, Y])), (2j, Pauli([X, I, I, I, I, Y]))]), SuperPauli([((8+0j), Pauli([X, X, I, I, I, I])), ((8+0j), Pauli([X, I, I, I, I, X])), ((-8+0j), Pauli([Y, Y, I, I, I, I])), ((-8+0j), Pauli([Y, I, I, I, I, Y])), ((8+0j), Pauli([I, X, X, I, I, I])), ((-8+0j), Pauli([I, Y, Y, I, I, I])), ((8+0j), Pauli([I, I, X, X, I, I])), ((-8+0j), Pauli([I, I, Y, Y, I, I])), ((8+0j), Pauli([I, I, I, X, X, I])), ((-8+0j), Pauli([I, I, I, Y, Y, I])), ((8+0j), Pauli([I, I, I, I, X, X])), ((-8+0j), Pauli([I, I, I, I, Y, Y]))]), SuperPauli([((-8+0j), Pauli([Z, I, I, I, I, I])), ((-8+0j), Pauli([Z, X, I, I, I, X])), ((-8+0j), Pauli([I, Z, I, I, I, I])), ((-8+0j), Pauli([X, Z, X, I, I, I])), ((-8+0j), Pauli([I, I, Z, I, I, I])), ((-8+0j), Pauli([I, X, Z, X, I, I])), ((-8+0j), Pauli([I, I, I, Z, I, I])), ((-8+0j), Pauli([I, I, X, Z, X, I])), ((-8+0j), Pauli([I, I, I, I, Z, I])), ((-8+0j), Pauli([I, I, I, X, Z, X])), ((-8+0j), Pauli([I, I, I, I, I, Z])), ((-8+0j), Pauli([X, I, I, I, X, Z]))]), SuperPauli([((-0-16j), Pauli([Y, Z, X, I, I, I])), ((-0-16j), Pauli([Y, I, I, I, X, Z])), ((-0-16j), Pauli([Z, Y, I, I, I, X])), ((-0-16j), Pauli([I, Y, Z, X, I, I])), ((-0-16j), Pauli([X, Z, Y, I, I, I])), ((-0-16j), Pauli([I, I, Y, Z, X, I])), ((-0-16j), Pauli([I, X, Z, Y, I, I])), ((-0-16j), Pauli([I, I, I, Y, Z, X])), ((-0-16j), Pauli([I, I, X, Z, Y, I])), ((-0-16j), Pauli([X, I, I, I, Y, Z])), ((-0-16j), Pauli([Z, X, I, I, I, Y])), ((-0-16j), Pauli([I, I, I, X, Z, Y]))]), SuperPauli([((128+0j), Pauli([Z, I, I, I, I, I])), ((64+0j), Pauli([Z, X, I, I, I, X])), ((128+0j), Pauli([I, Z, I, I, I, I])), ((64-0j), Pauli([Y, Z, Y, I, I, I])), ((128+0j), Pauli([I, I, I, I, I, Z])), ((64-0j), Pauli([Y, I, I, I, Y, Z])), ((64-0j), Pauli([Z, Y, I, I, I, Y])), ((64+0j), Pauli([X, Z, X, I, I, I])), ((128+0j), Pauli([I, I, Z, I, I, I])), ((64-0j), Pauli([I, Y, Z, Y, I, I])), ((64+0j), Pauli([I, X, Z, X, I, I])), ((128+0j), Pauli([I, I, I, Z, I, I])), ((64-0j), Pauli([I, I, Y, Z, Y, I])), ((64+0j), Pauli([I, I, X, Z, X, I])), ((128+0j), Pauli([I, I, I, I, Z, I])), ((64-0j), Pauli([I, I, I, Y, Z, Y])), ((64+0j), Pauli([I, I, I, X, Z, X])), ((64+0j), Pauli([X, I, I, I, X, Z]))]), SuperPauli([((128-0j), Pauli([X, X, I, I, I, I])), ((128-0j), Pauli([X, I, I, I, I, X])), ((-64+0j), Pauli([Y, Y, I, I, I, I])), ((-64+0j), Pauli([Z, X, I, I, X, Z])), ((-64+0j), Pauli([Z, Z, X, I, I, X])), ((-64+0j), Pauli([Y, I, I, I, I, Y])), ((128-0j), Pauli([I, X, X, I, I, I])), ((-64+0j), Pauli([X, Z, Z, X, I, I])), ((-64+0j), Pauli([I, Y, Y, I, I, I])), ((128-0j), Pauli([I, I, X, X, I, I])), ((-64+0j), Pauli([I, X, Z, Z, X, I])), ((-64+0j), Pauli([I, I, Y, Y, I, I])), ((128-0j), Pauli([I, I, I, X, X, I])), ((-64+0j), Pauli([I, I, X, Z, Z, X])), ((-64+0j), Pauli([I, I, I, Y, Y, I])), ((128-0j), Pauli([I, I, I, I, X, X])), ((-64+0j), Pauli([X, I, I, X, Z, Z])), ((-64+0j), Pauli([I, I, I, I, Y, Y]))]), SuperPauli([(384j, Pauli([Y, X, I, I, I, I])), (384j, Pauli([Y, I, I, I, I, X])), (384j, Pauli([X, Y, I, I, I, I])), (384j, Pauli([I, Y, X, I, I, I])), (384j, Pauli([X, I, I, I, I, Y])), (384j, Pauli([I, I, I, I, X, Y])), (-128j, Pauli([Y, Z, Z, X, I, I])), (-128j, Pauli([Z, Y, I, I, X, Z])), (-128j, Pauli([Z, Z, X, I, I, Y])), (-128j, Pauli([Y, I, I, X, Z, Z])), (384j, Pauli([I, X, Y, I, I, I])), (384j, Pauli([I, I, Y, X, I, I])), (-128j, Pauli([Z, Z, Y, I, I, X])), (-128j, Pauli([I, Y, Z, Z, X, I])), (384j, Pauli([I, I, X, Y, I, I])), (384j, Pauli([I, I, I, Y, X, I])), (-128j, Pauli([X, Z, Z, Y, I, I])), (-128j, Pauli([I, I, Y, Z, Z, X])), (384j, Pauli([I, I, I, X, Y, I])), (384j, Pauli([I, I, I, I, Y, X])), (-128j, Pauli([I, X, Z, Z, Y, I])), (-128j, Pauli([X, I, I, Y, Z, Z])), (-128j, Pauli([Z, X, I, I, Y, Z])), (-128j, Pauli([I, I, X, Z, Z, Y]))]), SuperPauli([((1536+0j), Pauli([X, X, I, I, I, I])), ((1536+0j), Pauli([X, I, I, I, I, X])), ((-1536+0j), Pauli([Y, Y, I, I, I, I])), ((-1536+0j), Pauli([Y, I, I, I, I, Y])), ((-512-0j), Pauli([X, Z, Z, X, I, I])), ((-512-0j), Pauli([X, I, I, X, Z, Z])), ((512+0j), Pauli([Y, Z, Z, Y, I, I])), ((512+0j), Pauli([Y, I, I, Y, Z, Z])), ((1536+0j), Pauli([I, X, X, I, I, I])), ((-512-0j), Pauli([Z, X, I, I, X, Z])), ((-1536+0j), Pauli([I, Y, Y, I, I, I])), ((-512-0j), Pauli([I, X, Z, Z, X, I])), ((512+0j), Pauli([I, Y, Z, Z, Y, I])), ((512+0j), Pauli([Z, Y, I, I, Y, Z])), ((512+0j), Pauli([Z, Z, Y, I, I, Y])), ((1536+0j), Pauli([I, I, X, X, I, I])), ((-512-0j), Pauli([Z, Z, X, I, I, X])), ((-1536+0j), Pauli([I, I, Y, Y, I, I])), ((-512-0j), Pauli([I, I, X, Z, Z, X])), ((512+0j), Pauli([I, I, Y, Z, Z, Y])), ((1536+0j), Pauli([I, I, I, X, X, I])), ((-1536+0j), Pauli([I, I, I, Y, Y, I])), ((-1536+0j), Pauli([I, I, I, I, Y, Y])), ((1536+0j), Pauli([I, I, I, I, X, X]))]), SuperPauli([((-1536+0j), Pauli([Z, I, I, I, I, I])), ((-1536+0j), Pauli([Z, X, I, I, I, X])), ((-1536+0j), Pauli([I, Z, I, I, I, I])), ((-1536+0j), Pauli([X, Z, X, I, I, I])), ((512+0j), Pauli([Z, X, I, X, Z, Z])), ((512+0j), Pauli([X, Z, Z, Z, X, I])), ((-512-0j), Pauli([I, Y, Z, Y, I, I])), ((-512-0j), Pauli([Y, I, I, I, Y, Z])), ((512+0j), Pauli([Z, Z, X, I, X, Z])), ((-512-0j), Pauli([Z, Y, I, I, I, Y])), ((-1536+0j), Pauli([I, I, Z, I, I, I])), ((-1536+0j), Pauli([I, X, Z, X, I, I])), ((512+0j), Pauli([I, X, Z, Z, Z, X])), ((-512-0j), Pauli([I, I, Y, Z, Y, I])), ((-512-0j), Pauli([Y, Z, Y, I, I, I])), ((512+0j), Pauli([Z, Z, Z, X, I, X])), ((-1536+0j), Pauli([I, I, I, Z, I, I])), ((-1536+0j), Pauli([I, I, X, Z, X, I])), ((512+0j), Pauli([X, I, X, Z, Z, Z])), ((-512-0j), Pauli([I, I, I, Y, Z, Y])), ((-1536+0j), Pauli([I, I, I, I, Z, I])), ((-1536+0j), Pauli([I, I, I, X, Z, X])), ((-1536+0j), Pauli([X, I, I, I, X, Z])), ((-1536+0j), Pauli([I, I, I, I, I, Z]))]), SuperPauli([(2048j, Pauli([Y, I, I, I, X, Z])), (2048j, Pauli([Z, X, I, I, I, Y])), (2048j, Pauli([I, Y, Z, X, I, I])), (2048j, Pauli([X, Z, Y, I, I, I])), (2048j, Pauli([Z, Y, I, I, I, X])), (2048j, Pauli([Y, Z, X, I, I, I])), (2048j, Pauli([I, I, I, X, Z, Y])), (2048j, Pauli([X, I, I, I, Y, Z])), (-1024j, Pauli([Y, Z, Z, Z, X, I])), (-1024j, Pauli([Z, Y, I, X, Z, Z])), (-1024j, Pauli([Z, Z, Z, X, I, Y])), (-1024j, Pauli([Y, I, X, Z, Z, Z])), (2048j, Pauli([I, I, Y, Z, X, I])), (2048j, Pauli([I, X, Z, Y, I, I])), (-1024j, Pauli([Z, Z, Y, I, X, Z])), (-1024j, Pauli([I, Y, Z, Z, Z, X])), (2048j, Pauli([I, I, I, Y, Z, X])), (2048j, Pauli([I, I, X, Z, Y, I])), (-1024j, Pauli([Z, Z, Z, Y, I, X])), (-1024j, Pauli([X, I, Y, Z, Z, Z])), (-1024j, Pauli([Z, X, I, Y, Z, Z])), (-1024j, Pauli([X, Z, Z, Z, Y, I])), (-1024j, Pauli([Z, Z, X, I, Y, Z])), (-1024j, Pauli([I, X, Z, Z, Z, Y]))]), SuperPauli([((-24576+0j), Pauli([Z, I, I, I, I, I])), ((-16384+0j), Pauli([Z, X, I, I, I, X])), ((-24576+0j), Pauli([I, Z, I, I, I, I])), ((-16384+0j), Pauli([X, Z, X, I, I, I])), ((4096+0j), Pauli([Z, X, I, X, Z, Z])), ((4096+0j), Pauli([X, Z, Z, Z, X, I])), ((-16384+0j), Pauli([I, Y, Z, Y, I, I])), ((-16384+0j), Pauli([Y, I, I, I, Y, Z])), ((-24576+0j), Pauli([I, I, I, I, I, Z])), ((-16384+0j), Pauli([X, I, I, I, X, Z])), ((4096+0j), Pauli([Z, Z, Z, X, I, X])), ((-16384+0j), Pauli([Y, Z, Y, I, I, I])), ((-16384+0j), Pauli([I, I, I, Y, Z, Y])), ((4096+0j), Pauli([X, I, X, Z, Z, Z])), ((-16384+0j), Pauli([Z, Y, I, I, I, Y])), ((-16384+0j), Pauli([I, X, Z, X, I, I])), ((4096+0j), Pauli([Y, Z, Z, Z, Y, I])), ((4096+0j), Pauli([Z, Y, I, Y, Z, Z])), ((-16384+0j), Pauli([I, I, I, X, Z, X])), ((4096+0j), Pauli([Z, Z, Z, Y, I, Y])), ((4096+0j), Pauli([Y, I, Y, Z, Z, Z])), ((4096+0j), Pauli([Z, Z, X, I, X, Z])), ((-24576+0j), Pauli([I, I, Z, I, I, I])), ((4096+0j), Pauli([I, X, Z, Z, Z, X])), ((-16384+0j), Pauli([I, I, Y, Z, Y, I])), ((-16384+0j), Pauli([I, I, X, Z, X, I])), ((4096+0j), Pauli([Z, Z, Y, I, Y, Z])), ((4096+0j), Pauli([I, Y, Z, Z, Z, Y])), ((-24576+0j), Pauli([I, I, I, Z, I, I])), ((-24576+0j), Pauli([I, I, I, I, Z, I]))]), SuperPauli([((-24576+0j), Pauli([X, X, I, I, I, I])), ((-24576+0j), Pauli([X, I, I, I, I, X])), ((16384+0j), Pauli([Y, Y, I, I, I, I])), ((16384+0j), Pauli([Y, I, I, I, I, Y])), ((16384+0j), Pauli([X, Z, Z, X, I, I])), ((16384+0j), Pauli([X, I, I, X, Z, Z])), ((-4096+0j), Pauli([Y, Z, Z, Y, I, I])), ((-4096+0j), Pauli([Y, I, I, Y, Z, Z])), ((16384+0j), Pauli([Z, Z, X, I, I, X])), ((16384+0j), Pauli([Z, X, I, I, X, Z])), ((16384+0j), Pauli([I, Y, Y, I, I, I])), ((-4096+0j), Pauli([Z, Z, Z, Z, X, X])), ((16384+0j), Pauli([I, I, I, I, Y, Y])), ((-4096+0j), Pauli([Z, X, X, Z, Z, Z])), ((-24576+0j), Pauli([I, X, X, I, I, I])), ((16384+0j), Pauli([I, X, Z, Z, X, I])), ((-4096+0j), Pauli([I, Y, Z, Z, Y, I])), ((-4096+0j), Pauli([Z, Y, I, I, Y, Z])), ((-4096+0j), Pauli([Z, Z, X, X, Z, Z])), ((16384+0j), Pauli([I, I, Y, Y, I, I])), ((-4096+0j), Pauli([X, Z, Z, Z, Z, X])), ((-4096+0j), Pauli([Z, Z, Y, I, I, Y])), ((-24576+0j), Pauli([I, I, X, X, I, I])), ((16384+0j), Pauli([I, I, X, Z, Z, X])), ((-4096+0j), Pauli([I, I, Y, Z, Z, Y])), ((-4096+0j), Pauli([Z, Z, Z, X, X, Z])), ((16384+0j), Pauli([I, I, I, Y, Y, I])), ((-4096+0j), Pauli([X, X, Z, Z, Z, Z])), ((-24576+0j), Pauli([I, I, I, X, X, I])), ((-24576+0j), Pauli([I, I, I, I, X, X]))]), SuperPauli([(81920j, Pauli([Y, X, I, I, I, I])), (81920j, Pauli([Y, I, I, I, I, X])), (81920j, Pauli([X, Y, I, I, I, I])), (81920j, Pauli([X, I, I, I, I, Y])), (-40960j, Pauli([Y, Z, Z, X, I, I])), (-40960j, Pauli([Y, I, I, X, Z, Z])), (81920j, Pauli([I, I, I, I, X, Y])), (81920j, Pauli([I, Y, X, I, I, I])), (-40960j, Pauli([Z, Z, Y, I, I, X])), (-40960j, Pauli([Z, X, I, I, Y, Z])), (-40960j, Pauli([Z, Y, I, I, X, Z])), (81920j, Pauli([I, X, Y, I, I, I])), (-40960j, Pauli([I, Y, Z, Z, X, I])), (8192j, Pauli([Y, Z, Z, Z, Z, X])), (8192j, Pauli([Z, Z, Y, X, Z, Z])), (-40960j, Pauli([Z, Z, X, I, I, Y])), (-40960j, Pauli([I, I, X, Z, Z, Y])), (81920j, Pauli([I, I, I, I, Y, X])), (8192j, Pauli([Z, Z, Z, X, Y, Z])), (8192j, Pauli([Y, X, Z, Z, Z, Z])), (8192j, Pauli([Z, Z, Z, Z, X, Y])), (8192j, Pauli([Z, Y, X, Z, Z, Z])), (81920j, Pauli([I, I, Y, X, I, I])), (-40960j, Pauli([X, Z, Z, Y, I, I])), (81920j, Pauli([I, I, X, Y, I, I])), (-40960j, Pauli([I, I, Y, Z, Z, X])), (8192j, Pauli([Z, Z, Z, Y, X, Z])), (8192j, Pauli([X, Y, Z, Z, Z, Z])), (81920j, Pauli([I, I, I, Y, X, I])), (-40960j, Pauli([I, X, Z, Z, Y, I])), (81920j, Pauli([I, I, I, X, Y, I])), (-40960j, Pauli([X, I, I, Y, Z, Z])), (8192j, Pauli([Z, X, Y, Z, Z, Z])), (8192j, Pauli([Z, Z, Z, Z, Y, X])), (8192j, Pauli([Z, Z, X, Y, Z, Z])), (8192j, Pauli([X, Z, Z, Z, Z, Y]))]), SuperPauli([((327680+0j), Pauli([X, X, I, I, I, I])), ((327680+0j), Pauli([X, I, I, I, I, X])), ((-327680+0j), Pauli([Y, Y, I, I, I, I])), ((-327680+0j), Pauli([Y, I, I, I, I, Y])), ((-163840+0j), Pauli([X, Z, Z, X, I, I])), ((-163840+0j), Pauli([X, I, I, X, Z, Z])), ((163840+0j), Pauli([Y, Z, Z, Y, I, I])), ((163840+0j), Pauli([Y, I, I, Y, Z, Z])), ((-163840+0j), Pauli([Z, Z, X, I, I, X])), ((-163840+0j), Pauli([Z, X, I, I, X, Z])), ((-327680+0j), Pauli([I, Y, Y, I, I, I])), ((32768+0j), Pauli([Z, Z, Z, Z, X, X])), ((-327680+0j), Pauli([I, I, I, I, Y, Y])), ((32768+0j), Pauli([Z, X, X, Z, Z, Z])), ((327680+0j), Pauli([I, X, X, I, I, I])), ((-163840+0j), Pauli([I, X, Z, Z, X, I])), ((163840+0j), Pauli([I, Y, Z, Z, Y, I])), ((163840+0j), Pauli([Z, Y, I, I, Y, Z])), ((163840+0j), Pauli([Z, Z, Y, I, I, Y])), ((327680+0j), Pauli([I, I, X, X, I, I])), ((-32768-0j), Pauli([Z, Z, Y, Y, Z, Z])), ((-32768-0j), Pauli([Y, Z, Z, Z, Z, Y])), ((327680+0j), Pauli([I, I, I, I, X, X])), ((163840+0j), Pauli([I, I, Y, Z, Z, Y])), ((-163840+0j), Pauli([I, I, X, Z, Z, X])), ((327680+0j), Pauli([I, I, I, X, X, I])), ((-32768-0j), Pauli([Y, Y, Z, Z, Z, Z])), ((-32768-0j), Pauli([Z, Z, Z, Y, Y, Z])), ((-32768-0j), Pauli([Z, Y, Y, Z, Z, Z])), ((-32768-0j), Pauli([Z, Z, Z, Z, Y, Y])), ((32768+0j), Pauli([Z, Z, X, X, Z, Z])), ((-327680+0j), Pauli([I, I, Y, Y, I, I])), ((32768+0j), Pauli([X, Z, Z, Z, Z, X])), ((32768+0j), Pauli([Z, Z, Z, X, X, Z])), ((-327680+0j), Pauli([I, I, I, Y, Y, I])), ((32768+0j), Pauli([X, X, Z, Z, Z, Z]))]), SuperPauli([((-327680+0j), Pauli([Z, I, I, I, I, I])), ((-327680+0j), Pauli([Z, X, I, I, I, X])), ((-327680+0j), Pauli([I, Z, I, I, I, I])), ((-327680+0j), Pauli([X, Z, X, I, I, I])), ((163840+0j), Pauli([Z, X, I, X, Z, Z])), ((163840+0j), Pauli([X, Z, Z, Z, X, I])), ((-163840+0j), Pauli([I, Y, Z, Y, I, I])), ((-163840+0j), Pauli([Y, I, I, I, Y, Z])), ((-327680+0j), Pauli([I, I, I, I, I, Z])), ((-327680+0j), Pauli([X, I, I, I, X, Z])), ((163840+0j), Pauli([Z, Z, Z, X, I, X])), ((-163840+0j), Pauli([Y, Z, Y, I, I, I])), ((-163840+0j), Pauli([I, I, I, Y, Z, Y])), ((163840+0j), Pauli([X, I, X, Z, Z, Z])), ((-163840+0j), Pauli([Z, Y, I, I, I, Y])), ((-327680+0j), Pauli([I, X, Z, X, I, I])), ((32768+0j), Pauli([Y, Z, Z, Z, Y, I])), ((32768+0j), Pauli([Z, Y, I, Y, Z, Z])), ((163840+0j), Pauli([Z, Z, X, I, X, Z])), ((-32768+0j), Pauli([Z, Z, Z, Z, I, Z])), ((-32768+0j), Pauli([Z, I, Z, Z, Z, Z])), ((-327680+0j), Pauli([I, I, I, I, Z, I])), ((-327680+0j), Pauli([I, I, Z, I, I, I])), ((-32768+0j), Pauli([Z, Z, Z, Z, Z, I])), ((-32768+0j), Pauli([Z, Z, I, Z, Z, Z])), ((-327680+0j), Pauli([I, I, I, X, Z, X])), ((32768+0j), Pauli([Z, Z, Z, Y, I, Y])), ((32768+0j), Pauli([Y, I, Y, Z, Z, Z])), ((163840+0j), Pauli([I, X, Z, Z, Z, X])), ((-163840+0j), Pauli([I, I, Y, Z, Y, I])), ((-32768+0j), Pauli([Z, Z, Z, I, Z, Z])), ((-327680+0j), Pauli([I, I, I, Z, I, I])), ((-32768+0j), Pauli([I, Z, Z, Z, Z, Z])), ((-327680+0j), Pauli([I, I, X, Z, X, I])), ((32768+0j), Pauli([Z, Z, Y, I, Y, Z])), ((32768+0j), Pauli([I, Y, Z, Z, Z, Y]))])]\n"
     ]
    },
    {
     "ename": "KeyboardInterrupt",
     "evalue": "",
     "output_type": "error",
     "traceback": [
      "\u001b[1;31m---------------------------------------------------------------------------\u001b[0m",
      "\u001b[1;31mKeyboardInterrupt\u001b[0m                         Traceback (most recent call last)",
      "Cell \u001b[1;32mIn[4], line 7\u001b[0m\n\u001b[0;32m      5\u001b[0m op1 \u001b[38;5;241m=\u001b[39m H[n\u001b[38;5;241m-\u001b[39m\u001b[38;5;241m3\u001b[39m][\u001b[38;5;241m0\u001b[39m]\n\u001b[0;32m      6\u001b[0m op2 \u001b[38;5;241m=\u001b[39m H[n\u001b[38;5;241m-\u001b[39m\u001b[38;5;241m3\u001b[39m][\u001b[38;5;241m1\u001b[39m]\n\u001b[1;32m----> 7\u001b[0m alg_full \u001b[38;5;241m=\u001b[39m \u001b[43mpauli_complete_algebra\u001b[49m\u001b[43m(\u001b[49m\u001b[43m[\u001b[49m\u001b[43mop1\u001b[49m\u001b[43m,\u001b[49m\u001b[43m \u001b[49m\u001b[43mop2\u001b[49m\u001b[43m]\u001b[49m\u001b[43m,\u001b[49m\u001b[43m \u001b[49m\u001b[38;5;241;43m30\u001b[39;49m\u001b[43m)\u001b[49m\n\u001b[0;32m      8\u001b[0m \u001b[38;5;28mprint\u001b[39m(\u001b[38;5;124mf\u001b[39m\u001b[38;5;124m\"\u001b[39m\u001b[38;5;124mn=\u001b[39m\u001b[38;5;132;01m{\u001b[39;00mn\u001b[38;5;132;01m}\u001b[39;00m\u001b[38;5;124m: length=\u001b[39m\u001b[38;5;132;01m{\u001b[39;00m\u001b[38;5;28mlen\u001b[39m(alg_full)\u001b[38;5;132;01m}\u001b[39;00m\u001b[38;5;124m: algebra=\u001b[39m\u001b[38;5;132;01m{\u001b[39;00malg_full\u001b[38;5;132;01m}\u001b[39;00m\u001b[38;5;124m\"\u001b[39m)\n",
      "File \u001b[1;32mc:\\Users\\elean\\Documents\\Imperial College London\\Mathematics Undergraduate\\Year 4\\M4R\\Lie Algebras Code\\Lie-algebras\\Lie_algebras.py:826\u001b[0m, in \u001b[0;36mpauli_complete_algebra\u001b[1;34m(Ops, max, start)\u001b[0m\n\u001b[0;32m    822\u001b[0m n \u001b[38;5;241m=\u001b[39m \u001b[38;5;241m0\u001b[39m\n\u001b[0;32m    824\u001b[0m \u001b[38;5;28;01mwhile\u001b[39;00m \u001b[38;5;28;01mTrue\u001b[39;00m:\n\u001b[0;32m    825\u001b[0m     \u001b[38;5;66;03m# find new set of linearly independent operators to extend old_Ops\u001b[39;00m\n\u001b[1;32m--> 826\u001b[0m     new_Ops, n, old_basis, old_pauli_vecs \u001b[38;5;241m=\u001b[39m \u001b[43mpauli_complete_algebra_inner\u001b[49m\u001b[43m(\u001b[49m\u001b[43mold_Ops\u001b[49m\u001b[43m,\u001b[49m\u001b[43m \u001b[49m\u001b[43mstart\u001b[49m\u001b[43m,\u001b[49m\u001b[43m \u001b[49m\u001b[43mn\u001b[49m\u001b[43m,\u001b[49m\u001b[43m \u001b[49m\u001b[43mold_basis\u001b[49m\u001b[43m,\u001b[49m\u001b[43m \u001b[49m\u001b[43mold_pauli_vecs\u001b[49m\u001b[43m)\u001b[49m\n\u001b[0;32m    828\u001b[0m     \u001b[38;5;66;03m# number of new operators added\u001b[39;00m\n\u001b[0;32m    829\u001b[0m     added_ops \u001b[38;5;241m=\u001b[39m \u001b[38;5;28mlen\u001b[39m(new_Ops) \u001b[38;5;241m-\u001b[39m \u001b[38;5;28mlen\u001b[39m(old_Ops)\n",
      "File \u001b[1;32mc:\\Users\\elean\\Documents\\Imperial College London\\Mathematics Undergraduate\\Year 4\\M4R\\Lie Algebras Code\\Lie-algebras\\Lie_algebras.py:779\u001b[0m, in \u001b[0;36mpauli_complete_algebra_inner\u001b[1;34m(Ops, start, n, old_basis, old_pauli_vecs)\u001b[0m\n\u001b[0;32m    777\u001b[0m \u001b[38;5;28;01mfor\u001b[39;00m i \u001b[38;5;129;01min\u001b[39;00m \u001b[38;5;28mrange\u001b[39m(\u001b[38;5;28mlen\u001b[39m(Ops)):\n\u001b[0;32m    778\u001b[0m     \u001b[38;5;28;01mfor\u001b[39;00m j \u001b[38;5;129;01min\u001b[39;00m \u001b[38;5;28mrange\u001b[39m(\u001b[38;5;28mmax\u001b[39m(i\u001b[38;5;241m+\u001b[39m\u001b[38;5;241m1\u001b[39m, start), \u001b[38;5;28mlen\u001b[39m(Ops)):\n\u001b[1;32m--> 779\u001b[0m         new_op \u001b[38;5;241m=\u001b[39m \u001b[43mcomm\u001b[49m\u001b[43m(\u001b[49m\u001b[43mnew_Ops\u001b[49m\u001b[43m[\u001b[49m\u001b[43mi\u001b[49m\u001b[43m]\u001b[49m\u001b[43m,\u001b[49m\u001b[43m \u001b[49m\u001b[43mnew_Ops\u001b[49m\u001b[43m[\u001b[49m\u001b[43mj\u001b[49m\u001b[43m]\u001b[49m\u001b[43m)\u001b[49m\n\u001b[0;32m    780\u001b[0m         new_Ops\u001b[38;5;241m.\u001b[39mappend(new_op)\n\u001b[0;32m    781\u001b[0m         lind, old_basis, old_pauli_vecs \u001b[38;5;241m=\u001b[39m lin_ind(new_Ops, n, old_basis, old_pauli_vecs)\n",
      "File \u001b[1;32mc:\\Users\\elean\\Documents\\Imperial College London\\Mathematics Undergraduate\\Year 4\\M4R\\Lie Algebras Code\\Lie-algebras\\Lie_algebras.py:671\u001b[0m, in \u001b[0;36mcomm\u001b[1;34m(A, B)\u001b[0m\n\u001b[0;32m    669\u001b[0m \u001b[38;5;28;01mfor\u001b[39;00m i \u001b[38;5;129;01min\u001b[39;00m \u001b[38;5;28mrange\u001b[39m(\u001b[38;5;28mlen\u001b[39m(A)):\n\u001b[0;32m    670\u001b[0m     \u001b[38;5;28;01mfor\u001b[39;00m j \u001b[38;5;129;01min\u001b[39;00m \u001b[38;5;28mrange\u001b[39m(\u001b[38;5;28mlen\u001b[39m(B)):\n\u001b[1;32m--> 671\u001b[0m         C, aoc \u001b[38;5;241m=\u001b[39m \u001b[43macomm_comm\u001b[49m\u001b[43m(\u001b[49m\u001b[43ma_pauli_list\u001b[49m\u001b[43m[\u001b[49m\u001b[43mi\u001b[49m\u001b[43m]\u001b[49m\u001b[43m,\u001b[49m\u001b[43m \u001b[49m\u001b[43mb_pauli_list\u001b[49m\u001b[43m[\u001b[49m\u001b[43mj\u001b[49m\u001b[43m]\u001b[49m\u001b[43m)\u001b[49m\n\u001b[0;32m    672\u001b[0m         \u001b[38;5;28;01mif\u001b[39;00m \u001b[38;5;129;01mnot\u001b[39;00m aoc:\n\u001b[0;32m    673\u001b[0m             \u001b[38;5;28;01mif\u001b[39;00m C\u001b[38;5;241m.\u001b[39mpauli_list[\u001b[38;5;241m0\u001b[39m] \u001b[38;5;129;01min\u001b[39;00m basis:\n",
      "File \u001b[1;32mc:\\Users\\elean\\Documents\\Imperial College London\\Mathematics Undergraduate\\Year 4\\M4R\\Lie Algebras Code\\Lie-algebras\\Lie_algebras.py:638\u001b[0m, in \u001b[0;36macomm_comm\u001b[1;34m(A, B)\u001b[0m\n\u001b[0;32m    635\u001b[0m \u001b[38;5;28;01mif\u001b[39;00m coeff\u001b[38;5;241m.\u001b[39mimag \u001b[38;5;241m!=\u001b[39m \u001b[38;5;241m0\u001b[39m:\n\u001b[0;32m    636\u001b[0m     aoc \u001b[38;5;241m=\u001b[39m \u001b[38;5;28;01mFalse\u001b[39;00m\n\u001b[1;32m--> 638\u001b[0m C \u001b[38;5;241m=\u001b[39m SuperPauli([(\u001b[38;5;241m2\u001b[39m \u001b[38;5;241m*\u001b[39m coeff, \u001b[43mPauli\u001b[49m\u001b[43m(\u001b[49m\u001b[43mdecomp\u001b[49m\u001b[43m)\u001b[49m)])\n\u001b[0;32m    640\u001b[0m \u001b[38;5;28;01mreturn\u001b[39;00m C, aoc\n",
      "File \u001b[1;32mc:\\Users\\elean\\Documents\\Imperial College London\\Mathematics Undergraduate\\Year 4\\M4R\\Lie Algebras Code\\Lie-algebras\\Lie_algebras.py:272\u001b[0m, in \u001b[0;36mPauli.__init__\u001b[1;34m(self, decomp)\u001b[0m\n\u001b[0;32m    270\u001b[0m         q_decomp \u001b[38;5;241m=\u001b[39m np\u001b[38;5;241m.\u001b[39mappend(q_decomp, \u001b[38;5;241m2\u001b[39m)\n\u001b[0;32m    271\u001b[0m     \u001b[38;5;28;01melse\u001b[39;00m:\n\u001b[1;32m--> 272\u001b[0m         q_decomp \u001b[38;5;241m=\u001b[39m \u001b[43mnp\u001b[49m\u001b[38;5;241;43m.\u001b[39;49m\u001b[43mappend\u001b[49m\u001b[43m(\u001b[49m\u001b[43mq_decomp\u001b[49m\u001b[43m,\u001b[49m\u001b[43m \u001b[49m\u001b[38;5;241;43m3\u001b[39;49m\u001b[43m)\u001b[49m\n\u001b[0;32m    274\u001b[0m \u001b[38;5;66;03m# set attributes\u001b[39;00m\n\u001b[0;32m    275\u001b[0m \u001b[38;5;28mself\u001b[39m\u001b[38;5;241m.\u001b[39mdecomp \u001b[38;5;241m=\u001b[39m decomp\n",
      "File \u001b[1;32mc:\\Users\\elean\\Documents\\Imperial College London\\Mathematics Undergraduate\\Year 4\\M4R\\Lie Algebras Code\\lie_venv\\lib\\site-packages\\numpy\\lib\\function_base.py:5617\u001b[0m, in \u001b[0;36mappend\u001b[1;34m(arr, values, axis)\u001b[0m\n\u001b[0;32m   5615\u001b[0m     values \u001b[38;5;241m=\u001b[39m ravel(values)\n\u001b[0;32m   5616\u001b[0m     axis \u001b[38;5;241m=\u001b[39m arr\u001b[38;5;241m.\u001b[39mndim\u001b[38;5;241m-\u001b[39m\u001b[38;5;241m1\u001b[39m\n\u001b[1;32m-> 5617\u001b[0m \u001b[38;5;28;01mreturn\u001b[39;00m \u001b[43mconcatenate\u001b[49m\u001b[43m(\u001b[49m\u001b[43m(\u001b[49m\u001b[43marr\u001b[49m\u001b[43m,\u001b[49m\u001b[43m \u001b[49m\u001b[43mvalues\u001b[49m\u001b[43m)\u001b[49m\u001b[43m,\u001b[49m\u001b[43m \u001b[49m\u001b[43maxis\u001b[49m\u001b[38;5;241;43m=\u001b[39;49m\u001b[43maxis\u001b[49m\u001b[43m)\u001b[49m\n",
      "\u001b[1;31mKeyboardInterrupt\u001b[0m: "
     ]
    }
   ],
   "source": [
    "# completing H without using invariants (warning: takes 3min40 to run!)\n",
    "\n",
    "print(\"The full algebra: (n:length:algebra)\")\n",
    "for n in range(3, 8):\n",
    "    op1 = H[n-3][0]\n",
    "    op2 = H[n-3][1]\n",
    "    alg_full = pauli_complete_algebra([op1, op2], 30)\n",
    "    print(f\"n={n}: length={len(alg_full)}: algebra={alg_full}\")"
   ]
  },
  {
   "cell_type": "code",
   "execution_count": 5,
   "metadata": {},
   "outputs": [
    {
     "name": "stdout",
     "output_type": "stream",
     "text": [
      "Hello world\n"
     ]
    }
   ],
   "source": [
    "print(\"Hello world\")"
   ]
  },
  {
   "cell_type": "code",
   "execution_count": 3,
   "metadata": {},
   "outputs": [
    {
     "name": "stdout",
     "output_type": "stream",
     "text": [
      "Invariant = Z_1Z_n: (n:length:algebra)\n",
      "n=3: length=4: algebra=[SuperPauli([(1, Pauli([Z, I, Z]))]), SuperPauli([(2j, Pauli([Y, X, Z])), (2j, Pauli([Z, X, Y]))]), SuperPauli([((4+0j), Pauli([X, X, I])), ((4+0j), Pauli([I, X, X]))]), SuperPauli([((32+0j), Pauli([Z, I, Z])), ((-32+0j), Pauli([Y, I, Y]))])]\n",
      "n=4: length=4: algebra=[SuperPauli([(1, Pauli([Z, I, I, Z]))]), SuperPauli([(2j, Pauli([Y, X, I, Z])), (2j, Pauli([Z, I, X, Y]))]), SuperPauli([((4+0j), Pauli([X, X, I, I])), ((4+0j), Pauli([I, I, X, X]))]), SuperPauli([((32+0j), Pauli([Z, I, I, Z])), ((-32+0j), Pauli([Y, X, X, Y]))])]\n",
      "n=5: length=4: algebra=[SuperPauli([(1, Pauli([Z, I, I, I, Z]))]), SuperPauli([(2j, Pauli([Y, X, I, I, Z])), (2j, Pauli([Z, I, I, X, Y]))]), SuperPauli([((4+0j), Pauli([X, X, I, I, I])), ((4+0j), Pauli([I, I, I, X, X]))]), SuperPauli([((32+0j), Pauli([Z, I, I, I, Z])), ((-32+0j), Pauli([Y, X, I, X, Y]))])]\n",
      "n=6: length=4: algebra=[SuperPauli([(1, Pauli([Z, I, I, I, I, Z]))]), SuperPauli([(2j, Pauli([Y, X, I, I, I, Z])), (2j, Pauli([Z, I, I, I, X, Y]))]), SuperPauli([((4+0j), Pauli([X, X, I, I, I, I])), ((4+0j), Pauli([I, I, I, I, X, X]))]), SuperPauli([((32+0j), Pauli([Z, I, I, I, I, Z])), ((-32+0j), Pauli([Y, X, I, I, X, Y]))])]\n",
      "n=7: length=4: algebra=[SuperPauli([(1, Pauli([Z, I, I, I, I, I, Z]))]), SuperPauli([(2j, Pauli([Y, X, I, I, I, I, Z])), (2j, Pauli([Z, I, I, I, I, X, Y]))]), SuperPauli([((4+0j), Pauli([X, X, I, I, I, I, I])), ((4+0j), Pauli([I, I, I, I, I, X, X]))]), SuperPauli([((32+0j), Pauli([Z, I, I, I, I, I, Z])), ((-32+0j), Pauli([Y, X, I, I, I, X, Y]))])]\n"
     ]
    }
   ],
   "source": [
    "# finding algebra with Inv = Z_1Z_n\n",
    "\n",
    "Inv = []\n",
    "for n in range(3, 8):\n",
    "    ops3 = [I for i in range(n)]\n",
    "    ops3[0], ops3[n-1] = Z, Z\n",
    "    op3 = Pauli(ops3)\n",
    "    Inv.append(op3)\n",
    "\n",
    "print(\"Invariant = Z_1Z_n: (n:length:algebra)\")\n",
    "for n in range(3, 8):\n",
    "    op1 = H[n-3][0]\n",
    "    op2 = H[n-3][1]\n",
    "    op3 = Inv[n-3]\n",
    "    alg = pauli_find_algebra([op3], [op1, op2], 10)\n",
    "    print(f\"n={n}: length={len(alg)}: algebra={alg}\")"
   ]
  },
  {
   "cell_type": "code",
   "execution_count": 4,
   "metadata": {},
   "outputs": [
    {
     "name": "stdout",
     "output_type": "stream",
     "text": [
      "Invariant = X_1X_n: (n:length:algebra)\n",
      "n=3: length=4: algebra=[SuperPauli([(1, Pauli([X, I, X]))]), SuperPauli([(-2j, Pauli([Y, I, X])), (-2j, Pauli([X, I, Y]))]), SuperPauli([((4+0j), Pauli([Z, I, I])), ((4+0j), Pauli([I, I, Z]))]), SuperPauli([((32+0j), Pauli([X, I, X])), ((-32-0j), Pauli([Y, I, Y]))])]\n",
      "n=4: length=4: algebra=[SuperPauli([(1, Pauli([X, I, I, X]))]), SuperPauli([(-2j, Pauli([Y, I, I, X])), (-2j, Pauli([X, I, I, Y]))]), SuperPauli([((4+0j), Pauli([Z, I, I, I])), ((4+0j), Pauli([I, I, I, Z]))]), SuperPauli([((32+0j), Pauli([X, I, I, X])), ((-32-0j), Pauli([Y, I, I, Y]))])]\n",
      "n=5: length=4: algebra=[SuperPauli([(1, Pauli([X, I, I, I, X]))]), SuperPauli([(-2j, Pauli([Y, I, I, I, X])), (-2j, Pauli([X, I, I, I, Y]))]), SuperPauli([((4+0j), Pauli([Z, I, I, I, I])), ((4+0j), Pauli([I, I, I, I, Z]))]), SuperPauli([((32+0j), Pauli([X, I, I, I, X])), ((-32-0j), Pauli([Y, I, I, I, Y]))])]\n",
      "n=6: length=4: algebra=[SuperPauli([(1, Pauli([X, I, I, I, I, X]))]), SuperPauli([(-2j, Pauli([Y, I, I, I, I, X])), (-2j, Pauli([X, I, I, I, I, Y]))]), SuperPauli([((4+0j), Pauli([Z, I, I, I, I, I])), ((4+0j), Pauli([I, I, I, I, I, Z]))]), SuperPauli([((32+0j), Pauli([X, I, I, I, I, X])), ((-32-0j), Pauli([Y, I, I, I, I, Y]))])]\n",
      "n=7: length=4: algebra=[SuperPauli([(1, Pauli([X, I, I, I, I, I, X]))]), SuperPauli([(-2j, Pauli([Y, I, I, I, I, I, X])), (-2j, Pauli([X, I, I, I, I, I, Y]))]), SuperPauli([((4+0j), Pauli([Z, I, I, I, I, I, I])), ((4+0j), Pauli([I, I, I, I, I, I, Z]))]), SuperPauli([((32+0j), Pauli([X, I, I, I, I, I, X])), ((-32-0j), Pauli([Y, I, I, I, I, I, Y]))])]\n"
     ]
    }
   ],
   "source": [
    "# finding algebra with Inv = X_1X_n\n",
    "\n",
    "Inv = []\n",
    "for n in range(3, 8):\n",
    "    ops3 = [I for i in range(n)]\n",
    "    ops3[0], ops3[n-1] = X, X\n",
    "    op3 = Pauli(ops3)\n",
    "    Inv.append(op3)\n",
    "\n",
    "print(\"Invariant = X_1X_n: (n:length:algebra)\")\n",
    "for n in range(3, 8):\n",
    "    op1 = H[n-3][0]\n",
    "    op2 = H[n-3][1]\n",
    "    op3 = Inv[n-3]\n",
    "    alg = pauli_find_algebra([op3], [op1, op2], 10)\n",
    "    print(f\"n={n}: length={len(alg)}: algebra={alg}\")"
   ]
  },
  {
   "cell_type": "code",
   "execution_count": 5,
   "metadata": {},
   "outputs": [
    {
     "name": "stdout",
     "output_type": "stream",
     "text": [
      "Invariant = X_1Y_n: (n:length:algebra)\n",
      "n=3: length=10: algebra=[SuperPauli([(1, Pauli([X, I, Y]))]), SuperPauli([(-2j, Pauli([Y, I, Y])), (2j, Pauli([X, I, X]))]), SuperPauli([(-2j, Pauli([X, X, Z])), (-2j, Pauli([I, I, Z]))]), SuperPauli([((4+0j), Pauli([Z, I, I])), ((4+0j), Pauli([I, I, Z]))]), SuperPauli([((4+0j), Pauli([I, X, X])), ((4+0j), Pauli([X, I, X]))]), SuperPauli([(-8j, Pauli([Y, I, X])), (-8j, Pauli([I, X, Y])), (-8j, Pauli([X, I, Y]))]), SuperPauli([((32+0j), Pauli([X, I, Y])), ((32+0j), Pauli([Y, I, X]))]), SuperPauli([((-16-0j), Pauli([Y, X, Z]))]), SuperPauli([(64j, Pauli([I, I, Z])), (64j, Pauli([Z, I, I])), (32j, Pauli([X, X, Z]))]), SuperPauli([((-0+64j), Pauli([X, I, X])), ((-0+64j), Pauli([I, X, X])), (-32j, Pauli([Y, I, Y]))])]\n",
      "n=4: length=10: algebra=[SuperPauli([(1, Pauli([X, I, I, Y]))]), SuperPauli([(-2j, Pauli([Y, I, I, Y])), (2j, Pauli([X, I, I, X]))]), SuperPauli([(-2j, Pauli([X, I, X, Z])), (-2j, Pauli([I, I, I, Z]))]), SuperPauli([((4+0j), Pauli([Z, I, I, I])), ((4+0j), Pauli([I, I, I, Z]))]), SuperPauli([((4+0j), Pauli([I, I, X, X])), ((4+0j), Pauli([X, I, I, X]))]), SuperPauli([(-8j, Pauli([Y, I, I, X])), (-8j, Pauli([I, I, X, Y])), (-8j, Pauli([X, I, I, Y]))]), SuperPauli([((32+0j), Pauli([X, I, I, Y])), ((32+0j), Pauli([Y, I, I, X]))]), SuperPauli([((-16-0j), Pauli([Y, I, X, Z]))]), SuperPauli([(64j, Pauli([I, I, I, Z])), (64j, Pauli([Z, I, I, I])), (32j, Pauli([X, I, X, Z]))]), SuperPauli([((-0+64j), Pauli([X, I, I, X])), ((-0+64j), Pauli([I, I, X, X])), (-32j, Pauli([Y, I, I, Y]))])]\n",
      "n=5: length=10: algebra=[SuperPauli([(1, Pauli([X, I, I, I, Y]))]), SuperPauli([(-2j, Pauli([Y, I, I, I, Y])), (2j, Pauli([X, I, I, I, X]))]), SuperPauli([(-2j, Pauli([X, I, I, X, Z])), (-2j, Pauli([I, I, I, I, Z]))]), SuperPauli([((4+0j), Pauli([Z, I, I, I, I])), ((4+0j), Pauli([I, I, I, I, Z]))]), SuperPauli([((4+0j), Pauli([I, I, I, X, X])), ((4+0j), Pauli([X, I, I, I, X]))]), SuperPauli([(-8j, Pauli([Y, I, I, I, X])), (-8j, Pauli([I, I, I, X, Y])), (-8j, Pauli([X, I, I, I, Y]))]), SuperPauli([((32+0j), Pauli([X, I, I, I, Y])), ((32+0j), Pauli([Y, I, I, I, X]))]), SuperPauli([((-16-0j), Pauli([Y, I, I, X, Z]))]), SuperPauli([(64j, Pauli([I, I, I, I, Z])), (64j, Pauli([Z, I, I, I, I])), (32j, Pauli([X, I, I, X, Z]))]), SuperPauli([((-0+64j), Pauli([X, I, I, I, X])), ((-0+64j), Pauli([I, I, I, X, X])), (-32j, Pauli([Y, I, I, I, Y]))])]\n",
      "n=6: length=10: algebra=[SuperPauli([(1, Pauli([X, I, I, I, I, Y]))]), SuperPauli([(-2j, Pauli([Y, I, I, I, I, Y])), (2j, Pauli([X, I, I, I, I, X]))]), SuperPauli([(-2j, Pauli([X, I, I, I, X, Z])), (-2j, Pauli([I, I, I, I, I, Z]))]), SuperPauli([((4+0j), Pauli([Z, I, I, I, I, I])), ((4+0j), Pauli([I, I, I, I, I, Z]))]), SuperPauli([((4+0j), Pauli([I, I, I, I, X, X])), ((4+0j), Pauli([X, I, I, I, I, X]))]), SuperPauli([(-8j, Pauli([Y, I, I, I, I, X])), (-8j, Pauli([I, I, I, I, X, Y])), (-8j, Pauli([X, I, I, I, I, Y]))]), SuperPauli([((32+0j), Pauli([X, I, I, I, I, Y])), ((32+0j), Pauli([Y, I, I, I, I, X]))]), SuperPauli([((-16-0j), Pauli([Y, I, I, I, X, Z]))]), SuperPauli([(64j, Pauli([I, I, I, I, I, Z])), (64j, Pauli([Z, I, I, I, I, I])), (32j, Pauli([X, I, I, I, X, Z]))]), SuperPauli([((-0+64j), Pauli([X, I, I, I, I, X])), ((-0+64j), Pauli([I, I, I, I, X, X])), (-32j, Pauli([Y, I, I, I, I, Y]))])]\n",
      "n=7: length=10: algebra=[SuperPauli([(1, Pauli([X, I, I, I, I, I, Y]))]), SuperPauli([(-2j, Pauli([Y, I, I, I, I, I, Y])), (2j, Pauli([X, I, I, I, I, I, X]))]), SuperPauli([(-2j, Pauli([X, I, I, I, I, X, Z])), (-2j, Pauli([I, I, I, I, I, I, Z]))]), SuperPauli([((4+0j), Pauli([Z, I, I, I, I, I, I])), ((4+0j), Pauli([I, I, I, I, I, I, Z]))]), SuperPauli([((4+0j), Pauli([I, I, I, I, I, X, X])), ((4+0j), Pauli([X, I, I, I, I, I, X]))]), SuperPauli([(-8j, Pauli([Y, I, I, I, I, I, X])), (-8j, Pauli([I, I, I, I, I, X, Y])), (-8j, Pauli([X, I, I, I, I, I, Y]))]), SuperPauli([((32+0j), Pauli([X, I, I, I, I, I, Y])), ((32+0j), Pauli([Y, I, I, I, I, I, X]))]), SuperPauli([((-16-0j), Pauli([Y, I, I, I, I, X, Z]))]), SuperPauli([(64j, Pauli([I, I, I, I, I, I, Z])), (64j, Pauli([Z, I, I, I, I, I, I])), (32j, Pauli([X, I, I, I, I, X, Z]))]), SuperPauli([((-0+64j), Pauli([X, I, I, I, I, I, X])), ((-0+64j), Pauli([I, I, I, I, I, X, X])), (-32j, Pauli([Y, I, I, I, I, I, Y]))])]\n"
     ]
    }
   ],
   "source": [
    "# finding algebra with Inv = X_1Y_n\n",
    "\n",
    "Inv = []\n",
    "for n in range(3, 8):\n",
    "    ops3 = [I for i in range(n)]\n",
    "    ops3[0], ops3[n-1] = X, Y\n",
    "    op3 = Pauli(ops3)\n",
    "    Inv.append(op3)\n",
    "\n",
    "print(\"Invariant = X_1Y_n: (n:length:algebra)\")\n",
    "for n in range(3, 8):\n",
    "    op1 = H[n-3][0]\n",
    "    op2 = H[n-3][1]\n",
    "    op3 = Inv[n-3]\n",
    "    alg = pauli_find_algebra([op3], [op1, op2], 10)\n",
    "    print(f\"n={n}: length={len(alg)}: algebra={alg}\")"
   ]
  },
  {
   "cell_type": "code",
   "execution_count": 6,
   "metadata": {},
   "outputs": [
    {
     "name": "stdout",
     "output_type": "stream",
     "text": [
      "Invariant = Z_1Z_{n/2}: (n:length:algebra)\n",
      "n=3: length=4: algebra=[SuperPauli([(1, Pauli([Z, Z, I]))]), SuperPauli([(2j, Pauli([Z, Y, X])), (2j, Pauli([Y, Z, X]))]), SuperPauli([((4+0j), Pauli([I, X, X])), ((4+0j), Pauli([X, I, X]))]), SuperPauli([((32+0j), Pauli([Z, Z, I])), ((-32+0j), Pauli([Y, Y, I]))])]\n",
      "n=4: length=4: algebra=[SuperPauli([(1, Pauli([Z, I, Z, I]))]), SuperPauli([(2j, Pauli([Y, X, Z, I])), (2j, Pauli([Z, X, Y, I])), (2j, Pauli([Z, I, Y, X])), (2j, Pauli([Y, I, Z, X]))]), SuperPauli([((4+0j), Pauli([X, X, I, I])), ((4+0j), Pauli([I, X, X, I])), ((4+0j), Pauli([I, I, X, X])), ((4+0j), Pauli([X, I, I, X]))]), SuperPauli([((64+0j), Pauli([Z, I, Z, I])), ((-64+0j), Pauli([Y, I, Y, I])), ((-64+0j), Pauli([Y, X, Y, X])), ((64+0j), Pauli([Z, X, Z, X]))])]\n",
      "n=5: length=7: algebra=[SuperPauli([(1, Pauli([Z, I, Z, I, I]))]), SuperPauli([(2j, Pauli([Y, X, Z, I, I])), (2j, Pauli([Z, X, Y, I, I])), (2j, Pauli([Z, I, Y, X, I])), (2j, Pauli([Y, I, Z, I, X]))]), SuperPauli([((4+0j), Pauli([X, X, I, I, I])), ((4+0j), Pauli([I, X, X, I, I])), ((4+0j), Pauli([I, I, X, X, I])), ((4+0j), Pauli([X, I, I, I, X]))]), SuperPauli([((64+0j), Pauli([Z, I, Z, I, I])), ((-32+0j), Pauli([Y, I, Y, I, I])), ((-32+0j), Pauli([Y, X, Y, X, I])), ((32+0j), Pauli([Z, X, Z, I, X])), ((32+0j), Pauli([Z, X, Z, X, I])), ((-32+0j), Pauli([Y, X, Y, I, X])), ((-32+0j), Pauli([Y, I, Y, X, X]))]), SuperPauli([((-640+0j), Pauli([X, X, I, I, I])), ((-640+0j), Pauli([I, X, X, I, I])), ((-640+0j), Pauli([I, I, X, X, I])), ((-640+0j), Pauli([X, I, I, I, X])), ((-384+0j), Pauli([X, I, I, X, I])), ((-384+0j), Pauli([I, I, X, I, X])), ((-384+0j), Pauli([I, X, X, X, X])), ((-384+0j), Pauli([X, X, I, X, X]))]), SuperPauli([(-1280j, Pauli([Y, X, Z, I, I])), (-1280j, Pauli([Z, X, Y, I, I])), (-1280j, Pauli([Z, I, Y, X, I])), (-1280j, Pauli([Y, I, Z, I, X])), (-768j, Pauli([Y, I, Z, X, I])), (-768j, Pauli([Z, I, Y, I, X])), (-768j, Pauli([Z, X, Y, X, X])), (-768j, Pauli([Y, X, Z, X, X]))]), SuperPauli([((-10240+0j), Pauli([Z, I, Z, I, I])), ((8192-0j), Pauli([Y, I, Y, I, I])), ((8192-0j), Pauli([Y, X, Y, X, I])), ((-8192+0j), Pauli([Z, X, Z, I, X])), ((-8192+0j), Pauli([Z, X, Z, X, I])), ((8192-0j), Pauli([Y, X, Y, I, X])), ((8192-0j), Pauli([Y, I, Y, X, X])), ((-6144+0j), Pauli([Z, I, Z, X, X]))])]\n",
      "n=6: length=7: algebra=[SuperPauli([(1, Pauli([Z, I, I, Z, I, I]))]), SuperPauli([(2j, Pauli([Y, X, I, Z, I, I])), (2j, Pauli([Z, I, X, Y, I, I])), (2j, Pauli([Z, I, I, Y, X, I])), (2j, Pauli([Y, I, I, Z, I, X]))]), SuperPauli([((4+0j), Pauli([X, X, I, I, I, I])), ((4+0j), Pauli([I, I, X, X, I, I])), ((4+0j), Pauli([I, I, I, X, X, I])), ((4+0j), Pauli([X, I, I, I, I, X]))]), SuperPauli([((64+0j), Pauli([Z, I, I, Z, I, I])), ((-32+0j), Pauli([Y, X, X, Y, I, I])), ((-32+0j), Pauli([Y, X, I, Y, X, I])), ((32+0j), Pauli([Z, X, I, Z, I, X])), ((32+0j), Pauli([Z, I, X, Z, X, I])), ((-32+0j), Pauli([Y, I, X, Y, I, X])), ((-32+0j), Pauli([Y, I, I, Y, X, X]))]), SuperPauli([((-640+0j), Pauli([X, X, I, I, I, I])), ((-640+0j), Pauli([I, I, X, X, I, I])), ((-640+0j), Pauli([I, I, I, X, X, I])), ((-640+0j), Pauli([X, I, I, I, I, X])), ((-384+0j), Pauli([X, X, X, I, X, I])), ((-384+0j), Pauli([I, X, X, X, I, X])), ((-384+0j), Pauli([I, X, I, X, X, X])), ((-384+0j), Pauli([X, I, X, I, X, X]))]), SuperPauli([(-1280j, Pauli([Y, X, I, Z, I, I])), (-1280j, Pauli([Z, I, X, Y, I, I])), (-1280j, Pauli([Z, I, I, Y, X, I])), (-1280j, Pauli([Y, I, I, Z, I, X])), (-768j, Pauli([Y, X, X, Z, X, I])), (-768j, Pauli([Z, X, X, Y, I, X])), (-768j, Pauli([Z, X, I, Y, X, X])), (-768j, Pauli([Y, I, X, Z, X, X]))]), SuperPauli([((-10240+0j), Pauli([Z, I, I, Z, I, I])), ((8192-0j), Pauli([Y, X, X, Y, I, I])), ((8192-0j), Pauli([Y, X, I, Y, X, I])), ((-8192+0j), Pauli([Z, X, I, Z, I, X])), ((-8192+0j), Pauli([Z, I, X, Z, X, I])), ((8192-0j), Pauli([Y, I, X, Y, I, X])), ((8192-0j), Pauli([Y, I, I, Y, X, X])), ((-6144+0j), Pauli([Z, X, X, Z, X, X]))])]\n",
      "n=7: length=7: algebra=[SuperPauli([(1, Pauli([Z, I, I, Z, I, I, I]))]), SuperPauli([(2j, Pauli([Y, X, I, Z, I, I, I])), (2j, Pauli([Z, I, X, Y, I, I, I])), (2j, Pauli([Z, I, I, Y, X, I, I])), (2j, Pauli([Y, I, I, Z, I, I, X]))]), SuperPauli([((4+0j), Pauli([X, X, I, I, I, I, I])), ((4+0j), Pauli([I, I, X, X, I, I, I])), ((4+0j), Pauli([I, I, I, X, X, I, I])), ((4+0j), Pauli([X, I, I, I, I, I, X]))]), SuperPauli([((64+0j), Pauli([Z, I, I, Z, I, I, I])), ((-32+0j), Pauli([Y, X, X, Y, I, I, I])), ((-32+0j), Pauli([Y, X, I, Y, X, I, I])), ((32+0j), Pauli([Z, X, I, Z, I, I, X])), ((32+0j), Pauli([Z, I, X, Z, X, I, I])), ((-32+0j), Pauli([Y, I, X, Y, I, I, X])), ((-32+0j), Pauli([Y, I, I, Y, X, I, X]))]), SuperPauli([((-640+0j), Pauli([X, X, I, I, I, I, I])), ((-640+0j), Pauli([I, I, X, X, I, I, I])), ((-640+0j), Pauli([I, I, I, X, X, I, I])), ((-640+0j), Pauli([X, I, I, I, I, I, X])), ((-384+0j), Pauli([X, X, X, I, X, I, I])), ((-384+0j), Pauli([I, X, X, X, I, I, X])), ((-384+0j), Pauli([I, X, I, X, X, I, X])), ((-384+0j), Pauli([X, I, X, I, X, I, X]))]), SuperPauli([(-1280j, Pauli([Y, X, I, Z, I, I, I])), (-1280j, Pauli([Z, I, X, Y, I, I, I])), (-1280j, Pauli([Z, I, I, Y, X, I, I])), (-1280j, Pauli([Y, I, I, Z, I, I, X])), (-768j, Pauli([Y, X, X, Z, X, I, I])), (-768j, Pauli([Z, X, X, Y, I, I, X])), (-768j, Pauli([Z, X, I, Y, X, I, X])), (-768j, Pauli([Y, I, X, Z, X, I, X]))]), SuperPauli([((-10240+0j), Pauli([Z, I, I, Z, I, I, I])), ((8192-0j), Pauli([Y, X, X, Y, I, I, I])), ((8192-0j), Pauli([Y, X, I, Y, X, I, I])), ((-8192+0j), Pauli([Z, X, I, Z, I, I, X])), ((-8192+0j), Pauli([Z, I, X, Z, X, I, I])), ((8192-0j), Pauli([Y, I, X, Y, I, I, X])), ((8192-0j), Pauli([Y, I, I, Y, X, I, X])), ((-6144+0j), Pauli([Z, X, X, Z, X, I, X]))])]\n"
     ]
    }
   ],
   "source": [
    "# finding algebra with Inv = Z_1Z_{n/2}\n",
    "\n",
    "Inv = []\n",
    "for n in range(3, 8):\n",
    "    ops3 = [I for i in range(n)]\n",
    "    ops3[0], ops3[int(n/2)] = Z, Z\n",
    "    op3 = Pauli(ops3)\n",
    "    Inv.append(op3)\n",
    "\n",
    "print(\"Invariant = Z_1Z_{n/2}: (n:length:algebra)\")\n",
    "for n in range(3, 8):\n",
    "    op1 = H[n-3][0]\n",
    "    op2 = H[n-3][1]\n",
    "    op3 = Inv[n-3]\n",
    "    alg = pauli_find_algebra([op3], [op1, op2], 10)\n",
    "    print(f\"n={n}: length={len(alg)}: algebra={alg}\")"
   ]
  },
  {
   "cell_type": "code",
   "execution_count": 7,
   "metadata": {},
   "outputs": [
    {
     "name": "stdout",
     "output_type": "stream",
     "text": [
      "Invariant = X_1X_2, X_{n-1}X_n: (n:length:algebra)\n",
      "n=3: length=15: algebra=[SuperPauli([(1, Pauli([X, X, I]))]), SuperPauli([(1, Pauli([I, X, X]))]), SuperPauli([(-2j, Pauli([Y, X, I])), (-2j, Pauli([X, Y, I]))]), SuperPauli([(-2j, Pauli([I, Y, X])), (-2j, Pauli([I, X, Y]))]), SuperPauli([((4+0j), Pauli([Z, I, I])), ((4+0j), Pauli([I, Z, I]))]), SuperPauli([((4+0j), Pauli([X, Z, X]))]), SuperPauli([((4+0j), Pauli([I, Z, I])), ((4+0j), Pauli([I, I, Z]))]), SuperPauli([(-8j, Pauli([Y, Z, X])), ((-0+8j), Pauli([X, Z, Y]))]), SuperPauli([(-8j, Pauli([I, Y, X]))]), SuperPauli([(-8j, Pauli([X, Y, I]))]), SuperPauli([((16+0j), Pauli([I, Y, Y]))]), SuperPauli([((-16-0j), Pauli([Y, Y, I]))]), SuperPauli([(32j, Pauli([Y, Z, X]))]), SuperPauli([((-64-0j), Pauli([X, Z, X])), ((-64+0j), Pauli([Y, Z, Y]))]), SuperPauli([((16+0j), Pauli([I, Z, I]))])]\n",
      "n=4: length=8: algebra=[SuperPauli([(1, Pauli([X, X, I, I]))]), SuperPauli([(1, Pauli([I, I, X, X]))]), SuperPauli([(-2j, Pauli([Y, X, I, I])), (-2j, Pauli([X, Y, I, I]))]), SuperPauli([(-2j, Pauli([I, I, Y, X])), (-2j, Pauli([I, I, X, Y]))]), SuperPauli([((4+0j), Pauli([Z, I, I, I])), ((4+0j), Pauli([I, Z, I, I]))]), SuperPauli([((4+0j), Pauli([I, I, Z, I])), ((4+0j), Pauli([I, I, I, Z]))]), SuperPauli([((32+0j), Pauli([X, X, I, I])), ((-32-0j), Pauli([Y, Y, I, I]))]), SuperPauli([((32+0j), Pauli([I, I, X, X])), ((-32-0j), Pauli([I, I, Y, Y]))])]\n",
      "n=5: length=8: algebra=[SuperPauli([(1, Pauli([X, X, I, I, I]))]), SuperPauli([(1, Pauli([I, I, I, X, X]))]), SuperPauli([(-2j, Pauli([Y, X, I, I, I])), (-2j, Pauli([X, Y, I, I, I]))]), SuperPauli([(-2j, Pauli([I, I, I, Y, X])), (-2j, Pauli([I, I, I, X, Y]))]), SuperPauli([((4+0j), Pauli([Z, I, I, I, I])), ((4+0j), Pauli([I, Z, I, I, I]))]), SuperPauli([((4+0j), Pauli([I, I, I, Z, I])), ((4+0j), Pauli([I, I, I, I, Z]))]), SuperPauli([((32+0j), Pauli([X, X, I, I, I])), ((-32-0j), Pauli([Y, Y, I, I, I]))]), SuperPauli([((32+0j), Pauli([I, I, I, X, X])), ((-32-0j), Pauli([I, I, I, Y, Y]))])]\n",
      "n=6: length=8: algebra=[SuperPauli([(1, Pauli([X, X, I, I, I, I]))]), SuperPauli([(1, Pauli([I, I, I, I, X, X]))]), SuperPauli([(-2j, Pauli([Y, X, I, I, I, I])), (-2j, Pauli([X, Y, I, I, I, I]))]), SuperPauli([(-2j, Pauli([I, I, I, I, Y, X])), (-2j, Pauli([I, I, I, I, X, Y]))]), SuperPauli([((4+0j), Pauli([Z, I, I, I, I, I])), ((4+0j), Pauli([I, Z, I, I, I, I]))]), SuperPauli([((4+0j), Pauli([I, I, I, I, Z, I])), ((4+0j), Pauli([I, I, I, I, I, Z]))]), SuperPauli([((32+0j), Pauli([X, X, I, I, I, I])), ((-32-0j), Pauli([Y, Y, I, I, I, I]))]), SuperPauli([((32+0j), Pauli([I, I, I, I, X, X])), ((-32-0j), Pauli([I, I, I, I, Y, Y]))])]\n",
      "n=7: length=8: algebra=[SuperPauli([(1, Pauli([X, X, I, I, I, I, I]))]), SuperPauli([(1, Pauli([I, I, I, I, I, X, X]))]), SuperPauli([(-2j, Pauli([Y, X, I, I, I, I, I])), (-2j, Pauli([X, Y, I, I, I, I, I]))]), SuperPauli([(-2j, Pauli([I, I, I, I, I, Y, X])), (-2j, Pauli([I, I, I, I, I, X, Y]))]), SuperPauli([((4+0j), Pauli([Z, I, I, I, I, I, I])), ((4+0j), Pauli([I, Z, I, I, I, I, I]))]), SuperPauli([((4+0j), Pauli([I, I, I, I, I, Z, I])), ((4+0j), Pauli([I, I, I, I, I, I, Z]))]), SuperPauli([((32+0j), Pauli([X, X, I, I, I, I, I])), ((-32-0j), Pauli([Y, Y, I, I, I, I, I]))]), SuperPauli([((32+0j), Pauli([I, I, I, I, I, X, X])), ((-32-0j), Pauli([I, I, I, I, I, Y, Y]))])]\n"
     ]
    }
   ],
   "source": [
    "# finding algebra with Inv = X_1X_2, X_{n-1}X_n\n",
    "\n",
    "Inv = []\n",
    "for n in range(3, 8):\n",
    "    ops3 = [I for i in range(n)]\n",
    "    ops4 = [I for i in range(n)]\n",
    "    ops3[0], ops3[1] = X, X\n",
    "    ops4[n-2], ops4[n-1] = X, X\n",
    "    op3, op4 = Pauli(ops3), Pauli(ops4)\n",
    "    Inv.append((op3, op4))\n",
    "\n",
    "print(\"Invariant = X_1X_2, X_{n-1}X_n: (n:length:algebra)\")\n",
    "for n in range(3, 8):\n",
    "    op1 = H[n-3][0]\n",
    "    op2 = H[n-3][1]\n",
    "    op3 = Inv[n-3][0]\n",
    "    op4 = Inv[n-3][1]\n",
    "    alg = pauli_find_algebra([op3, op4], [op1, op2], 30)\n",
    "    print(f\"n={n}: length={len(alg)}: algebra={alg}\")"
   ]
  },
  {
   "cell_type": "code",
   "execution_count": 10,
   "metadata": {},
   "outputs": [
    {
     "name": "stdout",
     "output_type": "stream",
     "text": [
      "Invariant = X_1Y_n, Y_2X_{n-1}: (n:length:algebra)\n",
      "n=3: length=21: algebra=[SuperPauli([(1, Pauli([X, I, Y]))]), SuperPauli([(1, Pauli([I, X, I]))]), SuperPauli([(-2j, Pauli([Y, I, Y])), (2j, Pauli([X, I, X]))]), SuperPauli([(-2j, Pauli([X, X, Z])), (-2j, Pauli([I, I, Z]))]), SuperPauli([(-2j, Pauli([I, Y, I]))]), SuperPauli([((4+0j), Pauli([Z, I, I])), ((4+0j), Pauli([I, I, Z]))]), SuperPauli([((4+0j), Pauli([I, X, X])), ((4+0j), Pauli([X, I, X]))]), SuperPauli([((4+0j), Pauli([I, Z, I]))]), SuperPauli([(-8j, Pauli([Y, I, X])), (-8j, Pauli([I, X, Y])), (-8j, Pauli([X, I, Y]))]), SuperPauli([(-8j, Pauli([X, Z, Z]))]), SuperPauli([((16+0j), Pauli([I, Z, X]))]), SuperPauli([((-16-0j), Pauli([X, Y, Z]))]), SuperPauli([((32+0j), Pauli([X, I, Y])), ((32+0j), Pauli([Y, I, X]))]), SuperPauli([((-16-0j), Pauli([Y, X, Z]))]), SuperPauli([(64j, Pauli([I, I, Z])), (64j, Pauli([Z, I, I])), (32j, Pauli([X, X, Z]))]), SuperPauli([(-32j, Pauli([I, Z, Y]))]), SuperPauli([((-0+64j), Pauli([X, I, X])), ((-0+64j), Pauli([I, X, X])), (-32j, Pauli([Y, I, Y]))]), SuperPauli([((64+0j), Pauli([Y, Z, Z]))]), SuperPauli([(-32j, Pauli([I, Y, X]))]), SuperPauli([((64+0j), Pauli([I, Y, Y]))]), SuperPauli([(-128j, Pauli([Y, Y, Z]))])]\n",
      "n=4: length=56: algebra=[SuperPauli([(1, Pauli([X, I, I, Y]))]), SuperPauli([(1, Pauli([I, Y, X, I]))]), SuperPauli([(-2j, Pauli([Y, I, I, Y])), (2j, Pauli([X, I, I, X]))]), SuperPauli([(-2j, Pauli([X, I, X, Z])), (-2j, Pauli([I, I, I, Z]))]), SuperPauli([(2j, Pauli([I, X, X, I])), (-2j, Pauli([I, Y, Y, I]))]), SuperPauli([(-2j, Pauli([X, Z, X, I])), (-2j, Pauli([I, Z, I, I]))]), SuperPauli([((4+0j), Pauli([Z, I, I, I])), ((4+0j), Pauli([I, I, I, Z]))]), SuperPauli([((4+0j), Pauli([I, I, X, X])), ((4+0j), Pauli([X, I, I, X]))]), SuperPauli([((4+0j), Pauli([I, Z, I, I])), ((4+0j), Pauli([I, I, Z, I]))]), SuperPauli([((4+0j), Pauli([X, X, I, I])), ((4+0j), Pauli([I, X, X, I]))]), SuperPauli([(-8j, Pauli([Y, I, I, X])), (-8j, Pauli([I, I, X, Y])), (-8j, Pauli([X, I, I, Y]))]), SuperPauli([((-0+8j), Pauli([Z, Z, X, Y]))]), SuperPauli([(-8j, Pauli([X, Y, Z, Z]))]), SuperPauli([(-8j, Pauli([X, Y, I, I])), (-8j, Pauli([I, Y, X, I])), (-8j, Pauli([I, X, Y, I]))]), SuperPauli([((16+0j), Pauli([Y, Z, X, I]))]), SuperPauli([((16+0j), Pauli([I, Y, Z, X]))]), SuperPauli([((-16+0j), Pauli([Z, X, I, Y]))]), SuperPauli([((-16-0j), Pauli([X, I, Y, Z]))]), SuperPauli([((32+0j), Pauli([X, I, I, Y])), ((32+0j), Pauli([Y, I, I, X]))]), SuperPauli([((-16-0j), Pauli([Y, I, X, Z]))]), SuperPauli([(64j, Pauli([I, I, I, Z])), (64j, Pauli([Z, I, I, I])), (32j, Pauli([X, I, X, Z]))]), SuperPauli([(32j, Pauli([X, Z, X, I]))]), SuperPauli([(-32j, Pauli([I, Y, Z, Y]))]), SuperPauli([((-0+32j), Pauli([Z, Y, I, Y]))]), SuperPauli([((-0+64j), Pauli([X, I, I, X])), ((-0+64j), Pauli([I, I, X, X])), (-32j, Pauli([Y, I, I, Y]))]), SuperPauli([(-32j, Pauli([Z, Z, X, X]))]), SuperPauli([((-0+32j), Pauli([I, Y, Y, I]))]), SuperPauli([(-32j, Pauli([X, X, Z, Z]))]), SuperPauli([((32+0j), Pauli([I, Y, X, I])), ((32+0j), Pauli([I, X, Y, I]))]), SuperPauli([((-16-0j), Pauli([X, Z, Y, I]))]), SuperPauli([(32j, Pauli([Y, X, I, I]))]), SuperPauli([((64+0j), Pauli([Y, Y, Z, Z]))]), SuperPauli([((64+0j), Pauli([Y, Y, I, I]))]), SuperPauli([(-32j, Pauli([I, I, Y, X]))]), SuperPauli([((-64+0j), Pauli([Z, Z, I, Z]))]), SuperPauli([((64+0j), Pauli([I, X, Z, X]))]), SuperPauli([((64+0j), Pauli([I, I, Y, Y]))]), SuperPauli([((-64+0j), Pauli([Z, Z, Y, Y]))]), SuperPauli([((64+0j), Pauli([Z, X, I, X]))]), SuperPauli([((64+0j), Pauli([I, Z, Z, Z]))]), SuperPauli([((-0+128j), Pauli([Z, Y, I, X])), (-128j, Pauli([I, X, Z, Y]))]), SuperPauli([(128j, Pauli([Y, Z, Y, I]))]), SuperPauli([(128j, Pauli([X, Z, Z, X]))]), SuperPauli([(-128j, Pauli([Y, I, Y, Z]))]), SuperPauli([((-0-128j), Pauli([Z, X, X, Z]))]), SuperPauli([(-128j, Pauli([I, X, Z, Y]))]), SuperPauli([((-256-0j), Pauli([Y, X, Z, Z]))]), SuperPauli([((256+0j), Pauli([Y, Z, Z, X])), ((256+0j), Pauli([X, Z, Z, Y]))]), SuperPauli([((256+0j), Pauli([Z, Y, X, Z]))]), SuperPauli([((256+0j), Pauli([Y, Z, Z, X])), ((256+0j), Pauli([Z, Z, Y, X]))]), SuperPauli([((-256+0j), Pauli([Z, Y, X, Z])), ((-256+0j), Pauli([Z, X, Y, Z]))]), SuperPauli([((-256-0j), Pauli([Z, Z, Y, X]))]), SuperPauli([((-1024+0j), Pauli([Z, Z, Z, I])), ((1024+0j), Pauli([Y, Z, Y, I]))]), SuperPauli([((-1024-0j), Pauli([Y, Z, Z, Y])), ((1024+0j), Pauli([X, Z, Z, X]))]), SuperPauli([((1024+0j), Pauli([Z, Y, Y, Z]))]), SuperPauli([((1024+0j), Pauli([Z, I, Z, Z]))])]\n"
     ]
    },
    {
     "ename": "MaxOperatorsError",
     "evalue": "Maximum of 100 operators in uncomplete algebra reached.",
     "output_type": "error",
     "traceback": [
      "\u001b[1;31m---------------------------------------------------------------------------\u001b[0m",
      "\u001b[1;31mMaxOperatorsError\u001b[0m                         Traceback (most recent call last)",
      "Cell \u001b[1;32mIn[10], line 18\u001b[0m\n\u001b[0;32m     16\u001b[0m op3 \u001b[38;5;241m=\u001b[39m Inv[n\u001b[38;5;241m-\u001b[39m\u001b[38;5;241m3\u001b[39m][\u001b[38;5;241m0\u001b[39m]\n\u001b[0;32m     17\u001b[0m op4 \u001b[38;5;241m=\u001b[39m Inv[n\u001b[38;5;241m-\u001b[39m\u001b[38;5;241m3\u001b[39m][\u001b[38;5;241m1\u001b[39m]\n\u001b[1;32m---> 18\u001b[0m alg \u001b[38;5;241m=\u001b[39m \u001b[43mpauli_find_algebra\u001b[49m\u001b[43m(\u001b[49m\u001b[43m[\u001b[49m\u001b[43mop3\u001b[49m\u001b[43m,\u001b[49m\u001b[43m \u001b[49m\u001b[43mop4\u001b[49m\u001b[43m]\u001b[49m\u001b[43m,\u001b[49m\u001b[43m \u001b[49m\u001b[43m[\u001b[49m\u001b[43mop1\u001b[49m\u001b[43m,\u001b[49m\u001b[43m \u001b[49m\u001b[43mop2\u001b[49m\u001b[43m]\u001b[49m\u001b[43m,\u001b[49m\u001b[43m \u001b[49m\u001b[38;5;241;43m100\u001b[39;49m\u001b[43m)\u001b[49m\n\u001b[0;32m     19\u001b[0m \u001b[38;5;28mprint\u001b[39m(\u001b[38;5;124mf\u001b[39m\u001b[38;5;124m\"\u001b[39m\u001b[38;5;124mn=\u001b[39m\u001b[38;5;132;01m{\u001b[39;00mn\u001b[38;5;132;01m}\u001b[39;00m\u001b[38;5;124m: length=\u001b[39m\u001b[38;5;132;01m{\u001b[39;00m\u001b[38;5;28mlen\u001b[39m(alg)\u001b[38;5;132;01m}\u001b[39;00m\u001b[38;5;124m: algebra=\u001b[39m\u001b[38;5;132;01m{\u001b[39;00malg\u001b[38;5;132;01m}\u001b[39;00m\u001b[38;5;124m\"\u001b[39m)\n",
      "File \u001b[1;32mc:\\Users\\elean\\Documents\\Imperial College London\\Mathematics Undergraduate\\Year 4\\M4R\\Lie Algebras Code\\Lie-algebras\\Lie_algebras.py:894\u001b[0m, in \u001b[0;36mpauli_find_algebra\u001b[1;34m(Op_0, Op_1, max)\u001b[0m\n\u001b[0;32m    892\u001b[0m             n \u001b[38;5;241m+\u001b[39m\u001b[38;5;241m=\u001b[39m \u001b[38;5;241m1\u001b[39m\n\u001b[0;32m    893\u001b[0m \u001b[38;5;66;03m# complete the algebra\u001b[39;00m\n\u001b[1;32m--> 894\u001b[0m Lie_alg \u001b[38;5;241m=\u001b[39m \u001b[43mpauli_complete_algebra\u001b[49m\u001b[43m(\u001b[49m\u001b[43mOps\u001b[49m\u001b[43m,\u001b[49m\u001b[43m \u001b[49m\u001b[38;5;28;43mmax\u001b[39;49m\u001b[43m)\u001b[49m\n\u001b[0;32m    895\u001b[0m \u001b[38;5;28;01mreturn\u001b[39;00m Lie_alg\n",
      "File \u001b[1;32mc:\\Users\\elean\\Documents\\Imperial College London\\Mathematics Undergraduate\\Year 4\\M4R\\Lie Algebras Code\\Lie-algebras\\Lie_algebras.py:837\u001b[0m, in \u001b[0;36mpauli_complete_algebra\u001b[1;34m(Ops, max, start)\u001b[0m\n\u001b[0;32m    835\u001b[0m \u001b[38;5;66;03m# stop if maximum operators in algebra reached\u001b[39;00m\n\u001b[0;32m    836\u001b[0m \u001b[38;5;28;01mif\u001b[39;00m \u001b[38;5;28mlen\u001b[39m(old_Ops) \u001b[38;5;241m>\u001b[39m \u001b[38;5;28mmax\u001b[39m:\n\u001b[1;32m--> 837\u001b[0m     \u001b[38;5;28;01mraise\u001b[39;00m MaxOperatorsError(\n\u001b[0;32m    838\u001b[0m         \u001b[38;5;124mf\u001b[39m\u001b[38;5;124m\"\u001b[39m\u001b[38;5;124mMaximum of \u001b[39m\u001b[38;5;132;01m{\u001b[39;00m\u001b[38;5;28mmax\u001b[39m\u001b[38;5;132;01m}\u001b[39;00m\u001b[38;5;124m operators in uncomplete algebra reached.\u001b[39m\u001b[38;5;124m\"\u001b[39m\n\u001b[0;32m    839\u001b[0m     )\n",
      "\u001b[1;31mMaxOperatorsError\u001b[0m: Maximum of 100 operators in uncomplete algebra reached."
     ]
    }
   ],
   "source": [
    "# finding algebra with Inv = X_1Y_n, Y_2X_{n-1}\n",
    "\n",
    "Inv = []\n",
    "for n in range(3, 8):\n",
    "    ops3 = [I for i in range(n)]\n",
    "    ops4 = [I for i in range(n)]\n",
    "    ops3[0], ops3[n-1] = X, Y\n",
    "    ops4[1], ops4[n-2] = Y, X\n",
    "    op3, op4 = Pauli(ops3), Pauli(ops4)\n",
    "    Inv.append((op3, op4))\n",
    "\n",
    "print(\"Invariant = X_1Y_n, Y_2X_{n-1}: (n:length:algebra)\")\n",
    "for n in range(3, 8):\n",
    "    op1 = H[n-3][0]\n",
    "    op2 = H[n-3][1]\n",
    "    op3 = Inv[n-3][0]\n",
    "    op4 = Inv[n-3][1]\n",
    "    alg = pauli_find_algebra([op3, op4], [op1, op2], 100)\n",
    "    print(f\"n={n}: length={len(alg)}: algebra={alg}\")"
   ]
  },
  {
   "cell_type": "code",
   "execution_count": null,
   "metadata": {},
   "outputs": [],
   "source": []
  }
 ],
 "metadata": {
  "kernelspec": {
   "display_name": "lie_venv",
   "language": "python",
   "name": "python3"
  },
  "language_info": {
   "codemirror_mode": {
    "name": "ipython",
    "version": 3
   },
   "file_extension": ".py",
   "mimetype": "text/x-python",
   "name": "python",
   "nbconvert_exporter": "python",
   "pygments_lexer": "ipython3",
   "version": "3.10.13"
  }
 },
 "nbformat": 4,
 "nbformat_minor": 2
}

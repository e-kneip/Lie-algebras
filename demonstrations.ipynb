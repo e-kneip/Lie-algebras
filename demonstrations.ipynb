{
 "cells": [
  {
   "cell_type": "markdown",
   "metadata": {},
   "source": [
    "## Demonstrations"
   ]
  },
  {
   "cell_type": "code",
   "execution_count": 1,
   "metadata": {},
   "outputs": [],
   "source": [
    "from Lie_algebras import *\n",
    "import numpy as np"
   ]
  },
  {
   "cell_type": "markdown",
   "metadata": {},
   "source": [
    "#### 1. Speedup using Pauli decomposition for complete_algebra"
   ]
  },
  {
   "cell_type": "code",
   "execution_count": 2,
   "metadata": {},
   "outputs": [
    {
     "name": "stdout",
     "output_type": "stream",
     "text": [
      "553 µs ± 152 µs per loop (mean ± std. dev. of 7 runs, 1,000 loops each)\n",
      "4.38 ms ± 1.55 ms per loop (mean ± std. dev. of 7 runs, 100 loops each)\n"
     ]
    }
   ],
   "source": [
    "# easy example comparison\n",
    "\n",
    "easy = [X, I, Z]\n",
    "easy_pauli = [Pauli([X]), Pauli([I]), Pauli([Z])]\n",
    "\n",
    "%timeit complete_algebra(easy, 5)\n",
    "%timeit pauli_complete_algebra(easy_pauli, 5)"
   ]
  },
  {
   "cell_type": "code",
   "execution_count": 3,
   "metadata": {},
   "outputs": [
    {
     "name": "stdout",
     "output_type": "stream",
     "text": [
      "7.11 ms ± 866 µs per loop (mean ± std. dev. of 7 runs, 100 loops each)\n",
      "14.8 ms ± 4.2 ms per loop (mean ± std. dev. of 7 runs, 100 loops each)\n"
     ]
    }
   ],
   "source": [
    "# medium example comparison\n",
    "\n",
    "medium = [np.kron(X, np.kron(Y, np.kron(I, np.kron(I, Z)))), np.kron(Z, np.kron(Y, np.kron(I, np.kron(Y, Y)))), np.kron(X, np.kron(X, np.kron(Y, np.kron(Z, I))))]\n",
    "medium_pauli = [Pauli([X, Y, I, I, Z]), Pauli([Z, Y, I, Y, Y]), Pauli([X, X, Y, Z, I])]\n",
    "\n",
    "%timeit complete_algebra(medium, 10)\n",
    "%timeit pauli_complete_algebra(medium_pauli, 10)"
   ]
  },
  {
   "cell_type": "code",
   "execution_count": 4,
   "metadata": {},
   "outputs": [
    {
     "name": "stdout",
     "output_type": "stream",
     "text": [
      "For 6 qubits:\n",
      "201 ms ± 39.9 ms per loop (mean ± std. dev. of 7 runs, 1 loop each)\n",
      "438 ms ± 56.9 ms per loop (mean ± std. dev. of 7 runs, 1 loop each)\n",
      "For 7 qubits:\n",
      "710 ms ± 193 ms per loop (mean ± std. dev. of 7 runs, 1 loop each)\n",
      "158 ms ± 18.9 ms per loop (mean ± std. dev. of 7 runs, 1 loop each)\n",
      "For 8 qubits:\n",
      "1.73 s ± 129 ms per loop (mean ± std. dev. of 7 runs, 1 loop each)\n",
      "227 ms ± 21.9 ms per loop (mean ± std. dev. of 7 runs, 1 loop each)\n"
     ]
    }
   ],
   "source": [
    "# hard example comparison\n",
    "\n",
    "q, r, s, t = Pauli([X, Y, Z, I, Z, Y]), Pauli([Z, Z, I, Y, Y, Z]), Pauli([X, X, Y, Z, I, Z]), Pauli([X, Y, Z, I, I, Y])\n",
    "ql, rl, sl, tl = np.kron(X, np.kron(Y, np.kron(Z, np.kron(I, np.kron(Z, Y))))), np.kron(Z, np.kron(Z, np.kron(I, np.kron(Y, np.kron(Y, Z))))), np.kron(X, np.kron(X, np.kron(Y, np.kron(Z, np.kron(I, Z))))), np.kron(X, np.kron(Y, np.kron(Z, np.kron(I, np.kron(I, Y)))))\n",
    "\n",
    "hard = [ql + rl, 2*ql + sl + 5*tl, 3*rl + sl - 2*tl]\n",
    "hard_pauli = [q + r, 2*q + s + 5*t, 3*r + s - 2*t]\n",
    "\n",
    "print(\"For 6 qubits:\")\n",
    "%timeit complete_algebra(hard, 15)\n",
    "%timeit pauli_complete_algebra(hard_pauli, 15)\n",
    "\n",
    "q, r, s, t = Pauli([Y, Z, I, Z, Y, Y, X]), Pauli([Z, I, Y, Y, Z, I, Y]), Pauli([X, Y, Z, I, Z, X, Z]), Pauli([Y, Z, I, I, Y, Z, I])\n",
    "ql, rl, sl, tl = np.kron(Y, np.kron(Z, np.kron(I, np.kron(Z, np.kron(Y, np.kron(Y, X)))))), np.kron(Z, np.kron(I, np.kron(Y, np.kron(Y, np.kron(Z, np.kron(I, Y)))))), np.kron(X, np.kron(Y, np.kron(Z, np.kron(I, np.kron(Z, np.kron(X, Z)))))), np.kron(Y, np.kron(Z, np.kron(I, np.kron(I, np.kron(Y, np.kron(Z, I))))))\n",
    "\n",
    "hard = [ql + rl, 2*ql + sl, 3*rl + sl - tl]\n",
    "hard_pauli = [q + r, 2*q + s, 3*r + s - t]\n",
    "\n",
    "print(\"For 7 qubits:\")\n",
    "%timeit complete_algebra(hard, 15)\n",
    "%timeit pauli_complete_algebra(hard_pauli, 15)\n",
    "\n",
    "q, r, s, t = Pauli([X, Y, Z, I, Z, Y, Y, X]), Pauli([Z, Z, I, Y, Y, Z, I, Y]), Pauli([X, X, Y, Z, I, Z, X, Z]), Pauli([X, Y, Z, I, I, Y, Z, I])\n",
    "ql, rl, sl, tl = np.kron(X, np.kron(Y, np.kron(Z, np.kron(I, np.kron(Z, np.kron(Y, np.kron(Y, X))))))), np.kron(Z, np.kron(Z, np.kron(I, np.kron(Y, np.kron(Y, np.kron(Z, np.kron(I, Y))))))), np.kron(X, np.kron(X, np.kron(Y, np.kron(Z, np.kron(I, np.kron(Z, np.kron(X, Z))))))), np.kron(X, np.kron(Y, np.kron(Z, np.kron(I, np.kron(I, np.kron(Y, np.kron(Z, I)))))))\n",
    "\n",
    "hard = [ql + rl, 2*ql + sl, 3*rl + sl - tl]\n",
    "hard_pauli = [q + r, 2*q + s, 3*r + s - t]\n",
    "\n",
    "print(\"For 8 qubits:\")\n",
    "%timeit complete_algebra(hard, 15)\n",
    "%timeit pauli_complete_algebra(hard_pauli, 15)"
   ]
  },
  {
   "cell_type": "code",
   "execution_count": 5,
   "metadata": {},
   "outputs": [
    {
     "name": "stdout",
     "output_type": "stream",
     "text": [
      "3.1 s ± 92.9 ms per loop (mean ± std. dev. of 7 runs, 1 loop each)\n"
     ]
    }
   ],
   "source": [
    "# super hard for fun\n",
    "\n",
    "q, r, s, t, u = Pauli([X, Y, Z, I, Z, Y, Y, X, X, I]), Pauli([Z, Z, I, Y, Y, Z, I, Y, I, Y]), Pauli([X, X, Y, Z, I, Z, X, Z, Y, Z]), Pauli([I, Y, Z, I, X, X, Z, I, Z, Z]), Pauli([I, Y, Y, I, X, Y, Z, I, I, X])\n",
    "\n",
    "hard_pauli = [q + r + s, 2*q + s - 1j*u, 3*r + s - t]\n",
    "\n",
    "%timeit pauli_complete_algebra(hard_pauli, 20)"
   ]
  },
  {
   "cell_type": "code",
   "execution_count": null,
   "metadata": {},
   "outputs": [],
   "source": []
  }
 ],
 "metadata": {
  "kernelspec": {
   "display_name": "lie_venv",
   "language": "python",
   "name": "python3"
  },
  "language_info": {
   "codemirror_mode": {
    "name": "ipython",
    "version": 3
   },
   "file_extension": ".py",
   "mimetype": "text/x-python",
   "name": "python",
   "nbconvert_exporter": "python",
   "pygments_lexer": "ipython3",
   "version": "3.10.13"
  }
 },
 "nbformat": 4,
 "nbformat_minor": 2
}

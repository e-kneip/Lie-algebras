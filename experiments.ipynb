{
 "cells": [
  {
   "cell_type": "markdown",
   "metadata": {},
   "source": [
    "## Experiments"
   ]
  },
  {
   "cell_type": "code",
   "execution_count": 1,
   "metadata": {},
   "outputs": [],
   "source": [
    "from Lie_algebras import *\n",
    "import numpy as np"
   ]
  },
  {
   "cell_type": "markdown",
   "metadata": {},
   "source": [
    "### Messing about with finding algebras"
   ]
  },
  {
   "cell_type": "code",
   "execution_count": 3,
   "metadata": {},
   "outputs": [
    {
     "name": "stdout",
     "output_type": "stream",
     "text": [
      "Full algebra:\n",
      "8\n",
      "[SuperPauli([(1, Pauli([Z, I, I])), (1, Pauli([I, Z, I])), (1, Pauli([I, I, Z]))]), SuperPauli([(1, Pauli([X, X, I])), (1, Pauli([I, X, X])), (1, Pauli([X, I, X]))]), SuperPauli([(2j, Pauli([Y, X, I])), (2j, Pauli([Y, I, X])), (2j, Pauli([X, Y, I])), (2j, Pauli([I, Y, X])), (2j, Pauli([I, X, Y])), (2j, Pauli([X, I, Y]))]), SuperPauli([((8+0j), Pauli([X, X, I])), ((8+0j), Pauli([X, I, X])), ((-8+0j), Pauli([Y, Y, I])), ((-8+0j), Pauli([Y, I, Y])), ((8+0j), Pauli([I, X, X])), ((-8+0j), Pauli([I, Y, Y]))]), SuperPauli([((-8+0j), Pauli([Z, I, I])), ((-8+0j), Pauli([Z, X, X])), ((-8+0j), Pauli([I, Z, I])), ((-8+0j), Pauli([X, Z, X])), ((-8+0j), Pauli([I, I, Z])), ((-8+0j), Pauli([X, X, Z]))]), SuperPauli([((-0-16j), Pauli([Y, Z, X])), ((-0-16j), Pauli([Y, X, Z])), ((-0-16j), Pauli([Z, Y, X])), ((-0-16j), Pauli([X, Y, Z])), ((-0-16j), Pauli([Z, X, Y])), ((-0-16j), Pauli([X, Z, Y]))]), SuperPauli([((128+0j), Pauli([Z, I, I])), ((64+0j), Pauli([Z, X, X])), ((128+0j), Pauli([I, Z, I])), ((64-0j), Pauli([Y, Z, Y])), ((128+0j), Pauli([I, I, Z])), ((64-0j), Pauli([Y, Y, Z])), ((64-0j), Pauli([Z, Y, Y])), ((64+0j), Pauli([X, Z, X])), ((64+0j), Pauli([X, X, Z]))]), SuperPauli([((128-0j), Pauli([X, X, I])), ((128-0j), Pauli([X, I, X])), ((-64+0j), Pauli([Y, Y, I])), ((-64+0j), Pauli([Z, I, Z])), ((-64+0j), Pauli([Z, Z, I])), ((-64+0j), Pauli([Y, I, Y])), ((128-0j), Pauli([I, X, X])), ((-64+0j), Pauli([I, Z, Z])), ((-64+0j), Pauli([I, Y, Y]))])]\n",
      "Hopefully smaller algebra:\n",
      "10\n",
      "[SuperPauli([(1, Pauli([X, I, Y]))]), SuperPauli([(-2j, Pauli([Y, I, Y])), (2j, Pauli([X, I, X]))]), SuperPauli([(-2j, Pauli([X, X, Z])), (-2j, Pauli([I, I, Z]))]), SuperPauli([((4+0j), Pauli([Z, I, I])), ((4+0j), Pauli([I, I, Z]))]), SuperPauli([((4+0j), Pauli([I, X, X])), ((4+0j), Pauli([X, I, X]))]), SuperPauli([(-8j, Pauli([Y, I, X])), (-8j, Pauli([I, X, Y])), (-8j, Pauli([X, I, Y]))]), SuperPauli([((32+0j), Pauli([X, I, Y])), ((32+0j), Pauli([Y, I, X]))]), SuperPauli([((-16-0j), Pauli([Y, X, Z]))]), SuperPauli([(64j, Pauli([I, I, Z])), (64j, Pauli([Z, I, I])), (32j, Pauli([X, X, Z]))]), SuperPauli([((-0+64j), Pauli([X, I, X])), ((-0+64j), Pauli([I, X, X])), (-32j, Pauli([Y, I, Y]))])]\n"
     ]
    }
   ],
   "source": [
    "# general n\n",
    "n = 3\n",
    "ops1, ops2 = [], []\n",
    "for i in range(n):\n",
    "    new_op = [I for i in range(n)]\n",
    "    new_op[i] = Z\n",
    "    ops1.append(new_op)\n",
    "for i in range(n):\n",
    "    new_op = [I for i in range(n)]\n",
    "    new_op[i] = X\n",
    "    new_op[(i+1)%n] = X\n",
    "    ops2.append(new_op)\n",
    "op1 = Pauli(ops1[0])\n",
    "op2 = Pauli(ops2[0])\n",
    "for j in range(1, len(ops1)):\n",
    "    op1 += Pauli(ops1[j])\n",
    "for j in range(1, len(ops2)):\n",
    "    op2 += Pauli(ops2[j])\n",
    "\n",
    "ops3 = [I for i in range(n)]\n",
    "ops3[0], ops3[n-1] = X, Y\n",
    "op3 = Pauli(ops3)\n",
    "\n",
    "alg = pauli_find_algebra([op3], [op1, op2], 30)\n",
    "alg_full = pauli_complete_algebra([op1, op2], 30)\n",
    "print(\"Full algebra:\")\n",
    "print(len(alg_full))\n",
    "print(alg_full)\n",
    "print(\"Hopefully smaller algebra:\")\n",
    "print(len(alg))\n",
    "print(alg)"
   ]
  },
  {
   "cell_type": "code",
   "execution_count": 6,
   "metadata": {},
   "outputs": [
    {
     "name": "stdout",
     "output_type": "stream",
     "text": [
      "152 ms ± 19.5 ms per loop (mean ± std. dev. of 7 runs, 10 loops each)\n"
     ]
    }
   ],
   "source": [
    "%timeit pauli_find_algebra([op3], [op1, op2], 20)"
   ]
  },
  {
   "cell_type": "code",
   "execution_count": 3,
   "metadata": {},
   "outputs": [
    {
     "name": "stdout",
     "output_type": "stream",
     "text": [
      "80.5 ms ± 1.79 ms per loop (mean ± std. dev. of 7 runs, 10 loops each)\n"
     ]
    }
   ],
   "source": [
    "%timeit pauli_find_algebra([op3], [op1, op2], 20)"
   ]
  },
  {
   "cell_type": "code",
   "execution_count": 4,
   "metadata": {},
   "outputs": [
    {
     "name": "stdout",
     "output_type": "stream",
     "text": [
      "41.5 ms ± 430 µs per loop (mean ± std. dev. of 7 runs, 10 loops each)\n"
     ]
    }
   ],
   "source": [
    "%timeit pauli_find_algebra([op3], [op1, op2], 20)"
   ]
  },
  {
   "cell_type": "code",
   "execution_count": 16,
   "metadata": {},
   "outputs": [
    {
     "data": {
      "text/plain": [
       "[SuperPauli([(1, Pauli([X]))]),\n",
       " SuperPauli([(1, Pauli([Y]))]),\n",
       " SuperPauli([(2j, Pauli([Z]))])]"
      ]
     },
     "execution_count": 16,
     "metadata": {},
     "output_type": "execute_result"
    }
   ],
   "source": [
    "pauli_find_algebra([Pauli([X]), Pauli([Y])], [Pauli([Z])], 30)"
   ]
  },
  {
   "cell_type": "code",
   "execution_count": null,
   "metadata": {},
   "outputs": [],
   "source": []
  },
  {
   "cell_type": "code",
   "execution_count": 7,
   "metadata": {},
   "outputs": [
    {
     "data": {
      "text/plain": [
       "64"
      ]
     },
     "execution_count": 7,
     "metadata": {},
     "output_type": "execute_result"
    }
   ],
   "source": [
    "op1 = Pauli([X, X, I, I])\n",
    "op2 = Pauli([X, I, X, I])\n",
    "op3 = Pauli([X, I, I, X])\n",
    "op4 = Pauli([I, X, X, I])\n",
    "op5 = Pauli([I, I, X, X])\n",
    "op5 = Pauli([Z, I, I, I]) + Pauli([I, Z, I, I]) + Pauli([I, I, Z, I]) + Pauli([I, I, I, Z])\n",
    "\n",
    "com = pauli_complete_algebra([op1, op2, op3, op4, op5], 200)\n",
    "len(com)\n",
    "\n",
    "fin = pauli_find_algebra([op5], [op1, op2, op3, op4, op5], 200)\n",
    "len(fin)"
   ]
  },
  {
   "cell_type": "code",
   "execution_count": 8,
   "metadata": {},
   "outputs": [
    {
     "data": {
      "text/plain": [
       "126"
      ]
     },
     "execution_count": 8,
     "metadata": {},
     "output_type": "execute_result"
    },
    {
     "ename": "",
     "evalue": "",
     "output_type": "error",
     "traceback": [
      "\u001b[1;31mThe Kernel crashed while executing code in the the current cell or a previous cell. Please review the code in the cell(s) to identify a possible cause of the failure. Click <a href='https://aka.ms/vscodeJupyterKernelCrash'>here</a> for more info. View Jupyter <a href='command:jupyter.viewOutput'>log</a> for further details."
     ]
    }
   ],
   "source": [
    "len(com)"
   ]
  },
  {
   "cell_type": "code",
   "execution_count": 5,
   "metadata": {},
   "outputs": [
    {
     "data": {
      "text/plain": [
       "3"
      ]
     },
     "execution_count": 5,
     "metadata": {},
     "output_type": "execute_result"
    }
   ],
   "source": [
    "len(com)"
   ]
  },
  {
   "cell_type": "markdown",
   "metadata": {},
   "source": [
    "### Task: Testing $g_1$ algebra from paper (with timing)"
   ]
  },
  {
   "cell_type": "code",
   "execution_count": 11,
   "metadata": {},
   "outputs": [
    {
     "data": {
      "text/plain": [
       "12"
      ]
     },
     "execution_count": 11,
     "metadata": {},
     "output_type": "execute_result"
    }
   ],
   "source": [
    "op1 = Pauli([X, Y, I])\n",
    "op2 = Pauli([I, X, Y])\n",
    "op4 = Pauli([Y, I, X])\n",
    "op3 = Pauli([I, Z, Z])\n",
    "pau3 = pauli_complete_algebra([op1, op2, op3, op4], 20)\n",
    "len(pau3)"
   ]
  },
  {
   "cell_type": "code",
   "execution_count": 12,
   "metadata": {},
   "outputs": [
    {
     "data": {
      "text/plain": [
       "[SuperPauli([(1, Pauli([X, Y, I]))]),\n",
       " SuperPauli([(1, Pauli([I, X, Y]))]),\n",
       " SuperPauli([(1, Pauli([I, Z, Z]))]),\n",
       " SuperPauli([(1, Pauli([Y, I, X]))]),\n",
       " SuperPauli([(-2j, Pauli([X, Z, Y]))]),\n",
       " SuperPauli([(2j, Pauli([X, X, Z]))]),\n",
       " SuperPauli([(2j, Pauli([Z, Y, X]))]),\n",
       " SuperPauli([(-2j, Pauli([Y, X, Z]))]),\n",
       " SuperPauli([(2j, Pauli([Y, Z, Y]))]),\n",
       " SuperPauli([((-4+0j), Pauli([X, I, X]))]),\n",
       " SuperPauli([((4+0j), Pauli([Y, Y, I]))]),\n",
       " SuperPauli([(8j, Pauli([Z, I, I]))])]"
      ]
     },
     "execution_count": 12,
     "metadata": {},
     "output_type": "execute_result"
    }
   ],
   "source": [
    "pau3"
   ]
  },
  {
   "cell_type": "code",
   "execution_count": 45,
   "metadata": {},
   "outputs": [
    {
     "data": {
      "text/plain": [
       "15"
      ]
     },
     "execution_count": 45,
     "metadata": {},
     "output_type": "execute_result"
    }
   ],
   "source": [
    "op1 = Pauli([X, Y, I, I, I, I])\n",
    "op2 = Pauli([I, X, Y, I, I, I])\n",
    "op3 = Pauli([I, I, X, Y, I, I])\n",
    "op4 = Pauli([I, Z, X, I, I, I])\n",
    "op5 = Pauli([I, I, Y, Z, I, I])\n",
    "pau4_e = pauli_complete_algebra([op1, op2, op3, op4, op5], 20)\n",
    "len(pau4_e)"
   ]
  },
  {
   "cell_type": "code",
   "execution_count": 46,
   "metadata": {},
   "outputs": [
    {
     "data": {
      "text/plain": [
       "[SuperPauli([(1, Pauli([X, Y, I, I, I, I]))]),\n",
       " SuperPauli([(1, Pauli([I, X, Y, I, I, I]))]),\n",
       " SuperPauli([(1, Pauli([I, I, X, Y, I, I]))]),\n",
       " SuperPauli([(1, Pauli([I, Z, X, I, I, I]))]),\n",
       " SuperPauli([(1, Pauli([I, I, Y, Z, I, I]))]),\n",
       " SuperPauli([(-2j, Pauli([X, Z, Y, I, I, I]))]),\n",
       " SuperPauli([(2j, Pauli([X, X, X, I, I, I]))]),\n",
       " SuperPauli([(-2j, Pauli([I, X, Z, Y, I, I]))]),\n",
       " SuperPauli([(2j, Pauli([I, Z, Z, Z, I, I]))]),\n",
       " SuperPauli([((-4-0j), Pauli([X, Z, Z, Y, I, I]))]),\n",
       " SuperPauli([((-4+0j), Pauli([X, X, Z, Z, I, I]))]),\n",
       " SuperPauli([((4+0j), Pauli([X, I, Z, I, I, I]))]),\n",
       " SuperPauli([(8j, Pauli([X, I, X, Z, I, I]))]),\n",
       " SuperPauli([(-8j, Pauli([X, I, Y, Y, I, I]))]),\n",
       " SuperPauli([((-16+0j), Pauli([X, I, I, X, I, I]))])]"
      ]
     },
     "execution_count": 46,
     "metadata": {},
     "output_type": "execute_result"
    }
   ],
   "source": [
    "pau4_e"
   ]
  },
  {
   "cell_type": "code",
   "execution_count": 36,
   "metadata": {},
   "outputs": [
    {
     "data": {
      "text/plain": [
       "6"
      ]
     },
     "execution_count": 36,
     "metadata": {},
     "output_type": "execute_result"
    }
   ],
   "source": [
    "op1 = Pauli([X, Y, I, I, I, I])\n",
    "op2 = Pauli([I, X, Y, I, I, I])\n",
    "op3 = Pauli([I, I, X, Z, I, I])\n",
    "op4 = Pauli([I, I, Z, X, I, I])\n",
    "pau4_e = pauli_complete_algebra([op1, op2, op3], 10)\n",
    "len(pau4_e)"
   ]
  },
  {
   "cell_type": "code",
   "execution_count": 37,
   "metadata": {},
   "outputs": [
    {
     "data": {
      "text/plain": [
       "[SuperPauli([(1, Pauli([X, Y, I, I, I, I]))]),\n",
       " SuperPauli([(1, Pauli([I, X, Y, I, I, I]))]),\n",
       " SuperPauli([(1, Pauli([I, I, X, Z, I, I]))]),\n",
       " SuperPauli([(-2j, Pauli([X, Z, Y, I, I, I]))]),\n",
       " SuperPauli([(-2j, Pauli([I, X, Z, Z, I, I]))]),\n",
       " SuperPauli([((-4-0j), Pauli([X, Z, Z, Z, I, I]))])]"
      ]
     },
     "execution_count": 37,
     "metadata": {},
     "output_type": "execute_result"
    }
   ],
   "source": [
    "pau4_e"
   ]
  },
  {
   "cell_type": "code",
   "execution_count": 10,
   "metadata": {},
   "outputs": [
    {
     "data": {
      "text/plain": [
       "13"
      ]
     },
     "execution_count": 10,
     "metadata": {},
     "output_type": "execute_result"
    }
   ],
   "source": [
    "op1 = Pauli([X, Y, I, I]) + Pauli([I, I, X, Y])\n",
    "op2 = Pauli([I, X, Y, I]) + Pauli([Y, I, I, X])\n",
    "op3 = Pauli([Z, Z, I, I]) + Pauli([I, Z, Z, I]) + Pauli([I, I, Z, Z]) + Pauli([Z, I, I, Z])\n",
    "pau4 = pauli_complete_algebra([op1, op2, op3], 20)\n",
    "len(pau4)"
   ]
  },
  {
   "cell_type": "code",
   "execution_count": 12,
   "metadata": {},
   "outputs": [
    {
     "ename": "KeyboardInterrupt",
     "evalue": "",
     "output_type": "error",
     "traceback": [
      "\u001b[1;31m---------------------------------------------------------------------------\u001b[0m",
      "\u001b[1;31mKeyboardInterrupt\u001b[0m                         Traceback (most recent call last)",
      "Cell \u001b[1;32mIn[12], line 4\u001b[0m\n\u001b[0;32m      2\u001b[0m op2 \u001b[38;5;241m=\u001b[39m Pauli([I, X, Y, I, I]) \u001b[38;5;241m+\u001b[39m Pauli([I, I, I, X, Y])\n\u001b[0;32m      3\u001b[0m op3 \u001b[38;5;241m=\u001b[39m Pauli([Z, Z, I, I, I]) \u001b[38;5;241m+\u001b[39m Pauli([I, Z, Z, I, I]) \u001b[38;5;241m+\u001b[39m Pauli([I, I, Z, Z, I]) \u001b[38;5;241m+\u001b[39m Pauli([I, I, I, Z, Z]) \u001b[38;5;241m+\u001b[39m Pauli([Z, I, I, I, Z])\n\u001b[1;32m----> 4\u001b[0m pau5 \u001b[38;5;241m=\u001b[39m \u001b[43mpauli_complete_algebra\u001b[49m\u001b[43m(\u001b[49m\u001b[43m[\u001b[49m\u001b[43mop1\u001b[49m\u001b[43m,\u001b[49m\u001b[43m \u001b[49m\u001b[43mop2\u001b[49m\u001b[43m,\u001b[49m\u001b[43m \u001b[49m\u001b[43mop3\u001b[49m\u001b[43m]\u001b[49m\u001b[43m,\u001b[49m\u001b[43m \u001b[49m\u001b[38;5;241;43m500\u001b[39;49m\u001b[43m)\u001b[49m\n\u001b[0;32m      5\u001b[0m \u001b[38;5;28mlen\u001b[39m(pau5)\n",
      "File \u001b[1;32mc:\\Users\\elean\\Documents\\Imperial College London\\Mathematics Undergraduate\\Year 4\\M4R\\Lie Algebras Code\\Lie-algebras\\Lie_algebras.py:809\u001b[0m, in \u001b[0;36mpauli_complete_algebra\u001b[1;34m(Ops, max, start, anti)\u001b[0m\n\u001b[0;32m    805\u001b[0m old_Ops \u001b[38;5;241m=\u001b[39m Ops\u001b[38;5;241m.\u001b[39mcopy()\n\u001b[0;32m    807\u001b[0m \u001b[38;5;28;01mwhile\u001b[39;00m \u001b[38;5;28;01mTrue\u001b[39;00m:\n\u001b[0;32m    808\u001b[0m     \u001b[38;5;66;03m# find new set of linearly independent operators to extend old_Ops\u001b[39;00m\n\u001b[1;32m--> 809\u001b[0m     new_Ops \u001b[38;5;241m=\u001b[39m \u001b[43mpauli_complete_algebra_inner\u001b[49m\u001b[43m(\u001b[49m\u001b[43mold_Ops\u001b[49m\u001b[43m,\u001b[49m\u001b[43m \u001b[49m\u001b[43mstart\u001b[49m\u001b[43m,\u001b[49m\u001b[43m \u001b[49m\u001b[43manti\u001b[49m\u001b[38;5;241;43m=\u001b[39;49m\u001b[43manti\u001b[49m\u001b[43m)\u001b[49m\n\u001b[0;32m    811\u001b[0m     \u001b[38;5;66;03m# number of new operators added\u001b[39;00m\n\u001b[0;32m    812\u001b[0m     added_ops \u001b[38;5;241m=\u001b[39m \u001b[38;5;28mlen\u001b[39m(new_Ops) \u001b[38;5;241m-\u001b[39m \u001b[38;5;28mlen\u001b[39m(old_Ops)\n",
      "File \u001b[1;32mc:\\Users\\elean\\Documents\\Imperial College London\\Mathematics Undergraduate\\Year 4\\M4R\\Lie Algebras Code\\Lie-algebras\\Lie_algebras.py:770\u001b[0m, in \u001b[0;36mpauli_complete_algebra_inner\u001b[1;34m(Ops, start, anti)\u001b[0m\n\u001b[0;32m    768\u001b[0m             new_op \u001b[38;5;241m=\u001b[39m comm(new_Ops[i], new_Ops[j])\n\u001b[0;32m    769\u001b[0m         new_Ops\u001b[38;5;241m.\u001b[39mappend(new_op)\n\u001b[1;32m--> 770\u001b[0m         \u001b[38;5;28;01mif\u001b[39;00m \u001b[38;5;129;01mnot\u001b[39;00m \u001b[43mlin_ind\u001b[49m\u001b[43m(\u001b[49m\u001b[43mnew_Ops\u001b[49m\u001b[43m)\u001b[49m:\n\u001b[0;32m    771\u001b[0m             new_Ops\u001b[38;5;241m.\u001b[39mpop()\n\u001b[0;32m    772\u001b[0m \u001b[38;5;28;01mreturn\u001b[39;00m new_Ops\n",
      "File \u001b[1;32mc:\\Users\\elean\\Documents\\Imperial College London\\Mathematics Undergraduate\\Year 4\\M4R\\Lie Algebras Code\\Lie-algebras\\Lie_algebras.py:741\u001b[0m, in \u001b[0;36mlin_ind\u001b[1;34m(paulis)\u001b[0m\n\u001b[0;32m    739\u001b[0m         pauli \u001b[38;5;241m=\u001b[39m SuperPauli([(\u001b[38;5;241m1\u001b[39m, pauli)])\n\u001b[0;32m    740\u001b[0m     \u001b[38;5;28;01mfor\u001b[39;00m op \u001b[38;5;129;01min\u001b[39;00m pauli\u001b[38;5;241m.\u001b[39mpauli_list:\n\u001b[1;32m--> 741\u001b[0m         \u001b[38;5;28;01mif\u001b[39;00m \u001b[43mop\u001b[49m\u001b[43m \u001b[49m\u001b[38;5;129;43;01mnot\u001b[39;49;00m\u001b[43m \u001b[49m\u001b[38;5;129;43;01min\u001b[39;49;00m\u001b[43m \u001b[49m\u001b[43mbasis\u001b[49m:\n\u001b[0;32m    742\u001b[0m             basis\u001b[38;5;241m.\u001b[39mappend(op)\n\u001b[0;32m    744\u001b[0m vectors \u001b[38;5;241m=\u001b[39m []\n",
      "File \u001b[1;32mc:\\Users\\elean\\Documents\\Imperial College London\\Mathematics Undergraduate\\Year 4\\M4R\\Lie Algebras Code\\Lie-algebras\\Lie_algebras.py:303\u001b[0m, in \u001b[0;36mPauli.__eq__\u001b[1;34m(self, other)\u001b[0m\n\u001b[0;32m    289\u001b[0m \u001b[38;5;28;01mdef\u001b[39;00m \u001b[38;5;21m__eq__\u001b[39m(\u001b[38;5;28mself\u001b[39m, other):\n\u001b[0;32m    290\u001b[0m \u001b[38;5;250m    \u001b[39m\u001b[38;5;124;03m\"\"\"\u001b[39;00m\n\u001b[0;32m    291\u001b[0m \u001b[38;5;124;03m    Check if Pauli tensor products are equal.\u001b[39;00m\n\u001b[0;32m    292\u001b[0m \n\u001b[1;32m   (...)\u001b[0m\n\u001b[0;32m    301\u001b[0m \u001b[38;5;124;03m        True if equal, False otherwise\u001b[39;00m\n\u001b[0;32m    302\u001b[0m \u001b[38;5;124;03m    \"\"\"\u001b[39;00m\n\u001b[1;32m--> 303\u001b[0m     \u001b[38;5;28;01mreturn\u001b[39;00m \u001b[38;5;28misinstance\u001b[39m(other, Pauli) \u001b[38;5;129;01mand\u001b[39;00m \u001b[43mnp\u001b[49m\u001b[38;5;241;43m.\u001b[39;49m\u001b[43marray_equal\u001b[49m\u001b[43m(\u001b[49m\u001b[38;5;28;43mself\u001b[39;49m\u001b[38;5;241;43m.\u001b[39;49m\u001b[43mq_decomp\u001b[49m\u001b[43m,\u001b[49m\u001b[43m \u001b[49m\u001b[43mother\u001b[49m\u001b[38;5;241;43m.\u001b[39;49m\u001b[43mq_decomp\u001b[49m\u001b[43m)\u001b[49m\n",
      "File \u001b[1;32mc:\\Users\\elean\\Documents\\Imperial College London\\Mathematics Undergraduate\\Year 4\\M4R\\Lie Algebras Code\\lie_venv\\lib\\site-packages\\numpy\\core\\numeric.py:2439\u001b[0m, in \u001b[0;36marray_equal\u001b[1;34m(a1, a2, equal_nan)\u001b[0m\n\u001b[0;32m   2437\u001b[0m     \u001b[38;5;28;01mreturn\u001b[39;00m \u001b[38;5;28;01mFalse\u001b[39;00m\n\u001b[0;32m   2438\u001b[0m \u001b[38;5;28;01mif\u001b[39;00m \u001b[38;5;129;01mnot\u001b[39;00m equal_nan:\n\u001b[1;32m-> 2439\u001b[0m     \u001b[38;5;28;01mreturn\u001b[39;00m \u001b[38;5;28;43mbool\u001b[39;49m\u001b[43m(\u001b[49m\u001b[43masarray\u001b[49m\u001b[43m(\u001b[49m\u001b[43ma1\u001b[49m\u001b[43m \u001b[49m\u001b[38;5;241;43m==\u001b[39;49m\u001b[43m \u001b[49m\u001b[43ma2\u001b[49m\u001b[43m)\u001b[49m\u001b[38;5;241;43m.\u001b[39;49m\u001b[43mall\u001b[49m\u001b[43m(\u001b[49m\u001b[43m)\u001b[49m\u001b[43m)\u001b[49m\n\u001b[0;32m   2440\u001b[0m \u001b[38;5;66;03m# Handling NaN values if equal_nan is True\u001b[39;00m\n\u001b[0;32m   2441\u001b[0m a1nan, a2nan \u001b[38;5;241m=\u001b[39m isnan(a1), isnan(a2)\n",
      "\u001b[1;31mKeyboardInterrupt\u001b[0m: "
     ]
    }
   ],
   "source": [
    "op1 = Pauli([X, Y, I, I, I]) + Pauli([I, I, X, Y, I]) + Pauli([Y, I, I, I, X])\n",
    "op2 = Pauli([I, X, Y, I, I]) + Pauli([I, I, I, X, Y])\n",
    "op3 = Pauli([Z, Z, I, I, I]) + Pauli([I, Z, Z, I, I]) + Pauli([I, I, Z, Z, I]) + Pauli([I, I, I, Z, Z]) + Pauli([Z, I, I, I, Z])\n",
    "pau5 = pauli_complete_algebra([op1, op2, op3], 500)\n",
    "len(pau5)"
   ]
  },
  {
   "cell_type": "code",
   "execution_count": 28,
   "metadata": {},
   "outputs": [
    {
     "data": {
      "text/plain": [
       "SuperPauli([(-2j, Pauli([X, Z, Y, I]))])"
      ]
     },
     "execution_count": 28,
     "metadata": {},
     "output_type": "execute_result"
    }
   ],
   "source": [
    "comm(Pauli([X, Y, I, I]), Pauli([I, X, Y, I]))"
   ]
  },
  {
   "cell_type": "code",
   "execution_count": 29,
   "metadata": {},
   "outputs": [
    {
     "data": {
      "text/plain": [
       "SuperPauli([(2j, Pauli([X, I, X, I]))])"
      ]
     },
     "execution_count": 29,
     "metadata": {},
     "output_type": "execute_result"
    }
   ],
   "source": [
    "comm(Pauli([X, Z, Y, I]), Pauli([I, Z, Z, I]))"
   ]
  },
  {
   "cell_type": "code",
   "execution_count": 14,
   "metadata": {},
   "outputs": [
    {
     "data": {
      "text/plain": [
       "(SuperPauli([(1, Pauli([Z, I, I, I])), (1, Pauli([I, Z, I, I])), (1, Pauli([I, I, Z, I])), (1, Pauli([I, I, I, Z]))]),\n",
       " SuperPauli([(1, Pauli([X, X, I, I])), (1, Pauli([I, X, X, I])), (1, Pauli([I, I, X, X])), (1, Pauli([X, I, I, X]))]))"
      ]
     },
     "execution_count": 14,
     "metadata": {},
     "output_type": "execute_result"
    }
   ],
   "source": [
    "n = 4\n",
    "g1_op1 = z_tensor(n, [0])\n",
    "for i in range(1, n):\n",
    "    g1_op1 += z_tensor(n, [i])\n",
    "g1_op2 = x_tensor(n, [0, 1])\n",
    "for i in range(1, n):\n",
    "    g1_op2 += x_tensor(n, [i, (i+1)%n])\n",
    "g1_op1, g1_op2"
   ]
  },
  {
   "cell_type": "code",
   "execution_count": 23,
   "metadata": {},
   "outputs": [
    {
     "data": {
      "text/plain": [
       "[SuperPauli([(1, Pauli([Z, I, I, I])), (1, Pauli([I, Z, I, I])), (1, Pauli([I, I, Z, I])), (1, Pauli([I, I, I, Z]))]),\n",
       " SuperPauli([(1, Pauli([X, X, I, I])), (1, Pauli([I, X, X, I])), (1, Pauli([I, I, X, X])), (1, Pauli([X, I, I, X]))]),\n",
       " SuperPauli([(2j, Pauli([Y, X, I, I])), (2j, Pauli([Y, I, I, X])), (2j, Pauli([X, Y, I, I])), (2j, Pauli([I, Y, X, I])), (2j, Pauli([I, X, Y, I])), (2j, Pauli([I, I, Y, X])), (2j, Pauli([I, I, X, Y])), (2j, Pauli([X, I, I, Y]))]),\n",
       " SuperPauli([((8+0j), Pauli([X, X, I, I])), ((8+0j), Pauli([X, I, I, X])), ((-8+0j), Pauli([Y, Y, I, I])), ((-8+0j), Pauli([Y, I, I, Y])), ((8+0j), Pauli([I, X, X, I])), ((-8+0j), Pauli([I, Y, Y, I])), ((8+0j), Pauli([I, I, X, X])), ((-8+0j), Pauli([I, I, Y, Y]))]),\n",
       " SuperPauli([((-8+0j), Pauli([Z, I, I, I])), ((-8+0j), Pauli([Z, X, I, X])), ((-8+0j), Pauli([I, Z, I, I])), ((-8+0j), Pauli([X, Z, X, I])), ((-8+0j), Pauli([I, I, Z, I])), ((-8+0j), Pauli([I, X, Z, X])), ((-8+0j), Pauli([I, I, I, Z])), ((-8+0j), Pauli([X, I, X, Z]))]),\n",
       " SuperPauli([((-0-16j), Pauli([Y, Z, X, I])), ((-0-16j), Pauli([Y, I, X, Z])), ((-0-16j), Pauli([Z, Y, I, X])), ((-0-16j), Pauli([I, Y, Z, X])), ((-0-16j), Pauli([X, Z, Y, I])), ((-0-16j), Pauli([X, I, Y, Z])), ((-0-16j), Pauli([Z, X, I, Y])), ((-0-16j), Pauli([I, X, Z, Y]))]),\n",
       " SuperPauli([((128+0j), Pauli([Z, I, I, I])), ((64+0j), Pauli([Z, X, I, X])), ((128+0j), Pauli([I, Z, I, I])), ((64-0j), Pauli([Y, Z, Y, I])), ((128+0j), Pauli([I, I, I, Z])), ((64-0j), Pauli([Y, I, Y, Z])), ((64-0j), Pauli([Z, Y, I, Y])), ((64+0j), Pauli([X, Z, X, I])), ((128+0j), Pauli([I, I, Z, I])), ((64-0j), Pauli([I, Y, Z, Y])), ((64+0j), Pauli([I, X, Z, X])), ((64+0j), Pauli([X, I, X, Z]))]),\n",
       " SuperPauli([((128-0j), Pauli([X, X, I, I])), ((128-0j), Pauli([X, I, I, X])), ((-64+0j), Pauli([Y, Y, I, I])), ((-64+0j), Pauli([Z, X, X, Z])), ((-64+0j), Pauli([Z, Z, X, X])), ((-64+0j), Pauli([Y, I, I, Y])), ((128-0j), Pauli([I, X, X, I])), ((-64+0j), Pauli([X, Z, Z, X])), ((-64+0j), Pauli([I, Y, Y, I])), ((128-0j), Pauli([I, I, X, X])), ((-64+0j), Pauli([X, X, Z, Z])), ((-64+0j), Pauli([I, I, Y, Y]))]),\n",
       " SuperPauli([(384j, Pauli([Y, X, I, I])), (384j, Pauli([Y, I, I, X])), (384j, Pauli([X, Y, I, I])), (384j, Pauli([I, Y, X, I])), (384j, Pauli([X, I, I, Y])), (384j, Pauli([I, I, X, Y])), (-128j, Pauli([Y, Z, Z, X])), (-128j, Pauli([Z, Y, X, Z])), (-128j, Pauli([Z, Z, X, Y])), (-128j, Pauli([Y, X, Z, Z])), (384j, Pauli([I, X, Y, I])), (384j, Pauli([I, I, Y, X])), (-128j, Pauli([Z, Z, Y, X])), (-128j, Pauli([X, Y, Z, Z])), (-128j, Pauli([Z, X, Y, Z])), (-128j, Pauli([X, Z, Z, Y]))]),\n",
       " SuperPauli([((1536+0j), Pauli([X, X, I, I])), ((1536+0j), Pauli([X, I, I, X])), ((-1536+0j), Pauli([Y, Y, I, I])), ((-1536+0j), Pauli([Y, I, I, Y])), ((-512-0j), Pauli([X, Z, Z, X])), ((-512-0j), Pauli([X, X, Z, Z])), ((512+0j), Pauli([Y, Y, Z, Z])), ((512+0j), Pauli([Y, Z, Z, Y])), ((1536+0j), Pauli([I, X, X, I])), ((-512-0j), Pauli([Z, X, X, Z])), ((-1536+0j), Pauli([I, Y, Y, I])), ((512+0j), Pauli([Z, Y, Y, Z])), ((-1536+0j), Pauli([I, I, Y, Y])), ((512+0j), Pauli([Z, Z, Y, Y])), ((1536+0j), Pauli([I, I, X, X])), ((-512-0j), Pauli([Z, Z, X, X]))]),\n",
       " SuperPauli([((-1536+0j), Pauli([Z, I, I, I])), ((-1536+0j), Pauli([Z, X, I, X])), ((-1536+0j), Pauli([I, Z, I, I])), ((-1536+0j), Pauli([X, Z, X, I])), ((512+0j), Pauli([Z, I, Z, Z])), ((512+0j), Pauli([I, Z, Z, Z])), ((-512-0j), Pauli([Y, I, Y, Z])), ((-512-0j), Pauli([I, Y, Z, Y])), ((512+0j), Pauli([Z, Z, I, Z])), ((-512-0j), Pauli([Z, Y, I, Y])), ((-1536+0j), Pauli([I, I, Z, I])), ((-1536+0j), Pauli([I, X, Z, X])), ((-1536+0j), Pauli([X, I, X, Z])), ((-1536+0j), Pauli([I, I, I, Z])), ((-512-0j), Pauli([Y, Z, Y, I])), ((512+0j), Pauli([Z, Z, Z, I]))])]"
      ]
     },
     "execution_count": 23,
     "metadata": {},
     "output_type": "execute_result"
    }
   ],
   "source": [
    "pauli_complete_algebra([g1_op1, g1_op2], 11)"
   ]
  },
  {
   "cell_type": "code",
   "execution_count": 11,
   "metadata": {},
   "outputs": [
    {
     "data": {
      "text/plain": [
       "8"
      ]
     },
     "execution_count": 11,
     "metadata": {},
     "output_type": "execute_result"
    }
   ],
   "source": [
    "len(pauli_complete_algebra([g1_op1, g1_op2], 20, anti=True))"
   ]
  },
  {
   "cell_type": "code",
   "execution_count": 13,
   "metadata": {},
   "outputs": [
    {
     "data": {
      "text/plain": [
       "[SuperPauli([(1, Pauli([Z, I, I, I])), (1, Pauli([I, Z, I, I])), (1, Pauli([I, I, Z, I])), (1, Pauli([I, I, I, Z]))]),\n",
       " SuperPauli([(1, Pauli([X, X, I, I])), (1, Pauli([I, X, X, I])), (1, Pauli([I, I, X, X])), (1, Pauli([X, I, I, X]))]),\n",
       " SuperPauli([(2j, Pauli([Y, X, I, I])), (2j, Pauli([Y, I, I, X])), (2j, Pauli([X, Y, I, I])), (2j, Pauli([I, Y, X, I])), (2j, Pauli([I, X, Y, I])), (2j, Pauli([I, I, Y, X])), (2j, Pauli([I, I, X, Y])), (2j, Pauli([X, I, I, Y]))]),\n",
       " SuperPauli([((8+0j), Pauli([X, X, I, I])), ((8+0j), Pauli([X, I, I, X])), ((-8+0j), Pauli([Y, Y, I, I])), ((-8+0j), Pauli([Y, I, I, Y])), ((8+0j), Pauli([I, X, X, I])), ((-8+0j), Pauli([I, Y, Y, I])), ((8+0j), Pauli([I, I, X, X])), ((-8+0j), Pauli([I, I, Y, Y]))]),\n",
       " SuperPauli([((-8+0j), Pauli([Z, I, I, I])), ((-8+0j), Pauli([Z, X, I, X])), ((-8+0j), Pauli([I, Z, I, I])), ((-8+0j), Pauli([X, Z, X, I])), ((-8+0j), Pauli([I, I, Z, I])), ((-8+0j), Pauli([I, X, Z, X])), ((-8+0j), Pauli([I, I, I, Z])), ((-8+0j), Pauli([X, I, X, Z]))]),\n",
       " SuperPauli([((-0-16j), Pauli([Y, Z, X, I])), ((-0-16j), Pauli([Y, I, X, Z])), ((-0-16j), Pauli([Z, Y, I, X])), ((-0-16j), Pauli([I, Y, Z, X])), ((-0-16j), Pauli([X, Z, Y, I])), ((-0-16j), Pauli([X, I, Y, Z])), ((-0-16j), Pauli([Z, X, I, Y])), ((-0-16j), Pauli([I, X, Z, Y]))]),\n",
       " SuperPauli([((128+0j), Pauli([Z, I, I, I])), ((64+0j), Pauli([Z, X, I, X])), ((128+0j), Pauli([I, Z, I, I])), ((64-0j), Pauli([Y, Z, Y, I])), ((128+0j), Pauli([I, I, I, Z])), ((64-0j), Pauli([Y, I, Y, Z])), ((64-0j), Pauli([Z, Y, I, Y])), ((64+0j), Pauli([X, Z, X, I])), ((128+0j), Pauli([I, I, Z, I])), ((64-0j), Pauli([I, Y, Z, Y])), ((64+0j), Pauli([I, X, Z, X])), ((64+0j), Pauli([X, I, X, Z]))]),\n",
       " SuperPauli([((128-0j), Pauli([X, X, I, I])), ((128-0j), Pauli([X, I, I, X])), ((-64+0j), Pauli([Y, Y, I, I])), ((-64+0j), Pauli([Z, X, X, Z])), ((-64+0j), Pauli([Z, Z, X, X])), ((-64+0j), Pauli([Y, I, I, Y])), ((128-0j), Pauli([I, X, X, I])), ((-64+0j), Pauli([X, Z, Z, X])), ((-64+0j), Pauli([I, Y, Y, I])), ((128-0j), Pauli([I, I, X, X])), ((-64+0j), Pauli([X, X, Z, Z])), ((-64+0j), Pauli([I, I, Y, Y]))]),\n",
       " SuperPauli([(384j, Pauli([Y, X, I, I])), (384j, Pauli([Y, I, I, X])), (384j, Pauli([X, Y, I, I])), (384j, Pauli([I, Y, X, I])), (384j, Pauli([X, I, I, Y])), (384j, Pauli([I, I, X, Y])), (-128j, Pauli([Y, Z, Z, X])), (-128j, Pauli([Z, Y, X, Z])), (-128j, Pauli([Z, Z, X, Y])), (-128j, Pauli([Y, X, Z, Z])), (384j, Pauli([I, X, Y, I])), (384j, Pauli([I, I, Y, X])), (-128j, Pauli([Z, Z, Y, X])), (-128j, Pauli([X, Y, Z, Z])), (-128j, Pauli([Z, X, Y, Z])), (-128j, Pauli([X, Z, Z, Y]))]),\n",
       " SuperPauli([((1536+0j), Pauli([X, X, I, I])), ((1536+0j), Pauli([X, I, I, X])), ((-1536+0j), Pauli([Y, Y, I, I])), ((-1536+0j), Pauli([Y, I, I, Y])), ((-512-0j), Pauli([X, Z, Z, X])), ((-512-0j), Pauli([X, X, Z, Z])), ((512+0j), Pauli([Y, Y, Z, Z])), ((512+0j), Pauli([Y, Z, Z, Y])), ((1536+0j), Pauli([I, X, X, I])), ((-512-0j), Pauli([Z, X, X, Z])), ((-1536+0j), Pauli([I, Y, Y, I])), ((512+0j), Pauli([Z, Y, Y, Z])), ((-1536+0j), Pauli([I, I, Y, Y])), ((512+0j), Pauli([Z, Z, Y, Y])), ((1536+0j), Pauli([I, I, X, X])), ((-512-0j), Pauli([Z, Z, X, X]))]),\n",
       " SuperPauli([((-1536+0j), Pauli([Z, I, I, I])), ((-1536+0j), Pauli([Z, X, I, X])), ((-1536+0j), Pauli([I, Z, I, I])), ((-1536+0j), Pauli([X, Z, X, I])), ((512+0j), Pauli([Z, I, Z, Z])), ((512+0j), Pauli([I, Z, Z, Z])), ((-512-0j), Pauli([Y, I, Y, Z])), ((-512-0j), Pauli([I, Y, Z, Y])), ((512+0j), Pauli([Z, Z, I, Z])), ((-512-0j), Pauli([Z, Y, I, Y])), ((-1536+0j), Pauli([I, I, Z, I])), ((-1536+0j), Pauli([I, X, Z, X])), ((-1536+0j), Pauli([X, I, X, Z])), ((-1536+0j), Pauli([I, I, I, Z])), ((-512-0j), Pauli([Y, Z, Y, I])), ((512+0j), Pauli([Z, Z, Z, I]))])]"
      ]
     },
     "execution_count": 13,
     "metadata": {},
     "output_type": "execute_result"
    }
   ],
   "source": [
    "pauli_complete_algebra([g1_op1, g1_op2], 20)"
   ]
  },
  {
   "cell_type": "code",
   "execution_count": 7,
   "metadata": {},
   "outputs": [
    {
     "data": {
      "text/plain": [
       "[SuperPauli([(1, Pauli([Z, I, I, I])), (1, Pauli([I, Z, I, I])), (1, Pauli([I, I, Z, I])), (1, Pauli([I, I, I, Z]))]),\n",
       " SuperPauli([(1, Pauli([X, X, I, I])), (1, Pauli([I, X, X, I])), (1, Pauli([I, I, X, X])), (1, Pauli([X, I, I, X]))]),\n",
       " SuperPauli([((8+0j), Pauli([I, I, I, I])), ((4+0j), Pauli([Z, Z, I, I])), ((4+0j), Pauli([Z, I, Z, I])), ((4+0j), Pauli([Z, I, I, Z])), ((4+0j), Pauli([I, Z, Z, I])), ((4+0j), Pauli([I, Z, I, Z])), ((4+0j), Pauli([I, I, Z, Z]))]),\n",
       " SuperPauli([((2+0j), Pauli([Z, X, X, I])), ((2+0j), Pauli([Z, I, X, X])), ((2+0j), Pauli([I, Z, X, X])), ((2+0j), Pauli([X, Z, I, X])), ((2+0j), Pauli([X, X, Z, I])), ((2+0j), Pauli([X, I, Z, X])), ((2+0j), Pauli([X, X, I, Z])), ((2+0j), Pauli([I, X, X, Z]))]),\n",
       " SuperPauli([((8+0j), Pauli([I, I, I, I])), ((8+0j), Pauli([X, I, X, I])), ((8+0j), Pauli([X, X, X, X])), ((8+0j), Pauli([I, X, I, X]))]),\n",
       " SuperPauli([((40+0j), Pauli([Z, I, I, I])), ((40+0j), Pauli([I, Z, I, I])), ((40+0j), Pauli([I, I, Z, I])), ((40+0j), Pauli([I, I, I, Z])), ((24+0j), Pauli([Z, Z, Z, I])), ((24+0j), Pauli([Z, Z, I, Z])), ((24+0j), Pauli([Z, I, Z, Z])), ((24+0j), Pauli([I, Z, Z, Z]))]),\n",
       " SuperPauli([((8+0j), Pauli([I, X, X, I])), ((8+0j), Pauli([I, I, X, X])), ((8+0j), Pauli([Z, Z, X, X])), ((8+0j), Pauli([Z, X, X, Z])), ((8+0j), Pauli([X, I, I, X])), ((8+0j), Pauli([X, Z, Z, X])), ((8+0j), Pauli([X, X, I, I])), ((8+0j), Pauli([X, X, Z, Z]))]),\n",
       " SuperPauli([((16+0j), Pauli([Z, I, I, I])), ((16+0j), Pauli([Z, X, I, X])), ((16+0j), Pauli([I, Z, I, I])), ((16+0j), Pauli([X, Z, X, I])), ((16+0j), Pauli([I, I, Z, I])), ((16+0j), Pauli([I, X, Z, X])), ((16+0j), Pauli([I, I, I, Z])), ((16+0j), Pauli([X, I, X, Z]))]),\n",
       " SuperPauli([((16+0j), Pauli([X, X, I, I])), ((-8+0j), Pauli([Y, Y, I, I])), ((8+0j), Pauli([X, X, Z, Z])), ((16+0j), Pauli([I, X, X, I])), ((8+0j), Pauli([Z, X, X, Z])), ((-8+0j), Pauli([I, Y, Y, I])), ((16+0j), Pauli([I, I, X, X])), ((8+0j), Pauli([Z, Z, X, X])), ((-8+0j), Pauli([I, I, Y, Y])), ((16+0j), Pauli([X, I, I, X])), ((-8+0j), Pauli([Y, I, I, Y])), ((8+0j), Pauli([X, Z, Z, X]))]),\n",
       " SuperPauli([((320+0j), Pauli([I, I, I, I])), ((256+0j), Pauli([Z, Z, I, I])), ((256+0j), Pauli([Z, I, Z, I])), ((256+0j), Pauli([Z, I, I, Z])), ((256+0j), Pauli([I, Z, Z, I])), ((256+0j), Pauli([I, Z, I, Z])), ((256+0j), Pauli([I, I, Z, Z])), ((192+0j), Pauli([Z, Z, Z, Z]))]),\n",
       " SuperPauli([((48+0j), Pauli([Z, X, X, I])), ((48+0j), Pauli([Z, I, X, X])), ((48+0j), Pauli([I, Z, X, X])), ((48+0j), Pauli([X, Z, I, X])), ((48+0j), Pauli([X, X, Z, I])), ((48+0j), Pauli([X, I, Z, X])), ((48+0j), Pauli([X, X, I, Z])), ((48+0j), Pauli([I, X, X, Z])), ((-16+0j), Pauli([Y, Y, Z, I])), ((-16+0j), Pauli([Y, Y, I, Z])), ((-16+0j), Pauli([Y, Z, I, Y])), ((-16+0j), Pauli([Y, I, Z, Y])), ((-16+0j), Pauli([Z, Y, Y, I])), ((-16+0j), Pauli([I, Y, Y, Z])), ((-16+0j), Pauli([Z, I, Y, Y])), ((-16+0j), Pauli([I, Z, Y, Y]))]),\n",
       " SuperPauli([((128+0j), Pauli([I, I, I, I])), ((128+0j), Pauli([X, I, X, I])), ((128+0j), Pauli([X, X, X, X])), ((128+0j), Pauli([I, X, I, X])), ((64+0j), Pauli([Z, Z, I, I])), ((-64+0j), Pauli([Y, Y, X, X])), ((64+0j), Pauli([Z, I, Z, I])), ((-64+0j), Pauli([Y, I, Y, I])), ((-64+0j), Pauli([Y, X, Y, X])), ((64+0j), Pauli([Z, X, Z, X])), ((64+0j), Pauli([Z, I, I, Z])), ((-64+0j), Pauli([Y, X, X, Y])), ((64+0j), Pauli([I, Z, Z, I])), ((-64+0j), Pauli([X, Y, Y, X])), ((64+0j), Pauli([I, Z, I, Z])), ((64+0j), Pauli([X, Z, X, Z])), ((-64+0j), Pauli([X, Y, X, Y])), ((-64+0j), Pauli([I, Y, I, Y])), ((64+0j), Pauli([I, I, Z, Z])), ((-64+0j), Pauli([X, X, Y, Y]))]),\n",
       " SuperPauli([((64+0j), Pauli([I, I, I, I])), ((32+0j), Pauli([I, X, I, X])), ((16+0j), Pauli([Y, Y, X, X])), ((32+0j), Pauli([Y, I, Y, I])), ((32+0j), Pauli([Y, X, Y, X])), ((16+0j), Pauli([Z, I, I, Z])), ((16+0j), Pauli([Z, Z, I, I])), ((16+0j), Pauli([Y, X, X, Y])), ((32+0j), Pauli([X, I, X, I])), ((16+0j), Pauli([X, Y, Y, X])), ((32+0j), Pauli([X, Y, X, Y])), ((32+0j), Pauli([I, Y, I, Y])), ((16+0j), Pauli([I, Z, Z, I])), ((16+0j), Pauli([I, I, Z, Z])), ((16+0j), Pauli([X, X, Y, Y]))]),\n",
       " SuperPauli([((128+0j), Pauli([I, I, I, I])), ((64+0j), Pauli([I, X, I, X])), ((64+0j), Pauli([Z, Z, I, I])), ((64+0j), Pauli([Z, I, Z, I])), ((64+0j), Pauli([Z, X, Z, X])), ((64+0j), Pauli([Z, I, I, Z])), ((64+0j), Pauli([X, I, X, I])), ((64+0j), Pauli([I, Z, Z, I])), ((64+0j), Pauli([I, Z, I, Z])), ((64+0j), Pauli([X, Z, X, Z])), ((64+0j), Pauli([I, I, Z, Z]))]),\n",
       " SuperPauli([((192+0j), Pauli([I, X, X, I])), ((192+0j), Pauli([I, I, X, X])), ((192+0j), Pauli([Z, Z, X, X])), ((192+0j), Pauli([Z, X, X, Z])), ((-64+0j), Pauli([I, Y, Y, I])), ((-64+0j), Pauli([Z, Y, Y, Z])), ((-64+0j), Pauli([I, I, Y, Y])), ((-64+0j), Pauli([Z, Z, Y, Y])), ((192+0j), Pauli([X, I, I, X])), ((192+0j), Pauli([X, Z, Z, X])), ((-64+0j), Pauli([Y, I, I, Y])), ((-64+0j), Pauli([Y, Z, Z, Y])), ((192+0j), Pauli([X, X, I, I])), ((192+0j), Pauli([X, X, Z, Z])), ((-64+0j), Pauli([Y, Y, I, I])), ((-64+0j), Pauli([Y, Y, Z, Z]))]),\n",
       " SuperPauli([((640+0j), Pauli([Z, I, I, I])), ((384+0j), Pauli([Z, X, I, X])), ((640+0j), Pauli([I, Z, I, I])), ((640+0j), Pauli([I, I, Z, I])), ((384+0j), Pauli([I, X, Z, X])), ((640+0j), Pauli([I, I, I, Z])), ((384+0j), Pauli([Z, Z, Z, I])), ((384+0j), Pauli([Z, Z, I, Z])), ((-128+0j), Pauli([Z, Y, I, Y])), ((384+0j), Pauli([Z, I, Z, Z])), ((384+0j), Pauli([X, Z, X, I])), ((-128+0j), Pauli([Y, Z, Y, I])), ((384+0j), Pauli([X, I, X, Z])), ((384+0j), Pauli([I, Z, Z, Z])), ((-128+0j), Pauli([I, Y, Z, Y])), ((-128+0j), Pauli([Y, I, Y, Z]))]),\n",
       " SuperPauli([((5120+0j), Pauli([I, I, I, I])), ((3072+0j), Pauli([X, I, X, I])), ((5120+0j), Pauli([X, X, X, X])), ((3072+0j), Pauli([I, X, I, X])), ((4096+0j), Pauli([Z, Z, I, I])), ((-4096+0j), Pauli([Y, Y, X, X])), ((4096+0j), Pauli([Z, I, Z, I])), ((-2048+0j), Pauli([Y, I, Y, I])), ((-4096+0j), Pauli([Y, X, Y, X])), ((2048+0j), Pauli([Z, X, Z, X])), ((4096+0j), Pauli([Z, I, I, Z])), ((-4096+0j), Pauli([Y, X, X, Y])), ((4096+0j), Pauli([I, Z, Z, I])), ((-4096+0j), Pauli([X, Y, Y, X])), ((4096+0j), Pauli([I, Z, I, Z])), ((2048+0j), Pauli([X, Z, X, Z])), ((-4096+0j), Pauli([X, Y, X, Y])), ((-2048+0j), Pauli([I, Y, I, Y])), ((4096+0j), Pauli([I, I, Z, Z])), ((-4096+0j), Pauli([X, X, Y, Y])), ((3072+0j), Pauli([Z, Z, Z, Z])), ((3072-0j), Pauli([Y, Y, Y, Y])), ((-1024+0j), Pauli([Y, Z, Y, Z])), ((-1024+0j), Pauli([Z, Y, Z, Y]))]),\n",
       " SuperPauli([((1536+0j), Pauli([I, I, I, I])), ((256+0j), Pauli([I, X, I, X])), ((1024+0j), Pauli([Y, Y, X, X])), ((256+0j), Pauli([Y, I, Y, I])), ((1024+0j), Pauli([Y, X, Y, X])), ((1024+0j), Pauli([Z, I, I, Z])), ((1024+0j), Pauli([Z, Z, I, I])), ((1024+0j), Pauli([Y, X, X, Y])), ((256+0j), Pauli([X, I, X, I])), ((1024+0j), Pauli([X, Y, Y, X])), ((1024+0j), Pauli([X, Y, X, Y])), ((256+0j), Pauli([I, Y, I, Y])), ((1024+0j), Pauli([I, Z, Z, I])), ((1024+0j), Pauli([I, I, Z, Z])), ((1024+0j), Pauli([X, X, Y, Y])), ((-1024+0j), Pauli([X, X, X, X])), ((1024+0j), Pauli([I, Z, I, Z])), ((1024+0j), Pauli([Z, I, Z, I])), ((512+0j), Pauli([Z, Z, Z, Z])), ((-1024+0j), Pauli([Y, Y, Y, Y])), ((256+0j), Pauli([Z, X, Z, X])), ((256+0j), Pauli([Z, Y, Z, Y])), ((256+0j), Pauli([Y, Z, Y, Z])), ((256+0j), Pauli([X, Z, X, Z]))])]"
      ]
     },
     "execution_count": 7,
     "metadata": {},
     "output_type": "execute_result"
    }
   ],
   "source": [
    "pauli_complete_algebra([g1_op1, g1_op2], 20, anti=True)"
   ]
  },
  {
   "cell_type": "code",
   "execution_count": 34,
   "metadata": {},
   "outputs": [
    {
     "data": {
      "text/plain": [
       "(SuperPauli([(1, Pauli([Z, I, I])), (1, Pauli([I, Z, I])), (1, Pauli([I, I, Z]))]),\n",
       " SuperPauli([(1, Pauli([X, X, I])), (1, Pauli([I, X, X])), (1, Pauli([X, I, X]))]))"
      ]
     },
     "execution_count": 34,
     "metadata": {},
     "output_type": "execute_result"
    }
   ],
   "source": [
    "# set up initial pair of operators for n (> 2) qubits\n",
    "n = 3\n",
    "g1_op1 = z_tensor(n, [0])\n",
    "for i in range(1, n):\n",
    "    g1_op1 += z_tensor(n, [i])\n",
    "g1_op2 = x_tensor(n, [0, 1])\n",
    "for i in range(1, n):\n",
    "    g1_op2 += x_tensor(n, [i, (i+1)%n])\n",
    "g1_op1, g1_op2"
   ]
  },
  {
   "cell_type": "code",
   "execution_count": 40,
   "metadata": {},
   "outputs": [
    {
     "data": {
      "text/plain": [
       "17"
      ]
     },
     "execution_count": 40,
     "metadata": {},
     "output_type": "execute_result"
    }
   ],
   "source": [
    "n=6\n",
    "g1_op1 = z_tensor(n, [0])\n",
    "for i in range(1, n):\n",
    "    g1_op1 += z_tensor(n, [i])\n",
    "g1_op2 = x_tensor(n, [0, 1])\n",
    "for i in range(1, n):\n",
    "    g1_op2 += x_tensor(n, [i, (i+1)%n])\n",
    "g1_6 = pauli_complete_algebra([g1_op1, g1_op2], 3*n-1)\n",
    "len(g1_6)"
   ]
  },
  {
   "cell_type": "code",
   "execution_count": 42,
   "metadata": {},
   "outputs": [
    {
     "data": {
      "text/plain": [
       "29"
      ]
     },
     "execution_count": 42,
     "metadata": {},
     "output_type": "execute_result"
    }
   ],
   "source": [
    "n=10\n",
    "g1_op1 = z_tensor(n, [0])\n",
    "for i in range(1, n):\n",
    "    g1_op1 += z_tensor(n, [i])\n",
    "g1_op2 = x_tensor(n, [0, 1])\n",
    "for i in range(1, n):\n",
    "    g1_op2 += x_tensor(n, [i, (i+1)%n])\n",
    "g1_10 = pauli_complete_algebra([g1_op1, g1_op2], 3*n-1)\n",
    "len(g1_10)"
   ]
  },
  {
   "cell_type": "code",
   "execution_count": 37,
   "metadata": {},
   "outputs": [
    {
     "name": "stdout",
     "output_type": "stream",
     "text": [
      "For n=3:\n",
      "516 ms ± 55.6 ms per loop (mean ± std. dev. of 7 runs, 1 loop each)\n",
      "For n=4:\n",
      "2.94 s ± 51.9 ms per loop (mean ± std. dev. of 7 runs, 1 loop each)\n",
      "For n=5:\n",
      "12.5 s ± 128 ms per loop (mean ± std. dev. of 7 runs, 1 loop each)\n",
      "For n=6:\n"
     ]
    },
    {
     "ename": "KeyboardInterrupt",
     "evalue": "",
     "output_type": "error",
     "traceback": [
      "\u001b[1;31m---------------------------------------------------------------------------\u001b[0m",
      "\u001b[1;31mKeyboardInterrupt\u001b[0m                         Traceback (most recent call last)",
      "\u001b[1;32mc:\\Users\\elean\\Documents\\Imperial College London\\Mathematics Undergraduate\\Year 4\\M4R\\Lie Algebras Code\\Lie-algebras\\experiments.ipynb Cell 6\u001b[0m line \u001b[0;36m1\n\u001b[0;32m      <a href='vscode-notebook-cell:/c%3A/Users/elean/Documents/Imperial%20College%20London/Mathematics%20Undergraduate/Year%204/M4R/Lie%20Algebras%20Code/Lie-algebras/experiments.ipynb#X34sZmlsZQ%3D%3D?line=8'>9</a>\u001b[0m     g1_op2 \u001b[39m+\u001b[39m\u001b[39m=\u001b[39m x_tensor(n, [i, (i\u001b[39m+\u001b[39m\u001b[39m1\u001b[39m)\u001b[39m%\u001b[39mn])\n\u001b[0;32m     <a href='vscode-notebook-cell:/c%3A/Users/elean/Documents/Imperial%20College%20London/Mathematics%20Undergraduate/Year%204/M4R/Lie%20Algebras%20Code/Lie-algebras/experiments.ipynb#X34sZmlsZQ%3D%3D?line=9'>10</a>\u001b[0m \u001b[39mprint\u001b[39m(\u001b[39mf\u001b[39m\u001b[39m\"\u001b[39m\u001b[39mFor n=\u001b[39m\u001b[39m{\u001b[39;00mn\u001b[39m}\u001b[39;00m\u001b[39m:\u001b[39m\u001b[39m\"\u001b[39m)\n\u001b[1;32m---> <a href='vscode-notebook-cell:/c%3A/Users/elean/Documents/Imperial%20College%20London/Mathematics%20Undergraduate/Year%204/M4R/Lie%20Algebras%20Code/Lie-algebras/experiments.ipynb#X34sZmlsZQ%3D%3D?line=10'>11</a>\u001b[0m get_ipython()\u001b[39m.\u001b[39;49mrun_line_magic(\u001b[39m'\u001b[39;49m\u001b[39mtimeit\u001b[39;49m\u001b[39m'\u001b[39;49m, \u001b[39m'\u001b[39;49m\u001b[39mpauli_complete_algebra([g1_op1, g1_op2], 3*n-1)\u001b[39;49m\u001b[39m'\u001b[39;49m)\n",
      "File \u001b[1;32mc:\\Users\\elean\\Documents\\Imperial College London\\Mathematics Undergraduate\\Year 4\\M4R\\Lie Algebras Code\\lie_venv\\lib\\site-packages\\IPython\\core\\interactiveshell.py:2454\u001b[0m, in \u001b[0;36mInteractiveShell.run_line_magic\u001b[1;34m(self, magic_name, line, _stack_depth)\u001b[0m\n\u001b[0;32m   2452\u001b[0m     kwargs[\u001b[39m'\u001b[39m\u001b[39mlocal_ns\u001b[39m\u001b[39m'\u001b[39m] \u001b[39m=\u001b[39m \u001b[39mself\u001b[39m\u001b[39m.\u001b[39mget_local_scope(stack_depth)\n\u001b[0;32m   2453\u001b[0m \u001b[39mwith\u001b[39;00m \u001b[39mself\u001b[39m\u001b[39m.\u001b[39mbuiltin_trap:\n\u001b[1;32m-> 2454\u001b[0m     result \u001b[39m=\u001b[39m fn(\u001b[39m*\u001b[39margs, \u001b[39m*\u001b[39m\u001b[39m*\u001b[39mkwargs)\n\u001b[0;32m   2456\u001b[0m \u001b[39m# The code below prevents the output from being displayed\u001b[39;00m\n\u001b[0;32m   2457\u001b[0m \u001b[39m# when using magics with decorator @output_can_be_silenced\u001b[39;00m\n\u001b[0;32m   2458\u001b[0m \u001b[39m# when the last Python token in the expression is a ';'.\u001b[39;00m\n\u001b[0;32m   2459\u001b[0m \u001b[39mif\u001b[39;00m \u001b[39mgetattr\u001b[39m(fn, magic\u001b[39m.\u001b[39mMAGIC_OUTPUT_CAN_BE_SILENCED, \u001b[39mFalse\u001b[39;00m):\n",
      "File \u001b[1;32mc:\\Users\\elean\\Documents\\Imperial College London\\Mathematics Undergraduate\\Year 4\\M4R\\Lie Algebras Code\\lie_venv\\lib\\site-packages\\IPython\\core\\magics\\execution.py:1189\u001b[0m, in \u001b[0;36mExecutionMagics.timeit\u001b[1;34m(self, line, cell, local_ns)\u001b[0m\n\u001b[0;32m   1186\u001b[0m         \u001b[39mif\u001b[39;00m time_number \u001b[39m>\u001b[39m\u001b[39m=\u001b[39m \u001b[39m0.2\u001b[39m:\n\u001b[0;32m   1187\u001b[0m             \u001b[39mbreak\u001b[39;00m\n\u001b[1;32m-> 1189\u001b[0m all_runs \u001b[39m=\u001b[39m timer\u001b[39m.\u001b[39;49mrepeat(repeat, number)\n\u001b[0;32m   1190\u001b[0m best \u001b[39m=\u001b[39m \u001b[39mmin\u001b[39m(all_runs) \u001b[39m/\u001b[39m number\n\u001b[0;32m   1191\u001b[0m worst \u001b[39m=\u001b[39m \u001b[39mmax\u001b[39m(all_runs) \u001b[39m/\u001b[39m number\n",
      "File \u001b[1;32m~\\AppData\\Local\\Programs\\Python\\Python39\\lib\\timeit.py:205\u001b[0m, in \u001b[0;36mTimer.repeat\u001b[1;34m(self, repeat, number)\u001b[0m\n\u001b[0;32m    203\u001b[0m r \u001b[39m=\u001b[39m []\n\u001b[0;32m    204\u001b[0m \u001b[39mfor\u001b[39;00m i \u001b[39min\u001b[39;00m \u001b[39mrange\u001b[39m(repeat):\n\u001b[1;32m--> 205\u001b[0m     t \u001b[39m=\u001b[39m \u001b[39mself\u001b[39;49m\u001b[39m.\u001b[39;49mtimeit(number)\n\u001b[0;32m    206\u001b[0m     r\u001b[39m.\u001b[39mappend(t)\n\u001b[0;32m    207\u001b[0m \u001b[39mreturn\u001b[39;00m r\n",
      "File \u001b[1;32mc:\\Users\\elean\\Documents\\Imperial College London\\Mathematics Undergraduate\\Year 4\\M4R\\Lie Algebras Code\\lie_venv\\lib\\site-packages\\IPython\\core\\magics\\execution.py:173\u001b[0m, in \u001b[0;36mTimer.timeit\u001b[1;34m(self, number)\u001b[0m\n\u001b[0;32m    171\u001b[0m gc\u001b[39m.\u001b[39mdisable()\n\u001b[0;32m    172\u001b[0m \u001b[39mtry\u001b[39;00m:\n\u001b[1;32m--> 173\u001b[0m     timing \u001b[39m=\u001b[39m \u001b[39mself\u001b[39;49m\u001b[39m.\u001b[39;49minner(it, \u001b[39mself\u001b[39;49m\u001b[39m.\u001b[39;49mtimer)\n\u001b[0;32m    174\u001b[0m \u001b[39mfinally\u001b[39;00m:\n\u001b[0;32m    175\u001b[0m     \u001b[39mif\u001b[39;00m gcold:\n",
      "File \u001b[1;32m<magic-timeit>:1\u001b[0m, in \u001b[0;36minner\u001b[1;34m(_it, _timer)\u001b[0m\n",
      "File \u001b[1;32mc:\\Users\\elean\\Documents\\Imperial College London\\Mathematics Undergraduate\\Year 4\\M4R\\Lie Algebras Code\\Lie-algebras\\Lie_algebras.py:806\u001b[0m, in \u001b[0;36mpauli_complete_algebra\u001b[1;34m(Ops, max, start)\u001b[0m\n\u001b[0;32m    802\u001b[0m old_Ops \u001b[39m=\u001b[39m Ops\u001b[39m.\u001b[39mcopy()\n\u001b[0;32m    804\u001b[0m \u001b[39mwhile\u001b[39;00m \u001b[39mTrue\u001b[39;00m:\n\u001b[0;32m    805\u001b[0m     \u001b[39m# find new set of linearly independent operators to extend old_Ops\u001b[39;00m\n\u001b[1;32m--> 806\u001b[0m     new_Ops \u001b[39m=\u001b[39m pauli_complete_algebra_inner(old_Ops, start)\n\u001b[0;32m    808\u001b[0m     \u001b[39m# number of new operators added\u001b[39;00m\n\u001b[0;32m    809\u001b[0m     added_ops \u001b[39m=\u001b[39m \u001b[39mlen\u001b[39m(new_Ops) \u001b[39m-\u001b[39m \u001b[39mlen\u001b[39m(old_Ops)\n",
      "File \u001b[1;32mc:\\Users\\elean\\Documents\\Imperial College London\\Mathematics Undergraduate\\Year 4\\M4R\\Lie Algebras Code\\Lie-algebras\\Lie_algebras.py:765\u001b[0m, in \u001b[0;36mpauli_complete_algebra_inner\u001b[1;34m(Ops, start)\u001b[0m\n\u001b[0;32m    763\u001b[0m \u001b[39mfor\u001b[39;00m i \u001b[39min\u001b[39;00m \u001b[39mrange\u001b[39m(\u001b[39mlen\u001b[39m(Ops)):\n\u001b[0;32m    764\u001b[0m     \u001b[39mfor\u001b[39;00m j \u001b[39min\u001b[39;00m \u001b[39mrange\u001b[39m(\u001b[39mmax\u001b[39m(i, start), \u001b[39mlen\u001b[39m(Ops)):\n\u001b[1;32m--> 765\u001b[0m         new_op \u001b[39m=\u001b[39m comm(new_Ops[i], new_Ops[j])\n\u001b[0;32m    766\u001b[0m         new_Ops\u001b[39m.\u001b[39mappend(new_op)\n\u001b[0;32m    767\u001b[0m         \u001b[39mif\u001b[39;00m \u001b[39mnot\u001b[39;00m lin_ind(new_Ops):\n",
      "File \u001b[1;32mc:\\Users\\elean\\Documents\\Imperial College London\\Mathematics Undergraduate\\Year 4\\M4R\\Lie Algebras Code\\Lie-algebras\\Lie_algebras.py:668\u001b[0m, in \u001b[0;36mcomm\u001b[1;34m(A, B)\u001b[0m\n\u001b[0;32m    666\u001b[0m \u001b[39mfor\u001b[39;00m i \u001b[39min\u001b[39;00m \u001b[39mrange\u001b[39m(\u001b[39mlen\u001b[39m(A)):\n\u001b[0;32m    667\u001b[0m     \u001b[39mfor\u001b[39;00m j \u001b[39min\u001b[39;00m \u001b[39mrange\u001b[39m(\u001b[39mlen\u001b[39m(B)):\n\u001b[1;32m--> 668\u001b[0m         C, aoc \u001b[39m=\u001b[39m acomm_comm(a_pauli_list[i], b_pauli_list[j])\n\u001b[0;32m    669\u001b[0m         \u001b[39mif\u001b[39;00m \u001b[39mnot\u001b[39;00m aoc:\n\u001b[0;32m    670\u001b[0m             \u001b[39mif\u001b[39;00m C\u001b[39m.\u001b[39mpauli_list[\u001b[39m0\u001b[39m] \u001b[39min\u001b[39;00m basis:\n",
      "File \u001b[1;32mc:\\Users\\elean\\Documents\\Imperial College London\\Mathematics Undergraduate\\Year 4\\M4R\\Lie Algebras Code\\Lie-algebras\\Lie_algebras.py:635\u001b[0m, in \u001b[0;36macomm_comm\u001b[1;34m(A, B)\u001b[0m\n\u001b[0;32m    632\u001b[0m \u001b[39mif\u001b[39;00m coeff\u001b[39m.\u001b[39mimag \u001b[39m!=\u001b[39m \u001b[39m0\u001b[39m:\n\u001b[0;32m    633\u001b[0m     aoc \u001b[39m=\u001b[39m \u001b[39mFalse\u001b[39;00m\n\u001b[1;32m--> 635\u001b[0m C \u001b[39m=\u001b[39m SuperPauli([(\u001b[39m2\u001b[39m \u001b[39m*\u001b[39m coeff, Pauli(decomp))])\n\u001b[0;32m    637\u001b[0m \u001b[39mreturn\u001b[39;00m C, aoc\n",
      "File \u001b[1;32mc:\\Users\\elean\\Documents\\Imperial College London\\Mathematics Undergraduate\\Year 4\\M4R\\Lie Algebras Code\\Lie-algebras\\Lie_algebras.py:266\u001b[0m, in \u001b[0;36mPauli.__init__\u001b[1;34m(self, decomp)\u001b[0m\n\u001b[0;32m    264\u001b[0m \u001b[39mfor\u001b[39;00m op \u001b[39min\u001b[39;00m decomp:\n\u001b[0;32m    265\u001b[0m     \u001b[39mif\u001b[39;00m (op \u001b[39m==\u001b[39m I)\u001b[39m.\u001b[39mall():\n\u001b[1;32m--> 266\u001b[0m         q_decomp \u001b[39m=\u001b[39m np\u001b[39m.\u001b[39;49mappend(q_decomp, \u001b[39m0\u001b[39;49m)\n\u001b[0;32m    267\u001b[0m     \u001b[39melif\u001b[39;00m (op \u001b[39m==\u001b[39m X)\u001b[39m.\u001b[39mall():\n\u001b[0;32m    268\u001b[0m         q_decomp \u001b[39m=\u001b[39m np\u001b[39m.\u001b[39mappend(q_decomp, \u001b[39m1\u001b[39m)\n",
      "File \u001b[1;32mc:\\Users\\elean\\Documents\\Imperial College London\\Mathematics Undergraduate\\Year 4\\M4R\\Lie Algebras Code\\lie_venv\\lib\\site-packages\\numpy\\lib\\function_base.py:5617\u001b[0m, in \u001b[0;36mappend\u001b[1;34m(arr, values, axis)\u001b[0m\n\u001b[0;32m   5615\u001b[0m     values \u001b[39m=\u001b[39m ravel(values)\n\u001b[0;32m   5616\u001b[0m     axis \u001b[39m=\u001b[39m arr\u001b[39m.\u001b[39mndim\u001b[39m-\u001b[39m\u001b[39m1\u001b[39m\n\u001b[1;32m-> 5617\u001b[0m \u001b[39mreturn\u001b[39;00m concatenate((arr, values), axis\u001b[39m=\u001b[39;49maxis)\n",
      "\u001b[1;31mKeyboardInterrupt\u001b[0m: "
     ]
    }
   ],
   "source": [
    "# time for various n\n",
    "\n",
    "for n in [3, 4, 5, 6, 10]:\n",
    "    g1_op1 = z_tensor(n, [0])\n",
    "    for i in range(1, n):\n",
    "        g1_op1 += z_tensor(n, [i])\n",
    "    g1_op2 = x_tensor(n, [0, 1])\n",
    "    for i in range(1, n):\n",
    "        g1_op2 += x_tensor(n, [i, (i+1)%n])\n",
    "    print(f\"For n={n}:\")\n",
    "    %timeit pauli_complete_algebra([g1_op1, g1_op2], 3*n-1)"
   ]
  },
  {
   "cell_type": "markdown",
   "metadata": {},
   "source": [
    "### Task: check find algrebra smaller than complete"
   ]
  },
  {
   "cell_type": "code",
   "execution_count": 26,
   "metadata": {},
   "outputs": [],
   "source": [
    "# define operators for H: Z1+Z2+Z3, X1X2+X2X3+X3X1\n",
    "n = 3\n",
    "ops = [sum([tensor(Z, n, i) for i in range(n)]), sum([tensor(X, n, i)@tensor(X, n, (i+1)%n) for i in range(n)])]\n",
    "\n",
    "# define opertaor for I: Z1Z3\n",
    "t = [tensor(Z, 3, 0)@tensor(Z, 3, 2)]"
   ]
  },
  {
   "cell_type": "code",
   "execution_count": 27,
   "metadata": {},
   "outputs": [
    {
     "name": "stdout",
     "output_type": "stream",
     "text": [
      "calg length = 18; falg length = 4\n"
     ]
    }
   ],
   "source": [
    "falg = find_algebra(t, ops, 20)\n",
    "calg = complete_algebra(ops + t, 20)\n",
    "print(f\"calg length = {len(calg)}; falg length = {len(falg)}\")"
   ]
  },
  {
   "cell_type": "code",
   "execution_count": null,
   "metadata": {},
   "outputs": [],
   "source": []
  },
  {
   "cell_type": "markdown",
   "metadata": {},
   "source": [
    "### Task: given A, find B such that [A, B] = 0"
   ]
  },
  {
   "cell_type": "code",
   "execution_count": 53,
   "metadata": {},
   "outputs": [],
   "source": [
    "def find_comm(n):\n",
    "    # random nxn matrix\n",
    "    Re = np.random.randn(n, n)\n",
    "    Im = np.random.randn(n, n)\n",
    "    A = Re + 1.j * Im\n",
    "\n",
    "    # find eigenvectors of A tensor A^-T with eigenvalue 1 (some error when finding evals=1 so -1 and allow 1e-6 error about 0)\n",
    "    L = np.kron(A, np.linalg.inv(A).T)\n",
    "    l, V = np.linalg.eig(L)\n",
    "    l -= 1\n",
    "    l = l.real**2 + l.imag**2\n",
    "    ii = (l<1e-6)\n",
    "    v = V[:, ii]\n",
    "\n",
    "    # construct B by reshape eigenvectors\n",
    "    for vec in v.T:\n",
    "        B = vec.reshape(n, n)\n",
    "        # raise error if AB-BA is not 0\n",
    "        C = comm(B, A)\n",
    "        assert np.allclose(C, 0)\n",
    "\n",
    "    # return the number of Bs found\n",
    "\n",
    "    return v.shape[1]"
   ]
  },
  {
   "cell_type": "code",
   "execution_count": 46,
   "metadata": {},
   "outputs": [
    {
     "data": {
      "text/plain": [
       "[1,\n",
       " 2,\n",
       " 3,\n",
       " 4,\n",
       " 5,\n",
       " 6,\n",
       " 7,\n",
       " 8,\n",
       " 9,\n",
       " 10,\n",
       " 11,\n",
       " 12,\n",
       " 13,\n",
       " 14,\n",
       " 15,\n",
       " 16,\n",
       " 17,\n",
       " 18,\n",
       " 19,\n",
       " 20,\n",
       " 21,\n",
       " 22,\n",
       " 23,\n",
       " 24,\n",
       " 25]"
      ]
     },
     "execution_count": 46,
     "metadata": {},
     "output_type": "execute_result"
    }
   ],
   "source": [
    "[find_comm(i) for i in range(1, 26)]"
   ]
  },
  {
   "cell_type": "code",
   "execution_count": 52,
   "metadata": {},
   "outputs": [
    {
     "name": "stdout",
     "output_type": "stream",
     "text": [
      "[[-0.36960898-0.53607787j  0.11445961-0.84934057j]\n",
      " [ 0.93584564-0.85089595j -0.44441963+0.39588458j]]\n"
     ]
    },
    {
     "data": {
      "text/plain": [
       "2"
      ]
     },
     "execution_count": 52,
     "metadata": {},
     "output_type": "execute_result"
    }
   ],
   "source": [
    "find_comm(2)"
   ]
  },
  {
   "cell_type": "code",
   "execution_count": null,
   "metadata": {},
   "outputs": [],
   "source": []
  },
  {
   "cell_type": "markdown",
   "metadata": {},
   "source": [
    "### Task: given A_n, find B such that [A_n, B] = 0 for all n"
   ]
  },
  {
   "cell_type": "code",
   "execution_count": 1,
   "metadata": {},
   "outputs": [],
   "source": [
    "# helppp not possible..."
   ]
  },
  {
   "cell_type": "markdown",
   "metadata": {},
   "source": [
    "### Task: decompose a given operator into a sum of Pauli operators (+using Pauli class??)"
   ]
  },
  {
   "cell_type": "code",
   "execution_count": 3,
   "metadata": {},
   "outputs": [
    {
     "data": {
      "text/plain": [
       "([0.5, 0.5, -0.5j, 0.5],\n",
       " [array([[1., 0.],\n",
       "         [0., 1.]]),\n",
       "  array([[0, 1],\n",
       "         [1, 0]]),\n",
       "  array([[ 0.+0.j, -0.-1.j],\n",
       "         [ 0.+1.j,  0.+0.j]]),\n",
       "  array([[ 1,  0],\n",
       "         [ 0, -1]])])"
      ]
     },
     "execution_count": 3,
     "metadata": {},
     "output_type": "execute_result"
    }
   ],
   "source": [
    "decomp = decompose(A)\n",
    "decomp"
   ]
  },
  {
   "cell_type": "code",
   "execution_count": 4,
   "metadata": {},
   "outputs": [
    {
     "data": {
      "text/plain": [
       "True"
      ]
     },
     "execution_count": 4,
     "metadata": {},
     "output_type": "execute_result"
    }
   ],
   "source": [
    "np.allclose(decomp[0][0] * I + decomp[0][1] * X + decomp[0][2] * Y + decomp[0][3] * Z, A)"
   ]
  },
  {
   "cell_type": "code",
   "execution_count": 5,
   "metadata": {},
   "outputs": [],
   "source": [
    "test_decomp = tensor(B, 3, 0, 1)\n",
    "decomp1 = decompose(test_decomp)"
   ]
  },
  {
   "cell_type": "code",
   "execution_count": 6,
   "metadata": {},
   "outputs": [
    {
     "data": {
      "text/plain": [
       "True"
      ]
     },
     "execution_count": 6,
     "metadata": {},
     "output_type": "execute_result"
    }
   ],
   "source": [
    "tested_decomp = np.zeros(test_decomp.shape)\n",
    "for i in range(test_decomp.shape[0]**2):\n",
    "    tested_decomp = tested_decomp + decomp1[0][i] * decomp1[1][i]\n",
    "np.allclose(tested_decomp, test_decomp)"
   ]
  }
 ],
 "metadata": {
  "kernelspec": {
   "display_name": "lie_venv",
   "language": "python",
   "name": "python3"
  },
  "language_info": {
   "codemirror_mode": {
    "name": "ipython",
    "version": 3
   },
   "file_extension": ".py",
   "mimetype": "text/x-python",
   "name": "python",
   "nbconvert_exporter": "python",
   "pygments_lexer": "ipython3",
   "version": "3.9.6"
  },
  "orig_nbformat": 4
 },
 "nbformat": 4,
 "nbformat_minor": 2
}

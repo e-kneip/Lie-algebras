{
 "cells": [
  {
   "cell_type": "markdown",
   "metadata": {},
   "source": [
    "## Experiments"
   ]
  },
  {
   "cell_type": "code",
   "execution_count": 1,
   "metadata": {},
   "outputs": [],
   "source": [
    "from Lie_algebras import *\n",
    "import numpy as np\n",
    "import math\n",
    "import pickle"
   ]
  },
  {
   "cell_type": "code",
   "execution_count": null,
   "metadata": {},
   "outputs": [],
   "source": [
    "file = open('set_1_aperiodic', 'wb')"
   ]
  },
  {
   "cell_type": "code",
   "execution_count": null,
   "metadata": {},
   "outputs": [],
   "source": [
    "pickle.dump(set_1_aperiodic_dict, file)"
   ]
  },
  {
   "cell_type": "code",
   "execution_count": null,
   "metadata": {},
   "outputs": [],
   "source": [
    "file.close()"
   ]
  },
  {
   "cell_type": "markdown",
   "metadata": {},
   "source": [
    "### $H: \\{X_{3k-2}X_{3k-1}, X_{3k-1}X_{3k}, Z_k\\}$, $I = \\{Z_kZ_{k+1}\\}$ but with proper make_alg"
   ]
  },
  {
   "cell_type": "code",
   "execution_count": 62,
   "metadata": {},
   "outputs": [],
   "source": [
    "# define Hamiltonian and invariant ops\n",
    "\n",
    "n=7\n",
    "\n",
    "ops1, ops2, ops3 = [], [], []\n",
    "\n",
    "for i in range(0, n-2, 3):\n",
    "    new_op1 = [I for j in range(n)]\n",
    "    new_op1[i], new_op1[i+1] = X, X\n",
    "    ops1.append(SuperPauli([(1, Pauli(new_op1))]))\n",
    "    new_op1 = [I for j in range(n)]\n",
    "    new_op1[i+1], new_op1[i+2] = X, X\n",
    "    ops1.append(SuperPauli([(1, Pauli(new_op1))]))\n",
    "if n%3 == 2:\n",
    "    new_op1 = [I for j in range(n)]\n",
    "    new_op1[n-2], new_op1[n-1] = X, X\n",
    "    ops1.append(SuperPauli([(1, Pauli(new_op1))]))\n",
    "\n",
    "for i in range(n):\n",
    "    new_op2 = [I for j in range(n)]\n",
    "    new_op2[i] = Z\n",
    "    ops2.append(SuperPauli([(1, Pauli(new_op2))]))\n",
    "\n",
    "for i in range(n-1):\n",
    "    new_op3 = [I for j in range(n)]\n",
    "    new_op3[i], new_op3[i+1] = Z, Z\n",
    "    ops3.append(SuperPauli([(1, Pauli(new_op3))]))\n",
    "\n",
    "# new_op3 = [I for j in range(n)]\n",
    "# new_op3[2], new_op3[1] = Z, Z\n",
    "# ops3 = [SuperPauli([(1, Pauli(new_op3))])]\n",
    "\n",
    "hops = ops1 + ops2\n",
    "iops = ops3"
   ]
  },
  {
   "cell_type": "code",
   "execution_count": 67,
   "metadata": {},
   "outputs": [
    {
     "data": {
      "text/plain": [
       "[SuperPauli([(1, Pauli([X, X, I, I, I, I, I]))]),\n",
       " SuperPauli([(1, Pauli([I, X, X, I, I, I, I]))]),\n",
       " SuperPauli([(1, Pauli([I, I, I, X, X, I, I]))]),\n",
       " SuperPauli([(1, Pauli([I, I, I, I, X, X, I]))]),\n",
       " SuperPauli([(1, Pauli([Z, I, I, I, I, I, I]))]),\n",
       " SuperPauli([(1, Pauli([I, Z, I, I, I, I, I]))]),\n",
       " SuperPauli([(1, Pauli([I, I, Z, I, I, I, I]))]),\n",
       " SuperPauli([(1, Pauli([I, I, I, Z, I, I, I]))]),\n",
       " SuperPauli([(1, Pauli([I, I, I, I, Z, I, I]))]),\n",
       " SuperPauli([(1, Pauli([I, I, I, I, I, Z, I]))]),\n",
       " SuperPauli([(1, Pauli([I, I, I, I, I, I, Z]))])]"
      ]
     },
     "execution_count": 67,
     "metadata": {},
     "output_type": "execute_result"
    }
   ],
   "source": [
    "hops"
   ]
  },
  {
   "cell_type": "code",
   "execution_count": 9,
   "metadata": {},
   "outputs": [
    {
     "data": {
      "text/plain": [
       "15"
      ]
     },
     "execution_count": 9,
     "metadata": {},
     "output_type": "execute_result"
    }
   ],
   "source": [
    "# n=3\n",
    "\n",
    "y3 = pauli_make_algebra(iops, hops, 500)\n",
    "len(y3)"
   ]
  },
  {
   "cell_type": "code",
   "execution_count": 17,
   "metadata": {},
   "outputs": [
    {
     "data": {
      "text/plain": [
       "30"
      ]
     },
     "execution_count": 17,
     "metadata": {},
     "output_type": "execute_result"
    }
   ],
   "source": [
    "# n=4\n",
    "\n",
    "y4 = pauli_make_algebra(iops, hops, 500)\n",
    "len(y4)"
   ]
  },
  {
   "cell_type": "code",
   "execution_count": 58,
   "metadata": {},
   "outputs": [
    {
     "data": {
      "text/plain": [
       "106"
      ]
     },
     "execution_count": 58,
     "metadata": {},
     "output_type": "execute_result"
    }
   ],
   "source": [
    "# n=5\n",
    "\n",
    "y5 = pauli_make_algebra(iops, hops, 500)\n",
    "len(y5)"
   ]
  },
  {
   "cell_type": "code",
   "execution_count": 21,
   "metadata": {},
   "outputs": [
    {
     "data": {
      "text/plain": [
       "255"
      ]
     },
     "execution_count": 21,
     "metadata": {},
     "output_type": "execute_result"
    }
   ],
   "source": [
    "# n=6\n",
    "\n",
    "y6 = pauli_make_algebra(iops, hops, 500)\n",
    "len(y6)"
   ]
  },
  {
   "cell_type": "code",
   "execution_count": 24,
   "metadata": {},
   "outputs": [
    {
     "data": {
      "text/plain": [
       "270"
      ]
     },
     "execution_count": 24,
     "metadata": {},
     "output_type": "execute_result"
    }
   ],
   "source": [
    "# n=7\n",
    "\n",
    "y7 = pauli_make_algebra(iops, hops, 500)\n",
    "len(y7)"
   ]
  },
  {
   "cell_type": "code",
   "execution_count": 61,
   "metadata": {},
   "outputs": [
    {
     "data": {
      "text/plain": [
       "346"
      ]
     },
     "execution_count": 61,
     "metadata": {},
     "output_type": "execute_result"
    }
   ],
   "source": [
    "# n=8\n",
    "\n",
    "y8 = pauli_make_algebra(iops, hops, 500)\n",
    "len(y8)"
   ]
  },
  {
   "cell_type": "code",
   "execution_count": 29,
   "metadata": {},
   "outputs": [
    {
     "data": {
      "text/plain": [
       "495"
      ]
     },
     "execution_count": 29,
     "metadata": {},
     "output_type": "execute_result"
    }
   ],
   "source": [
    "# n=9\n",
    "\n",
    "y9 = pauli_make_algebra(iops, hops, 1000)\n",
    "len(y9)"
   ]
  },
  {
   "cell_type": "code",
   "execution_count": 78,
   "metadata": {},
   "outputs": [
    {
     "data": {
      "text/plain": [
       "[(1, Pauli([Z, Z, I, I, I])),\n",
       " (1, Pauli([I, Z, Z, I, I])),\n",
       " (1, Pauli([I, I, Z, Z, I])),\n",
       " (1, Pauli([I, I, I, Z, Z])),\n",
       " ((-0-8j), Pauli([Y, I, X, I, I])),\n",
       " ((-0-8j), Pauli([X, I, Y, I, I])),\n",
       " ((16+0j), Pauli([X, I, X, I, I])),\n",
       " ((-16-0j), Pauli([Y, I, Y, I, I])),\n",
       " ((16+0j), Pauli([Z, I, Z, I, I])),\n",
       " ((16+0j), Pauli([I, Z, I, Z, I])),\n",
       " ((16+0j), Pauli([I, I, Z, I, Z])),\n",
       " ((256+0j), Pauli([I, Z, I, I, Z])),\n",
       " ((256+0j), Pauli([Z, I, I, Z, I])),\n",
       " ((4096+0j), Pauli([Z, I, I, I, Z]))]"
      ]
     },
     "execution_count": 78,
     "metadata": {},
     "output_type": "execute_result"
    }
   ],
   "source": [
    "filtering(y5, 2)"
   ]
  },
  {
   "cell_type": "markdown",
   "metadata": {},
   "source": [
    "##### y5 and y8 don't have final $Z_{n-3}Z_n$ (or $Z_{n-2}Z_n$) but otherwise have all $Z_kZ_{k+3}$ AND $Z_kZ_{k+2}$"
   ]
  },
  {
   "cell_type": "markdown",
   "metadata": {},
   "source": [
    "### $H: \\{X_{2k-1}X_{2k}, Z_k\\}$, $I = \\{Z_kZ_{k+1}\\}$ but with proper make_alg"
   ]
  },
  {
   "cell_type": "code",
   "execution_count": 108,
   "metadata": {},
   "outputs": [],
   "source": [
    "# define Hamiltonian and invariant ops\n",
    "\n",
    "n=10\n",
    "\n",
    "ops1, ops2, ops3 = [], [], []\n",
    "\n",
    "for i in range(0, n-1, 2):\n",
    "    new_op1 = [I for j in range(n)]\n",
    "    new_op1[i], new_op1[i+1] = X, X\n",
    "    ops1.append(SuperPauli([(1, Pauli(new_op1))]))\n",
    "\n",
    "for i in range(n):\n",
    "    new_op2 = [I for j in range(n)]\n",
    "    new_op2[i] = Z\n",
    "    ops2.append(SuperPauli([(1, Pauli(new_op2))]))\n",
    "\n",
    "for i in range(n-1):\n",
    "    new_op3 = [I for j in range(n)]\n",
    "    new_op3[i], new_op3[i+1] = Z, Z\n",
    "    ops3.append(SuperPauli([(1, Pauli(new_op3))]))\n",
    "\n",
    "# new_op3 = [I for j in range(n)]\n",
    "# new_op3[2], new_op3[1] = Z, Z\n",
    "# ops3 = [SuperPauli([(1, Pauli(new_op3))])]\n",
    "\n",
    "hops = ops1 + ops2\n",
    "iops = ops3"
   ]
  },
  {
   "cell_type": "code",
   "execution_count": 107,
   "metadata": {},
   "outputs": [
    {
     "data": {
      "text/plain": [
       "7"
      ]
     },
     "execution_count": 107,
     "metadata": {},
     "output_type": "execute_result"
    }
   ],
   "source": [
    "# n=3\n",
    "\n",
    "z3 = pauli_make_algebra(iops, hops, 500)\n",
    "len(z3)"
   ]
  },
  {
   "cell_type": "code",
   "execution_count": 5,
   "metadata": {},
   "outputs": [
    {
     "data": {
      "text/plain": [
       "38"
      ]
     },
     "execution_count": 5,
     "metadata": {},
     "output_type": "execute_result"
    }
   ],
   "source": [
    "# n=4\n",
    "\n",
    "z4 = pauli_make_algebra(iops, hops, 500)\n",
    "len(z4)"
   ]
  },
  {
   "cell_type": "code",
   "execution_count": 84,
   "metadata": {},
   "outputs": [
    {
     "data": {
      "text/plain": [
       "44"
      ]
     },
     "execution_count": 84,
     "metadata": {},
     "output_type": "execute_result"
    }
   ],
   "source": [
    "# n=5\n",
    "\n",
    "z5 = pauli_make_algebra(iops, hops, 500)\n",
    "len(z5)"
   ]
  },
  {
   "cell_type": "code",
   "execution_count": 86,
   "metadata": {},
   "outputs": [
    {
     "data": {
      "text/plain": [
       "75"
      ]
     },
     "execution_count": 86,
     "metadata": {},
     "output_type": "execute_result"
    }
   ],
   "source": [
    "# n=6\n",
    "\n",
    "z6 = pauli_make_algebra(iops, hops, 500)\n",
    "len(z6)"
   ]
  },
  {
   "cell_type": "code",
   "execution_count": 90,
   "metadata": {},
   "outputs": [
    {
     "data": {
      "text/plain": [
       "81"
      ]
     },
     "execution_count": 90,
     "metadata": {},
     "output_type": "execute_result"
    }
   ],
   "source": [
    "# n=7\n",
    "\n",
    "z7 = pauli_make_algebra(iops, hops, 500)\n",
    "len(z7)"
   ]
  },
  {
   "cell_type": "code",
   "execution_count": 92,
   "metadata": {},
   "outputs": [
    {
     "data": {
      "text/plain": [
       "112"
      ]
     },
     "execution_count": 92,
     "metadata": {},
     "output_type": "execute_result"
    }
   ],
   "source": [
    "# n=8\n",
    "\n",
    "z8 = pauli_make_algebra(iops, hops, 500)\n",
    "len(z8)"
   ]
  },
  {
   "cell_type": "code",
   "execution_count": 94,
   "metadata": {},
   "outputs": [
    {
     "data": {
      "text/plain": [
       "118"
      ]
     },
     "execution_count": 94,
     "metadata": {},
     "output_type": "execute_result"
    }
   ],
   "source": [
    "# n=9\n",
    "\n",
    "z9 = pauli_make_algebra(iops, hops, 500)\n",
    "len(z9)"
   ]
  },
  {
   "cell_type": "code",
   "execution_count": 96,
   "metadata": {},
   "outputs": [
    {
     "data": {
      "text/plain": [
       "149"
      ]
     },
     "execution_count": 96,
     "metadata": {},
     "output_type": "execute_result"
    }
   ],
   "source": [
    "# n=10\n",
    "\n",
    "z10 = pauli_make_algebra(iops, hops, 500)\n",
    "len(z10)"
   ]
  },
  {
   "cell_type": "code",
   "execution_count": 110,
   "metadata": {},
   "outputs": [
    {
     "data": {
      "text/plain": [
       "[]"
      ]
     },
     "execution_count": 110,
     "metadata": {},
     "output_type": "execute_result"
    }
   ],
   "source": [
    "filtering(z5, 1)"
   ]
  },
  {
   "cell_type": "markdown",
   "metadata": {},
   "source": [
    "omg there's a constant difference! even to odd is +6 and odd to even is +31"
   ]
  },
  {
   "cell_type": "markdown",
   "metadata": {},
   "source": [
    "##### Makes bonus long-range! eg n=5, I = z2z3 makes expected z1z3 and z2z4 but ALSO z1z4... not sure where it comes from. More bonus for larger n too!"
   ]
  },
  {
   "cell_type": "code",
   "execution_count": 41,
   "metadata": {},
   "outputs": [
    {
     "data": {
      "text/plain": [
       "[(1, Pauli([Z, Z, I, I, I, I, I, I, I, I])),\n",
       " (1, Pauli([I, Z, Z, I, I, I, I, I, I, I])),\n",
       " (1, Pauli([I, I, Z, Z, I, I, I, I, I, I])),\n",
       " (1, Pauli([I, I, I, Z, Z, I, I, I, I, I])),\n",
       " (1, Pauli([I, I, I, I, Z, Z, I, I, I, I])),\n",
       " (1, Pauli([I, I, I, I, I, Z, Z, I, I, I])),\n",
       " (1, Pauli([I, I, I, I, I, I, Z, Z, I, I])),\n",
       " (1, Pauli([I, I, I, I, I, I, I, Z, Z, I])),\n",
       " (1, Pauli([I, I, I, I, I, I, I, I, Z, Z])),\n",
       " ((16+0j), Pauli([Z, I, Z, I, I, I, I, I, I, I])),\n",
       " ((16+0j), Pauli([I, Z, I, Z, I, I, I, I, I, I])),\n",
       " ((16+0j), Pauli([I, I, Z, I, Z, I, I, I, I, I])),\n",
       " ((16+0j), Pauli([I, I, I, Z, I, Z, I, I, I, I])),\n",
       " ((16+0j), Pauli([I, I, I, I, Z, I, Z, I, I, I])),\n",
       " ((16+0j), Pauli([I, I, I, I, I, Z, I, Z, I, I])),\n",
       " ((16+0j), Pauli([I, I, I, I, I, I, Z, I, Z, I])),\n",
       " ((16+0j), Pauli([I, I, I, I, I, I, I, Z, I, Z])),\n",
       " ((256+0j), Pauli([Z, I, I, Z, I, I, I, I, I, I])),\n",
       " ((256+0j), Pauli([I, I, Z, I, I, Z, I, I, I, I])),\n",
       " ((256+0j), Pauli([I, I, I, I, Z, I, I, Z, I, I])),\n",
       " ((256+0j), Pauli([I, I, I, I, I, I, Z, I, I, Z]))]"
      ]
     },
     "execution_count": 41,
     "metadata": {},
     "output_type": "execute_result"
    }
   ],
   "source": [
    "filtering(z10, 2)"
   ]
  },
  {
   "cell_type": "markdown",
   "metadata": {},
   "source": [
    "### $H: \\{X_kX_{k+1}, Z_k\\}$, $I = X_1X_k$ but with proper make_alg"
   ]
  },
  {
   "cell_type": "code",
   "execution_count": null,
   "metadata": {},
   "outputs": [],
   "source": [
    "# define Hamiltonian and invariant ops\n",
    "\n",
    "n=5\n",
    "k=2\n",
    "ops1, ops2 = [], []\n",
    "for i in range(n):\n",
    "    new_op1 = [I for j in range(n)]\n",
    "    new_op2 = [I for j in range(n)]\n",
    "    new_op1[i], new_op1[(i+1)%n] = X, X\n",
    "    new_op2[i] = Z\n",
    "    ops1.append(SuperPauli([(1, Pauli(new_op1))]))\n",
    "    ops2.append(SuperPauli([(1, Pauli(new_op2))]))\n",
    "ops3 = [I for i in range(n)]\n",
    "ops3[0], ops3[k] = X, X\n",
    "\n",
    "hops = ops1 + ops2\n",
    "iops = [Pauli(ops3)]"
   ]
  },
  {
   "cell_type": "code",
   "execution_count": null,
   "metadata": {},
   "outputs": [],
   "source": [
    "# n=3, k=1\n",
    "\n",
    "b3 = pauli_make_algebra(iops, hops, 500)\n",
    "len(b3)"
   ]
  },
  {
   "cell_type": "code",
   "execution_count": null,
   "metadata": {},
   "outputs": [],
   "source": [
    "# n=4, k=1\n",
    "\n",
    "b4 = pauli_make_algebra(iops, hops, 500)\n",
    "len(b4)"
   ]
  },
  {
   "cell_type": "code",
   "execution_count": null,
   "metadata": {},
   "outputs": [],
   "source": [
    "# n=4, k=2\n",
    "\n",
    "bb4 = pauli_make_algebra(iops, hops, 500)\n",
    "len(bb4)"
   ]
  },
  {
   "cell_type": "code",
   "execution_count": null,
   "metadata": {},
   "outputs": [],
   "source": [
    "# n=5, k=1\n",
    "\n",
    "b5 = pauli_make_algebra(iops, hops, 500)\n",
    "len(b5)"
   ]
  },
  {
   "cell_type": "code",
   "execution_count": null,
   "metadata": {},
   "outputs": [],
   "source": [
    "sort(bb4)"
   ]
  },
  {
   "cell_type": "markdown",
   "metadata": {},
   "source": [
    "##### seems to make the same sets as I=Z1Zk when k is not 1 nor n-1..."
   ]
  },
  {
   "cell_type": "markdown",
   "metadata": {},
   "source": [
    "##### same thing when I=Y1Yk :)"
   ]
  },
  {
   "cell_type": "markdown",
   "metadata": {},
   "source": [
    "### Processing sets from $H: \\{X_kX_{k+1}, Z_k\\}$, $I = Z_1Z_k$"
   ]
  },
  {
   "cell_type": "code",
   "execution_count": 32,
   "metadata": {},
   "outputs": [],
   "source": [
    "def filtering(ops, n):\n",
    "    \"\"\"Return operators with n-body interactions.\"\"\"\n",
    "    filtered_list = []\n",
    "    for superpauli in ops:\n",
    "        for pauli in superpauli.paulis:\n",
    "            q_decomp = pauli[1].q_decomp\n",
    "            if np.count_nonzero(q_decomp) == n:\n",
    "                filtered_list.append(pauli)\n",
    "    return filtered_list"
   ]
  },
  {
   "cell_type": "code",
   "execution_count": null,
   "metadata": {},
   "outputs": [],
   "source": [
    "a3"
   ]
  },
  {
   "cell_type": "code",
   "execution_count": null,
   "metadata": {},
   "outputs": [],
   "source": [
    "d3"
   ]
  },
  {
   "cell_type": "code",
   "execution_count": null,
   "metadata": {},
   "outputs": [],
   "source": [
    "filter(a4, 4)"
   ]
  },
  {
   "cell_type": "markdown",
   "metadata": {},
   "source": [
    "### SET 1: $H: \\{X_kX_{k+1}, Z_k\\}$, $I = Z_1Z_k$ but with proper make_alg"
   ]
  },
  {
   "cell_type": "code",
   "execution_count": null,
   "metadata": {},
   "outputs": [],
   "source": [
    "# define Hamiltonian and invariant ops\n",
    "\n",
    "n=3\n",
    "k=1\n",
    "ops1, ops2 = [], []\n",
    "for i in range(n):\n",
    "    new_op1 = [I for j in range(n)]\n",
    "    new_op2 = [I for j in range(n)]\n",
    "    new_op1[i], new_op1[(i+1)%n] = X, X\n",
    "    new_op2[i] = Z\n",
    "    ops1.append(SuperPauli([(1, Pauli(new_op1))]))\n",
    "    ops2.append(SuperPauli([(1, Pauli(new_op2))]))\n",
    "ops3 = [I for i in range(n)]\n",
    "ops3[0], ops3[k] = Z, Z\n",
    "\n",
    "hops = ops1 + ops2\n",
    "iops = [Pauli(ops3)]"
   ]
  },
  {
   "cell_type": "code",
   "execution_count": null,
   "metadata": {},
   "outputs": [],
   "source": [
    "set_1_periodic_dict = {\"n3k1\" : a3, \"n4k1\" : a4, \"n4k2\" : aa4, \"n4k3\" : aaa4, \"n5k1\" : a5, \"n5k2\" : aa5, \"n6k1\" : a6, \"n7k1\" : a7}"
   ]
  },
  {
   "cell_type": "code",
   "execution_count": null,
   "metadata": {},
   "outputs": [],
   "source": [
    "inv = Pauli([Z, Z, I, I, I, I, I])\n",
    "x2x3 = SuperPauli([(1, Pauli([I, X, X, I, I, I, I]))])\n",
    "z2 = SuperPauli([(1, Pauli([I, Z, I, I, I, I, I]))])\n",
    "z3 = SuperPauli([(1, Pauli([I, I, Z, I, I, I, I]))])"
   ]
  },
  {
   "cell_type": "code",
   "execution_count": null,
   "metadata": {},
   "outputs": [],
   "source": [
    "ans = comm(inv, x2x3)\n",
    "ans = comm(ans, z2)\n",
    "ans = comm(ans, z3)\n",
    "comm(ans, x2x3)"
   ]
  },
  {
   "cell_type": "code",
   "execution_count": null,
   "metadata": {},
   "outputs": [],
   "source": [
    "def sort(ops):\n",
    "    \"\"\"Return all operators acting trivially everywhere, except qubit 1 and 2\"\"\"\n",
    "    sorted_list = []\n",
    "    for superpauli in ops:\n",
    "        for pauli in superpauli.paulis:\n",
    "            q_decomp = pauli[1].q_decomp\n",
    "            n = len(q_decomp)\n",
    "            if sum(q_decomp[2:n]) == 0:\n",
    "                sorted_list.append(pauli)\n",
    "    return sorted_list"
   ]
  },
  {
   "cell_type": "code",
   "execution_count": null,
   "metadata": {},
   "outputs": [],
   "source": [
    "# n=3, k=1\n",
    "\n",
    "a3 = pauli_make_algebra(iops, hops, 500)\n",
    "len(a3)"
   ]
  },
  {
   "cell_type": "code",
   "execution_count": null,
   "metadata": {},
   "outputs": [],
   "source": [
    "sort(a3)"
   ]
  },
  {
   "cell_type": "code",
   "execution_count": null,
   "metadata": {},
   "outputs": [],
   "source": [
    "# n=4, k=1\n",
    "\n",
    "a4 = pauli_make_algebra(iops, hops, 500)\n",
    "len(a4)"
   ]
  },
  {
   "cell_type": "code",
   "execution_count": null,
   "metadata": {},
   "outputs": [],
   "source": [
    "sort(a4)"
   ]
  },
  {
   "cell_type": "code",
   "execution_count": null,
   "metadata": {},
   "outputs": [],
   "source": [
    "# n=4, k=2\n",
    "\n",
    "aa4 = pauli_make_algebra(iops, hops, 500)\n",
    "len(aa4)"
   ]
  },
  {
   "cell_type": "code",
   "execution_count": null,
   "metadata": {},
   "outputs": [],
   "source": [
    "sort(aa4)"
   ]
  },
  {
   "cell_type": "code",
   "execution_count": null,
   "metadata": {},
   "outputs": [],
   "source": [
    "# n=4, k=3\n",
    "\n",
    "aaa4 = pauli_make_algebra(iops, hops, 500)\n",
    "len(aaa4)"
   ]
  },
  {
   "cell_type": "code",
   "execution_count": null,
   "metadata": {},
   "outputs": [],
   "source": [
    "sort(aaa4)"
   ]
  },
  {
   "cell_type": "code",
   "execution_count": null,
   "metadata": {},
   "outputs": [],
   "source": [
    "# n=5, k=1\n",
    "\n",
    "a5 = pauli_make_algebra(iops, hops, 1033)\n",
    "len(a5)"
   ]
  },
  {
   "cell_type": "code",
   "execution_count": null,
   "metadata": {},
   "outputs": [],
   "source": [
    "sort(a5)"
   ]
  },
  {
   "cell_type": "code",
   "execution_count": null,
   "metadata": {},
   "outputs": [],
   "source": [
    "# n=5, k=2\n",
    "\n",
    "aa5 = pauli_make_algebra(iops, hops, 1033)\n",
    "len(aa5)"
   ]
  },
  {
   "cell_type": "code",
   "execution_count": null,
   "metadata": {},
   "outputs": [],
   "source": [
    "sort(aa5)"
   ]
  },
  {
   "cell_type": "code",
   "execution_count": null,
   "metadata": {},
   "outputs": [],
   "source": [
    "# n=6, k=1\n",
    "\n",
    "a6 = pauli_make_algebra(iops, hops, 4097)\n",
    "len(a6)"
   ]
  },
  {
   "cell_type": "code",
   "execution_count": null,
   "metadata": {},
   "outputs": [],
   "source": [
    "# n=7, k=1\n",
    "\n",
    "a7 = pauli_make_algebra(iops, hops, 8194)\n",
    "len(a7)"
   ]
  },
  {
   "cell_type": "code",
   "execution_count": null,
   "metadata": {},
   "outputs": [],
   "source": [
    "set_1_aperiodic_dict = {\"n3k1\" : d3, \"n4k1\" : d4, \"n5k1\" : d5, \"n6k1\" : d6, \"n7k1\" : d7}"
   ]
  },
  {
   "cell_type": "code",
   "execution_count": null,
   "metadata": {},
   "outputs": [],
   "source": [
    "# NON-PERIODIC\n",
    "# define Hamiltonian and invariant ops\n",
    "\n",
    "n=5\n",
    "k=1\n",
    "ops1, ops2 = [], []\n",
    "for i in range(n):\n",
    "    new_op1 = [I for j in range(n)]\n",
    "    new_op2 = [I for j in range(n)]\n",
    "    new_op1[i], new_op1[(i+1)%n] = X, X\n",
    "    new_op2[i] = Z\n",
    "    ops1.append(SuperPauli([(1, Pauli(new_op1))]))\n",
    "    ops2.append(SuperPauli([(1, Pauli(new_op2))]))\n",
    "ops1.pop()\n",
    "ops3 = [I for i in range(n)]\n",
    "ops3[0], ops3[k] = Z, Z\n",
    "\n",
    "hops = ops1 + ops2\n",
    "iops = [Pauli(ops3)]"
   ]
  },
  {
   "cell_type": "code",
   "execution_count": null,
   "metadata": {},
   "outputs": [],
   "source": [
    "# check complete bigger\n",
    "\n",
    "e3 = pauli_complete_algebra(hops+iops, 500)\n",
    "len(e3)"
   ]
  },
  {
   "cell_type": "code",
   "execution_count": null,
   "metadata": {},
   "outputs": [],
   "source": [
    "# check complete bigger\n",
    "\n",
    "e4 = pauli_complete_algebra(hops+iops, 500)\n",
    "len(e4)"
   ]
  },
  {
   "cell_type": "code",
   "execution_count": null,
   "metadata": {},
   "outputs": [],
   "source": [
    "# NEEDS RUNNING >14MINS, CHECK BIGGER THAN 420\n",
    "# check complete bigger\n",
    "\n",
    "e5 = pauli_complete_algebra(hops+iops, 500)\n",
    "len(e5)"
   ]
  },
  {
   "cell_type": "code",
   "execution_count": null,
   "metadata": {},
   "outputs": [],
   "source": [
    "# n=3, k=1\n",
    "\n",
    "d3 = pauli_make_algebra(iops, hops, 500)\n",
    "len(d3)"
   ]
  },
  {
   "cell_type": "code",
   "execution_count": null,
   "metadata": {},
   "outputs": [],
   "source": [
    "# n=4, k=1\n",
    "\n",
    "d4 = pauli_make_algebra(iops, hops, 500)\n",
    "len(d4)"
   ]
  },
  {
   "cell_type": "code",
   "execution_count": null,
   "metadata": {},
   "outputs": [],
   "source": [
    "# n=5, k=1\n",
    "\n",
    "d5 = pauli_make_algebra(iops, hops, 500)\n",
    "len(d5)"
   ]
  },
  {
   "cell_type": "code",
   "execution_count": null,
   "metadata": {},
   "outputs": [],
   "source": [
    "# n=6, k=1\n",
    "\n",
    "d6 = pauli_make_algebra(iops, hops, 500)\n",
    "len(d6)"
   ]
  },
  {
   "cell_type": "code",
   "execution_count": null,
   "metadata": {},
   "outputs": [],
   "source": [
    "# n=7, k=1\n",
    "\n",
    "d7 = pauli_make_algebra(iops, hops, 4000)\n",
    "len(d7)"
   ]
  },
  {
   "cell_type": "markdown",
   "metadata": {},
   "source": [
    "### $H: \\{ \\sum_k X_kX_{k+1}, \\sum_k Z_k, \\sum_k X_k\\}$, $I = Z_1Z_k$ but with proper make_alg"
   ]
  },
  {
   "cell_type": "code",
   "execution_count": null,
   "metadata": {},
   "outputs": [],
   "source": [
    "# define Hamiltonian and invariant ops\n",
    "\n",
    "n=5\n",
    "k=2\n",
    "ops1, ops2, ops3 = [], [], []\n",
    "for i in range(n):\n",
    "    new_op = [I for j in range(n)]\n",
    "    new_op[i], new_op[(i+1)%n] = X, X\n",
    "    ops1.append(new_op)\n",
    "for i in range(n):\n",
    "    new_op = [I for j in range(n)]\n",
    "    new_op3 = [I for j in range(n)]\n",
    "    new_op[i] = Z\n",
    "    new_op3[i] = X\n",
    "    ops2.append(new_op)\n",
    "    ops3.append(new_op3)\n",
    "op1 = Pauli(ops1[0])\n",
    "op2 = Pauli(ops2[0])\n",
    "op3 = Pauli(ops3[0])\n",
    "for j in range(1, len(ops1)):\n",
    "    op1 += Pauli(ops1[j])\n",
    "for j in range(1, len(ops2)):\n",
    "    op2 += Pauli(ops2[j])\n",
    "    op3 += Pauli(ops3[j])\n",
    "ops3 = [I for i in range(n)]\n",
    "ops3[0], ops3[k] = Z, Z\n",
    "\n",
    "hops = [op1] + [op2] + [op3]\n",
    "iops = [Pauli(ops3)]"
   ]
  },
  {
   "cell_type": "code",
   "execution_count": null,
   "metadata": {},
   "outputs": [],
   "source": [
    "# n=3, k=1\n",
    "\n",
    "alg3 = pauli_make_algebra(iops, hops, 500)\n",
    "len(alg3)"
   ]
  },
  {
   "cell_type": "code",
   "execution_count": null,
   "metadata": {},
   "outputs": [],
   "source": [
    "# n=4, k=1\n",
    "\n",
    "alg4 = pauli_make_algebra(iops, hops, 500)\n",
    "len(alg4)"
   ]
  },
  {
   "cell_type": "code",
   "execution_count": null,
   "metadata": {},
   "outputs": [],
   "source": [
    "# n=4, k=2\n",
    "\n",
    "algg3 = pauli_make_algebra(iops, hops, 500)\n",
    "len(algg3)"
   ]
  },
  {
   "cell_type": "code",
   "execution_count": null,
   "metadata": {},
   "outputs": [],
   "source": [
    "# n=5, k=1\n",
    "\n",
    "alg5 = pauli_make_algebra(iops, hops, 1033)\n",
    "len(alg5)"
   ]
  },
  {
   "cell_type": "code",
   "execution_count": null,
   "metadata": {},
   "outputs": [],
   "source": [
    "# n=5, k=2\n",
    "\n",
    "algg5 = pauli_make_algebra(iops, hops, 1033)\n",
    "len(algg5)"
   ]
  },
  {
   "cell_type": "code",
   "execution_count": null,
   "metadata": {},
   "outputs": [],
   "source": [
    "algg5"
   ]
  },
  {
   "cell_type": "markdown",
   "metadata": {},
   "source": [
    "### $H: \\{ \\sum_k X_kX_{k+1} \\}$, $I = Z_1Z_k$ but with proper make_alg"
   ]
  },
  {
   "cell_type": "code",
   "execution_count": null,
   "metadata": {},
   "outputs": [],
   "source": [
    "# define Hamiltonian and invariant ops\n",
    "\n",
    "n=10\n",
    "k=5\n",
    "ops1 = []\n",
    "for i in range(n):\n",
    "    new_op = [I for j in range(n)]\n",
    "    new_op[i], new_op[(i+1)%n] = X, X\n",
    "    ops1.append(new_op)\n",
    "op1 = Pauli(ops1[0])\n",
    "for j in range(1,n):\n",
    "    op1 += Pauli(ops1[j])\n",
    "ops3 = [I for i in range(n)]\n",
    "ops3[0], ops3[k] = Z, Z\n",
    "\n",
    "hops = [op1]\n",
    "iops = [Pauli(ops3)]"
   ]
  },
  {
   "cell_type": "code",
   "execution_count": null,
   "metadata": {},
   "outputs": [],
   "source": [
    "a = pauli_make_algebra(iops, hops, 500)\n",
    "len(a)"
   ]
  },
  {
   "cell_type": "code",
   "execution_count": null,
   "metadata": {},
   "outputs": [],
   "source": [
    "a"
   ]
  },
  {
   "cell_type": "code",
   "execution_count": null,
   "metadata": {},
   "outputs": [],
   "source": [
    "# NON-PERIODIC\n",
    "# define Hamiltonian and invariant ops\n",
    "\n",
    "n=10\n",
    "k=n-1\n",
    "ops1 = []\n",
    "for i in range(n-1):\n",
    "    new_op = [I for j in range(n)]\n",
    "    new_op[i], new_op[(i+1)%n] = X, X\n",
    "    ops1.append(new_op)\n",
    "op1 = Pauli(ops1[0])\n",
    "for j in range(1,n-1):\n",
    "    op1 += Pauli(ops1[j])\n",
    "ops3 = [I for i in range(n)]\n",
    "ops3[0], ops3[k] = Z, Z\n",
    "\n",
    "hops = [op1]\n",
    "iops = [Pauli(ops3)]"
   ]
  },
  {
   "cell_type": "code",
   "execution_count": null,
   "metadata": {},
   "outputs": [],
   "source": [
    "a = pauli_make_algebra(iops, hops, 500)\n",
    "len(a)"
   ]
  },
  {
   "cell_type": "code",
   "execution_count": null,
   "metadata": {},
   "outputs": [],
   "source": [
    "a"
   ]
  },
  {
   "cell_type": "markdown",
   "metadata": {},
   "source": [
    "### $H: \\{ X_kX_{k+1} \\}$, $I = Z_1Z_k$ but with proper make_alg"
   ]
  },
  {
   "cell_type": "code",
   "execution_count": null,
   "metadata": {},
   "outputs": [],
   "source": [
    "# define Hamiltonian and invariant ops\n",
    "\n",
    "n=10\n",
    "k=5\n",
    "ops1 = []\n",
    "for i in range(n):\n",
    "    new_op = [I for j in range(n)]\n",
    "    new_op[i], new_op[(i+1)%n] = X, X\n",
    "    ops1.append(SuperPauli([(1, Pauli(new_op))]))\n",
    "ops3 = [I for i in range(n)]\n",
    "ops3[0], ops3[k] = Z, Z\n",
    "\n",
    "hops = ops1\n",
    "iops = [Pauli(ops3)]"
   ]
  },
  {
   "cell_type": "code",
   "execution_count": null,
   "metadata": {},
   "outputs": [],
   "source": [
    "a = pauli_make_algebra(iops, hops, 500)\n",
    "len(a)"
   ]
  },
  {
   "cell_type": "code",
   "execution_count": null,
   "metadata": {},
   "outputs": [],
   "source": [
    "a"
   ]
  },
  {
   "cell_type": "code",
   "execution_count": null,
   "metadata": {},
   "outputs": [],
   "source": [
    "# NON-PERIODIC\n",
    "# define Hamiltonian and invariant ops\n",
    "\n",
    "n=10\n",
    "k=n-1\n",
    "ops1 = []\n",
    "for i in range(n-1):\n",
    "    new_op = [I for j in range(n)]\n",
    "    new_op[i], new_op[(i+1)%n] = X, X\n",
    "    ops1.append(SuperPauli([(1, Pauli(new_op))]))\n",
    "ops3 = [I for i in range(n)]\n",
    "ops3[0], ops3[k] = Z, Z\n",
    "\n",
    "hops = ops1\n",
    "iops = [Pauli(ops3)]"
   ]
  },
  {
   "cell_type": "code",
   "execution_count": null,
   "metadata": {},
   "outputs": [],
   "source": [
    "a = pauli_make_algebra(iops, hops, 500)\n",
    "len(a)"
   ]
  },
  {
   "cell_type": "code",
   "execution_count": null,
   "metadata": {},
   "outputs": [],
   "source": [
    "a"
   ]
  },
  {
   "cell_type": "markdown",
   "metadata": {},
   "source": [
    "### $H: \\{ \\sum_k Z_kZ_{k+1}, \\sum_k Z_k\\}$, $I = X_1X_k$ but with proper make_alg"
   ]
  },
  {
   "cell_type": "code",
   "execution_count": null,
   "metadata": {},
   "outputs": [],
   "source": [
    "# define Hamiltonian and invariant ops\n",
    "\n",
    "n=5\n",
    "k=1\n",
    "ops1, ops2 = [], []\n",
    "for i in range(n):\n",
    "    new_op = [I for j in range(n)]\n",
    "    new_op[i], new_op[(i+1)%n] = Z, Z\n",
    "    ops1.append(new_op)\n",
    "for i in range(n):\n",
    "    new_op = [I for j in range(n)]\n",
    "    new_op[i] = Z\n",
    "    ops2.append(new_op)\n",
    "op1 = Pauli(ops1[0])\n",
    "op2 = Pauli(ops2[0])\n",
    "for j in range(1, len(ops1)):\n",
    "    op1 += Pauli(ops1[j])\n",
    "for j in range(1, len(ops2)):\n",
    "    op2 += Pauli(ops2[j])\n",
    "ops3 = [I for i in range(n)]\n",
    "ops3[0], ops3[k] = X, X\n",
    "\n",
    "hops = [op1] + [op2]\n",
    "iops = [Pauli(ops3)]"
   ]
  },
  {
   "cell_type": "code",
   "execution_count": null,
   "metadata": {},
   "outputs": [],
   "source": [
    "# n=3, k=1\n",
    "\n",
    "al3 = pauli_make_algebra(iops, hops, 500)\n",
    "len(al3)"
   ]
  },
  {
   "cell_type": "code",
   "execution_count": null,
   "metadata": {},
   "outputs": [],
   "source": [
    "al3"
   ]
  },
  {
   "cell_type": "code",
   "execution_count": null,
   "metadata": {},
   "outputs": [],
   "source": [
    "b = pauli_complete_algebra(hops + iops, 300)\n",
    "len(b)"
   ]
  },
  {
   "cell_type": "code",
   "execution_count": null,
   "metadata": {},
   "outputs": [],
   "source": [
    "# NON-PERIODIC\n",
    "# define Hamiltonian and invariant ops\n",
    "\n",
    "n=10\n",
    "k=n-1\n",
    "ops1, ops2 = [], []\n",
    "for i in range(n-1):\n",
    "    new_op = [I for j in range(n)]\n",
    "    new_op[i], new_op[(i+1)%n] = Z, Z\n",
    "    ops1.append(new_op)\n",
    "for i in range(n):\n",
    "    new_op = [I for j in range(n)]\n",
    "    new_op[i] = Z\n",
    "    ops2.append(new_op)\n",
    "op1 = Pauli(ops1[0])\n",
    "op2 = Pauli(ops2[0])\n",
    "for j in range(1, len(ops1)):\n",
    "    op1 += Pauli(ops1[j])\n",
    "for j in range(1, len(ops2)):\n",
    "    op2 += Pauli(ops2[j])\n",
    "ops3 = [I for i in range(n)]\n",
    "ops3[0], ops3[k] = X, X\n",
    "\n",
    "hops = [op1] + [op2]\n",
    "iops = [Pauli(ops3)]"
   ]
  },
  {
   "cell_type": "code",
   "execution_count": null,
   "metadata": {},
   "outputs": [],
   "source": [
    "al3 = pauli_make_algebra(iops, hops, 500)\n",
    "len(al3)"
   ]
  },
  {
   "cell_type": "code",
   "execution_count": null,
   "metadata": {},
   "outputs": [],
   "source": [
    "al3"
   ]
  },
  {
   "cell_type": "markdown",
   "metadata": {},
   "source": [
    "### $H: \\{ \\sum_k X_kX_{k+1}, \\sum_k Z_k\\}$, $I = Z_1Z_k$ but with proper make_alg"
   ]
  },
  {
   "cell_type": "code",
   "execution_count": null,
   "metadata": {},
   "outputs": [],
   "source": [
    "# define Hamiltonian and invariant ops\n",
    "\n",
    "n=4\n",
    "k=1\n",
    "ops1, ops2 = [], []\n",
    "for i in range(n):\n",
    "    new_op = [I for j in range(n)]\n",
    "    new_op[i], new_op[(i+1)%n] = X, X\n",
    "    ops1.append(new_op)\n",
    "for i in range(n):\n",
    "    new_op = [I for j in range(n)]\n",
    "    new_op[i] = Z\n",
    "    ops2.append(new_op)\n",
    "op1 = Pauli(ops1[0])\n",
    "op2 = Pauli(ops2[0])\n",
    "for j in range(1, len(ops1)):\n",
    "    op1 += Pauli(ops1[j])\n",
    "for j in range(1, len(ops2)):\n",
    "    op2 += Pauli(ops2[j])\n",
    "ops3 = [I for i in range(n)]\n",
    "ops3[0], ops3[k] = Z, Z\n",
    "\n",
    "hops = [op1] + [op2]\n",
    "iops = [Pauli(ops3)]"
   ]
  },
  {
   "cell_type": "code",
   "execution_count": null,
   "metadata": {},
   "outputs": [],
   "source": [
    "# check complete alg bigger\n",
    "\n",
    "e = pauli_complete_algebra(hops + iops, 300)\n",
    "len(e)"
   ]
  },
  {
   "cell_type": "code",
   "execution_count": null,
   "metadata": {},
   "outputs": [],
   "source": [
    "# hops = iops experiment\n",
    "\n",
    "c = pauli_complete_algebra(hops, 30)\n",
    "print(len(c))\n",
    "\n",
    "d = pauli_make_algebra(hops, hops, 300)\n",
    "print(len(d))"
   ]
  },
  {
   "cell_type": "code",
   "execution_count": null,
   "metadata": {},
   "outputs": [],
   "source": [
    "# n=3, k=1\n",
    "\n",
    "alg3 = pauli_make_algebra(iops, hops, 500)\n",
    "len(alg3)"
   ]
  },
  {
   "cell_type": "code",
   "execution_count": null,
   "metadata": {},
   "outputs": [],
   "source": [
    "# n=3, k=2\n",
    "\n",
    "algg3 = pauli_make_algebra(iops, hops, 500)\n",
    "len(algg3)"
   ]
  },
  {
   "cell_type": "code",
   "execution_count": null,
   "metadata": {},
   "outputs": [],
   "source": [
    "alg3"
   ]
  },
  {
   "cell_type": "code",
   "execution_count": null,
   "metadata": {},
   "outputs": [],
   "source": [
    "algg3"
   ]
  },
  {
   "cell_type": "code",
   "execution_count": null,
   "metadata": {},
   "outputs": [],
   "source": [
    "# n=4, k=1\n",
    "\n",
    "alg4 = pauli_make_algebra(iops, hops, 500)\n",
    "len(alg4)"
   ]
  },
  {
   "cell_type": "code",
   "execution_count": null,
   "metadata": {},
   "outputs": [],
   "source": [
    "# n=4, k=2\n",
    "\n",
    "algg4 = pauli_make_algebra(iops, hops, 500)\n",
    "len(algg4)"
   ]
  },
  {
   "cell_type": "code",
   "execution_count": null,
   "metadata": {},
   "outputs": [],
   "source": [
    "alg4"
   ]
  },
  {
   "cell_type": "code",
   "execution_count": null,
   "metadata": {},
   "outputs": [],
   "source": [
    "algg4"
   ]
  },
  {
   "cell_type": "code",
   "execution_count": null,
   "metadata": {},
   "outputs": [],
   "source": [
    "# n=5, k=1\n",
    "\n",
    "alg5 = pauli_make_algebra(iops, hops, 500)\n",
    "len(alg5)"
   ]
  },
  {
   "cell_type": "code",
   "execution_count": null,
   "metadata": {},
   "outputs": [],
   "source": [
    "# n=5, k=2\n",
    "\n",
    "algg5 = pauli_make_algebra(iops, hops, 500)\n",
    "len(algg5)"
   ]
  },
  {
   "cell_type": "code",
   "execution_count": null,
   "metadata": {},
   "outputs": [],
   "source": [
    "alg5"
   ]
  },
  {
   "cell_type": "code",
   "execution_count": null,
   "metadata": {},
   "outputs": [],
   "source": [
    "algg5"
   ]
  },
  {
   "cell_type": "code",
   "execution_count": null,
   "metadata": {},
   "outputs": [],
   "source": [
    "# n=6, k=1\n",
    "\n",
    "alg6 = pauli_make_algebra(iops, hops, 500)\n",
    "len(alg6)"
   ]
  },
  {
   "cell_type": "code",
   "execution_count": null,
   "metadata": {},
   "outputs": [],
   "source": [
    "# n=6, k=2\n",
    "\n",
    "algg6 = pauli_make_algebra(iops, hops, 500)\n",
    "len(algg6)"
   ]
  },
  {
   "cell_type": "code",
   "execution_count": null,
   "metadata": {},
   "outputs": [],
   "source": [
    "# n=6, k=3\n",
    "\n",
    "alggg6 = pauli_make_algebra(iops, hops, 500)\n",
    "len(alggg6)"
   ]
  },
  {
   "cell_type": "code",
   "execution_count": null,
   "metadata": {},
   "outputs": [],
   "source": [
    "alg6"
   ]
  },
  {
   "cell_type": "code",
   "execution_count": null,
   "metadata": {},
   "outputs": [],
   "source": [
    "algg6"
   ]
  },
  {
   "cell_type": "code",
   "execution_count": null,
   "metadata": {},
   "outputs": [],
   "source": [
    "alggg6"
   ]
  },
  {
   "cell_type": "code",
   "execution_count": null,
   "metadata": {},
   "outputs": [],
   "source": [
    "# n=10, k=4\n",
    "\n",
    "algggg10 = pauli_make_algebra(iops, hops, 500)\n",
    "len(algggg10)"
   ]
  },
  {
   "cell_type": "code",
   "execution_count": null,
   "metadata": {},
   "outputs": [],
   "source": [
    "algggg10"
   ]
  },
  {
   "cell_type": "code",
   "execution_count": null,
   "metadata": {},
   "outputs": [],
   "source": [
    "# NON-PERIODIC\n",
    "# define Hamiltonian and invariant ops\n",
    "\n",
    "n=5\n",
    "k=n-1\n",
    "ops1, ops2 = [], []\n",
    "for i in range(n-1):\n",
    "    new_op = [I for j in range(n)]\n",
    "    new_op[i], new_op[(i+1)%n] = X, X\n",
    "    ops1.append(new_op)\n",
    "for i in range(n):\n",
    "    new_op = [I for j in range(n)]\n",
    "    new_op[i] = Z\n",
    "    ops2.append(new_op)\n",
    "op1 = Pauli(ops1[0])\n",
    "op2 = Pauli(ops2[0])\n",
    "for j in range(1, len(ops1)):\n",
    "    op1 += Pauli(ops1[j])\n",
    "for j in range(1, len(ops2)):\n",
    "    op2 += Pauli(ops2[j])\n",
    "ops3 = [I for i in range(n)]\n",
    "ops3[0], ops3[k] = Z, Z\n",
    "\n",
    "hops = [op1] + [op2]\n",
    "iops = [Pauli(ops3)]"
   ]
  },
  {
   "cell_type": "code",
   "execution_count": null,
   "metadata": {},
   "outputs": [],
   "source": [
    "# hops = iops experiment\n",
    "\n",
    "c = pauli_complete_algebra(hops, 300)\n",
    "print(len(c))\n",
    "\n",
    "d = pauli_make_algebra(hops, hops, 300)\n",
    "print(len(d))"
   ]
  },
  {
   "cell_type": "code",
   "execution_count": null,
   "metadata": {},
   "outputs": [],
   "source": [
    "op = [I for i in range(n)]\n",
    "op[0] = X\n",
    "hops.append(SuperPauli([(1, Pauli(op))]))\n",
    "\n",
    "op = [I for i in range(n)]\n",
    "op[n-1] = X\n",
    "hops.append(SuperPauli([(1, Pauli(op))]))"
   ]
  },
  {
   "cell_type": "code",
   "execution_count": null,
   "metadata": {},
   "outputs": [],
   "source": [
    "# hops = iops experiment\n",
    "\n",
    "c = pauli_complete_algebra(hops, 300)\n",
    "print(len(c))\n",
    "\n",
    "d = pauli_make_algebra(hops, hops, 300)\n",
    "print(len(d))"
   ]
  },
  {
   "cell_type": "code",
   "execution_count": null,
   "metadata": {},
   "outputs": [],
   "source": [
    "a = pauli_make_algebra(iops, hops, 500)\n",
    "len(a)"
   ]
  },
  {
   "cell_type": "code",
   "execution_count": null,
   "metadata": {},
   "outputs": [],
   "source": [
    "a"
   ]
  },
  {
   "cell_type": "markdown",
   "metadata": {},
   "source": [
    "### $H: \\{ \\sum_k X_kX_{k+1}, \\sum_kZ_k\\}$, $I = X_nX_1 + X_1X_2 + X_{k-1}X_k + X_kX_{k+1}$"
   ]
  },
  {
   "cell_type": "code",
   "execution_count": null,
   "metadata": {},
   "outputs": [],
   "source": [
    "# define Hamiltonian and invariant ops\n",
    "\n",
    "n=10 # n>3\n",
    "k=4 # 1<k<n-1\n",
    "ops1, ops2 = [], []\n",
    "for i in range(n):\n",
    "    new_op = [I for j in range(n)]\n",
    "    new_op[i], new_op[(i+1)%n] = X, X\n",
    "    ops1.append(new_op)\n",
    "for i in range(n):\n",
    "    new_op = [I for j in range(n)]\n",
    "    new_op[i] = Z\n",
    "    ops2.append(new_op)\n",
    "op1 = Pauli(ops1[0])\n",
    "op2 = Pauli(ops2[0])\n",
    "for j in range(1, len(ops1)):\n",
    "    op1 += Pauli(ops1[j])\n",
    "for j in range(1, len(ops2)):\n",
    "    op2 += Pauli(ops2[j])\n",
    "\n",
    "opp1 = [I for j in range(n)]\n",
    "opp1[0], opp1[1] = X, X\n",
    "opp2 = [I for j in range(n)]\n",
    "opp2[0], opp2[n-1] = X, X\n",
    "opp3 = [I for j in range(n)]\n",
    "opp3[k], opp3[k-1] = X, X\n",
    "opp4 = [I for j in range(n)]\n",
    "opp4[k], opp4[(k+1)] = X, X\n",
    "\n",
    "ops3 = Pauli(opp1) + Pauli(opp2) + Pauli(opp3) + Pauli(opp4)\n",
    "\n",
    "hops = [op1] + [op2]\n",
    "iops = [ops3]"
   ]
  },
  {
   "cell_type": "code",
   "execution_count": null,
   "metadata": {},
   "outputs": [],
   "source": [
    "# n=4, k=2\n",
    "\n",
    "a4 = pauli_make_algebra(iops, hops, 500)\n",
    "len(a4)"
   ]
  },
  {
   "cell_type": "code",
   "execution_count": null,
   "metadata": {},
   "outputs": [],
   "source": [
    "a4"
   ]
  },
  {
   "cell_type": "code",
   "execution_count": null,
   "metadata": {},
   "outputs": [],
   "source": [
    "# n=5, k=2\n",
    "\n",
    "a5 = pauli_make_algebra(iops, hops, 500)\n",
    "len(a5)"
   ]
  },
  {
   "cell_type": "code",
   "execution_count": null,
   "metadata": {},
   "outputs": [],
   "source": [
    "a5"
   ]
  },
  {
   "cell_type": "code",
   "execution_count": null,
   "metadata": {},
   "outputs": [],
   "source": [
    "# n=10, k=4\n",
    "\n",
    "a10 = pauli_make_algebra(iops, hops, 500)\n",
    "len(a10)"
   ]
  },
  {
   "cell_type": "code",
   "execution_count": null,
   "metadata": {},
   "outputs": [],
   "source": [
    "a10"
   ]
  },
  {
   "cell_type": "code",
   "execution_count": null,
   "metadata": {},
   "outputs": [],
   "source": [
    "# NON-PERIODIC\n",
    "# define Hamiltonian and invariant ops\n",
    "\n",
    "n=7 # n>3\n",
    "k=n-2 # 1<k<n-1\n",
    "ops1, ops2 = [], []\n",
    "for i in range(n-1):\n",
    "    new_op = [I for j in range(n)]\n",
    "    new_op[i], new_op[(i+1)%n] = X, X\n",
    "    ops1.append(new_op)\n",
    "for i in range(n):\n",
    "    new_op = [I for j in range(n)]\n",
    "    new_op[i] = Z\n",
    "    ops2.append(new_op)\n",
    "op1 = Pauli(ops1[0])\n",
    "op2 = Pauli(ops2[0])\n",
    "for j in range(1, len(ops1)):\n",
    "    op1 += Pauli(ops1[j])\n",
    "for j in range(1, len(ops2)):\n",
    "    op2 += Pauli(ops2[j])\n",
    "\n",
    "opp1 = [I for j in range(n)]\n",
    "opp1[0], opp1[1] = X, X\n",
    "opp2 = [I for j in range(n)]\n",
    "opp2[n-2], opp2[n-1] = X, X\n",
    "\n",
    "ops3 = Pauli(opp1) + Pauli(opp2)\n",
    "\n",
    "hops = [op1] + [op2]\n",
    "iops = [ops3]"
   ]
  },
  {
   "cell_type": "code",
   "execution_count": null,
   "metadata": {},
   "outputs": [],
   "source": [
    "b = pauli_make_algebra(iops, hops, 500)\n",
    "len(b)"
   ]
  },
  {
   "cell_type": "code",
   "execution_count": null,
   "metadata": {},
   "outputs": [],
   "source": [
    "b"
   ]
  },
  {
   "cell_type": "markdown",
   "metadata": {},
   "source": [
    "### Finding conserved quantities"
   ]
  },
  {
   "cell_type": "code",
   "execution_count": null,
   "metadata": {},
   "outputs": [],
   "source": [
    "# Hamiltonian: Z_k, X_kX_l\n",
    "# Invariant: Z_1Z_n\n",
    "\n",
    "n=2\n",
    "ops1, ops2 = [], []\n",
    "for i in range(n):\n",
    "    for j in range(n):\n",
    "        if i == j:\n",
    "            break\n",
    "        new_op = [I for k in range(n)]\n",
    "        new_op[i], new_op[j] = X, X\n",
    "        ops1.append(new_op)\n",
    "for i in range(n):\n",
    "    new_op = [I for k in range(n)]\n",
    "    new_op[i] = Z\n",
    "    ops2.append(new_op)\n",
    "op1 = Pauli(ops1[0])\n",
    "op2 = Pauli(ops2[0])\n",
    "for j in range(1, len(ops1)):\n",
    "    op1 += Pauli(ops1[j])\n",
    "for j in range(1, len(ops2)):\n",
    "    op2 += Pauli(ops2[j])\n",
    "ops3 = [I for i in range(n)]\n",
    "ops3[0], ops3[n-1] = Z, Z\n",
    "op3 = Pauli(ops3)"
   ]
  },
  {
   "cell_type": "code",
   "execution_count": null,
   "metadata": {},
   "outputs": [],
   "source": [
    "algf = pauli_find_algebra([op3], [op1, op2], 30)\n",
    "algc = pauli_complete_algebra([op1, op2, op3], 30)"
   ]
  },
  {
   "cell_type": "code",
   "execution_count": null,
   "metadata": {},
   "outputs": [],
   "source": [
    "algc"
   ]
  },
  {
   "cell_type": "code",
   "execution_count": null,
   "metadata": {},
   "outputs": [],
   "source": [
    "op = 1/2j * alg[1]\n",
    "op"
   ]
  },
  {
   "cell_type": "code",
   "execution_count": null,
   "metadata": {},
   "outputs": [],
   "source": [
    "comm(op3, op1)"
   ]
  },
  {
   "cell_type": "markdown",
   "metadata": {},
   "source": [
    "### Messing about with finding algebras"
   ]
  },
  {
   "cell_type": "code",
   "execution_count": null,
   "metadata": {},
   "outputs": [],
   "source": [
    "n=5\n",
    "ops1, ops2 = [], []\n",
    "for i in range(n):\n",
    "    for j in range(n):\n",
    "        if i == j:\n",
    "            break\n",
    "        new_op = [I for k in range(n)]\n",
    "        new_op[i], new_op[j] = X, X\n",
    "        ops1.append(new_op)\n",
    "for i in range(n):\n",
    "    new_op = [I for i in range(n)]\n",
    "    new_op[i] = Z\n",
    "    ops2.append(new_op)\n",
    "op1 = Pauli(ops1[0])\n",
    "op2 = Pauli(ops2[0])\n",
    "for j in range(1, len(ops1)):\n",
    "    op1 += Pauli(ops1[j])\n",
    "for j in range(1, len(ops2)):\n",
    "    op2 += Pauli(ops2[j])"
   ]
  },
  {
   "cell_type": "code",
   "execution_count": null,
   "metadata": {},
   "outputs": [],
   "source": [
    "alg2_complete = pauli_complete_algebra([op1, op2], 50)\n",
    "print(len(alg2_complete))"
   ]
  },
  {
   "cell_type": "code",
   "execution_count": null,
   "metadata": {},
   "outputs": [],
   "source": [
    "alg2 = pauli_find_algebra([op2], [op2, op1], 50)\n",
    "print(len(alg2))\n",
    "alg2"
   ]
  },
  {
   "cell_type": "code",
   "execution_count": null,
   "metadata": {},
   "outputs": [],
   "source": [
    "alg3_complete = pauli_complete_algebra([op1, op2], 50)\n",
    "print(len(alg3_complete))"
   ]
  },
  {
   "cell_type": "code",
   "execution_count": null,
   "metadata": {},
   "outputs": [],
   "source": [
    "alg3 = pauli_find_algebra([op2], [op2, op1], 50)\n",
    "print(len(alg3))\n",
    "alg3"
   ]
  },
  {
   "cell_type": "code",
   "execution_count": null,
   "metadata": {},
   "outputs": [],
   "source": [
    "alg4_complete = pauli_complete_algebra([op1, op2], 50)\n",
    "print(len(alg4_complete))"
   ]
  },
  {
   "cell_type": "code",
   "execution_count": null,
   "metadata": {},
   "outputs": [],
   "source": [
    "alg4_complete"
   ]
  },
  {
   "cell_type": "code",
   "execution_count": null,
   "metadata": {},
   "outputs": [],
   "source": [
    "alg4 = pauli_find_algebra([op2], [op2, op1], 50)\n",
    "print(len(alg4))\n",
    "alg4"
   ]
  },
  {
   "cell_type": "code",
   "execution_count": null,
   "metadata": {},
   "outputs": [],
   "source": [
    "print(\"alg4 but manually simplified...\")\n",
    "[alg4[0], 1/2j * alg4[1], 1/8 * alg4[2], 1/64 * alg4[3] - 3*alg4[0], 1/1024 * alg4[4] + 5/16 * alg4[2], 1/2048j*alg4[5] - 5j/2 * alg4[1], 1/4096 * alg4[6] + 5/32 * alg4[3] - 15*alg4[0], 1/2*1/131072j*alg4[7] - 1/2*35j*1/2 * alg4[1], 1/2*1/524288*alg4[8] + 35*1/16 * alg4[2]]"
   ]
  },
  {
   "cell_type": "code",
   "execution_count": null,
   "metadata": {},
   "outputs": [],
   "source": [
    "def simplify(superpauli : SuperPauli):\n",
    "    paulis = superpauli.pauli_list\n",
    "    coeff = superpauli.coeff_list\n",
    "    d = math.gcd(*coeff)\n",
    "    coeff = list(np.array(coeff)//d)\n",
    "    pauli_tuples = list(zip(coeff, paulis))\n",
    "    return SuperPauli(pauli_tuples)"
   ]
  },
  {
   "cell_type": "code",
   "execution_count": null,
   "metadata": {},
   "outputs": [],
   "source": [
    "[simplify(op) for op in alg4]"
   ]
  },
  {
   "cell_type": "code",
   "execution_count": null,
   "metadata": {},
   "outputs": [],
   "source": [
    "alg5_complete = pauli_complete_algebra([op1, op2], 50)\n",
    "print(len(alg5_complete))"
   ]
  },
  {
   "cell_type": "code",
   "execution_count": null,
   "metadata": {},
   "outputs": [],
   "source": [
    "alg5_complete"
   ]
  },
  {
   "cell_type": "code",
   "execution_count": null,
   "metadata": {},
   "outputs": [],
   "source": [
    "alg5 = pauli_find_algebra([op2], [op2, op1], 50)\n",
    "len(alg5)"
   ]
  },
  {
   "cell_type": "code",
   "execution_count": null,
   "metadata": {},
   "outputs": [],
   "source": [
    "alg5"
   ]
  },
  {
   "cell_type": "code",
   "execution_count": null,
   "metadata": {},
   "outputs": [],
   "source": [
    "alg1 = pauli_find_algebra([op2], [op2, op1], 50)\n",
    "len(alg1)"
   ]
  },
  {
   "cell_type": "code",
   "execution_count": null,
   "metadata": {},
   "outputs": [],
   "source": [
    "alg1"
   ]
  },
  {
   "cell_type": "code",
   "execution_count": null,
   "metadata": {},
   "outputs": [],
   "source": [
    "# contruct H for n = 3, 4, ..., 7\n",
    "\n",
    "H =[]\n",
    "for n in range(3, 20):\n",
    "    # op1 = Z_1+...+Z_n, op2 = X_1X_2+...+X_nX_1\n",
    "    ops1, ops2 = [], []\n",
    "    for i in range(n):\n",
    "        new_op = [I for i in range(n)]\n",
    "        new_op[i] = Z\n",
    "        ops1.append(new_op)\n",
    "    for i in range(n):\n",
    "        new_op = [I for i in range(n)]\n",
    "        new_op[i] = X\n",
    "        new_op[(i+1)%n] = X\n",
    "        ops2.append(new_op)\n",
    "    op1 = Pauli(ops1[0])\n",
    "    op2 = Pauli(ops2[0])\n",
    "    for j in range(1, len(ops1)):\n",
    "        op1 += Pauli(ops1[j])\n",
    "    for j in range(1, len(ops2)):\n",
    "        op2 += Pauli(ops2[j])\n",
    "    H.append((op1, op2))"
   ]
  },
  {
   "cell_type": "code",
   "execution_count": null,
   "metadata": {},
   "outputs": [],
   "source": [
    "# finding algebra with Inv = Z_1Z_n\n",
    "\n",
    "print(\"Invariant = Z_1Z_n: (n:length:algebra)\")\n",
    "for n in range(13, 16):\n",
    "    op1 = H[n-3][0]\n",
    "    op2 = H[n-3][1]\n",
    "    alg = pauli_find_algebra([op1], [op1, op2], 50)\n",
    "    print(f\"n={n}: length={len(alg)}: algebra={alg}\")"
   ]
  },
  {
   "cell_type": "code",
   "execution_count": null,
   "metadata": {},
   "outputs": [],
   "source": [
    "# finding algebra with Inv = Z_1Z_n\n",
    "\n",
    "Inv = []\n",
    "for n in range(3, 13):\n",
    "    ops3 = [I for i in range(n)]\n",
    "    ops3[0], ops3[n-1] = Z, Z\n",
    "    op3 = Pauli(ops3)\n",
    "    Inv.append(op3)\n",
    "\n",
    "print(\"Invariant = Z_1Z_n: (n:length:algebra)\")\n",
    "for n in range(3, 13):\n",
    "    op1 = H[n-3][0]\n",
    "    op2 = H[n-3][1]\n",
    "    op3 = Inv[n-3]\n",
    "    alg = pauli_find_algebra([op1], [op1, op2], 30)\n",
    "    print(f\"n={n}: length={len(alg)}: algebra={alg}\")"
   ]
  },
  {
   "cell_type": "code",
   "execution_count": null,
   "metadata": {},
   "outputs": [],
   "source": [
    "op1 = Pauli([X, X, I, I])\n",
    "op2 = Pauli([X, I, X, I])\n",
    "op3 = Pauli([X, I, I, X])\n",
    "op4 = Pauli([I, X, X, I])\n",
    "op5 = Pauli([I, I, X, X])\n",
    "op5 = Pauli([Z, I, I, I]) + Pauli([I, Z, I, I]) + Pauli([I, I, Z, I]) + Pauli([I, I, I, Z])\n",
    "\n",
    "com = pauli_complete_algebra([op1, op2, op3, op4, op5], 200)\n",
    "len(com)\n",
    "\n",
    "fin = pauli_find_algebra([op5], [op1, op2, op3, op4, op5], 200)\n",
    "len(fin)"
   ]
  },
  {
   "cell_type": "code",
   "execution_count": null,
   "metadata": {},
   "outputs": [],
   "source": [
    "len(com)"
   ]
  },
  {
   "cell_type": "markdown",
   "metadata": {},
   "source": [
    "### Task: Testing $g_1$ algebra from paper (with timing)"
   ]
  },
  {
   "cell_type": "code",
   "execution_count": null,
   "metadata": {},
   "outputs": [],
   "source": [
    "op1 = Pauli([X, Y, I])\n",
    "op2 = Pauli([I, X, Y])\n",
    "op3 = Pauli([I, Z, Z])\n",
    "pau3 = pauli_complete_algebra([op1, op2, op3], 20)\n",
    "len(pau3)"
   ]
  },
  {
   "cell_type": "code",
   "execution_count": null,
   "metadata": {},
   "outputs": [],
   "source": [
    "pau3"
   ]
  },
  {
   "cell_type": "code",
   "execution_count": null,
   "metadata": {},
   "outputs": [],
   "source": [
    "op1 = Pauli([X, Y, I, I, I, I])\n",
    "op2 = Pauli([I, X, Y, I, I, I])\n",
    "op3 = Pauli([I, I, X, Y, I, I])\n",
    "op4 = Pauli([I, Z, X, I, I, I])\n",
    "op5 = Pauli([I, I, Y, Z, I, I])\n",
    "pau4_e = pauli_complete_algebra([op1, op2, op3, op4, op5], 20)\n",
    "len(pau4_e)"
   ]
  },
  {
   "cell_type": "code",
   "execution_count": null,
   "metadata": {},
   "outputs": [],
   "source": [
    "pau4_e"
   ]
  },
  {
   "cell_type": "code",
   "execution_count": null,
   "metadata": {},
   "outputs": [],
   "source": [
    "op1 = Pauli([X, Y, I, I, I, I])\n",
    "op2 = Pauli([I, X, Y, I, I, I])\n",
    "op3 = Pauli([I, I, X, Z, I, I])\n",
    "op4 = Pauli([I, I, Z, X, I, I])\n",
    "pau4_e = pauli_complete_algebra([op1, op2, op3], 10)\n",
    "len(pau4_e)"
   ]
  },
  {
   "cell_type": "code",
   "execution_count": null,
   "metadata": {},
   "outputs": [],
   "source": [
    "pau4_e"
   ]
  },
  {
   "cell_type": "code",
   "execution_count": null,
   "metadata": {},
   "outputs": [],
   "source": [
    "op1 = Pauli([X, Y, I, I]) + Pauli([I, I, X, Y])\n",
    "op2 = Pauli([I, X, Y, I]) + Pauli([Y, I, I, X])\n",
    "op3 = Pauli([Z, Z, I, I]) + Pauli([I, Z, Z, I]) + Pauli([I, I, Z, Z]) + Pauli([Z, I, I, Z])\n",
    "pau4 = pauli_complete_algebra([op1, op2, op3], 20)\n",
    "len(pau4)"
   ]
  },
  {
   "cell_type": "code",
   "execution_count": null,
   "metadata": {},
   "outputs": [],
   "source": [
    "pau4"
   ]
  },
  {
   "cell_type": "code",
   "execution_count": null,
   "metadata": {},
   "outputs": [],
   "source": [
    "op1 = Pauli([X, Y, I, I, I]) + Pauli([I, I, X, Y, I]) + Pauli([Y, I, I, I, X])\n",
    "op2 = Pauli([I, X, Y, I, I]) + Pauli([I, I, I, X, Y])\n",
    "op3 = Pauli([Z, Z, I, I, I]) + Pauli([I, Z, Z, I, I]) + Pauli([I, I, Z, Z, I]) + Pauli([I, I, I, Z, Z]) + Pauli([Z, I, I, I, Z])\n",
    "pau5 = pauli_complete_algebra([op1, op2, op3], 500)\n",
    "len(pau5)"
   ]
  },
  {
   "cell_type": "code",
   "execution_count": null,
   "metadata": {},
   "outputs": [],
   "source": [
    "comm(Pauli([X, Y, I, I]), Pauli([I, X, Y, I]))"
   ]
  },
  {
   "cell_type": "code",
   "execution_count": null,
   "metadata": {},
   "outputs": [],
   "source": [
    "comm(Pauli([X, Z, Y, I]), Pauli([I, Z, Z, I]))"
   ]
  },
  {
   "cell_type": "code",
   "execution_count": null,
   "metadata": {},
   "outputs": [],
   "source": [
    "n = 4\n",
    "g1_op1 = z_tensor(n, [0])\n",
    "for i in range(1, n):\n",
    "    g1_op1 += z_tensor(n, [i])\n",
    "g1_op2 = x_tensor(n, [0, 1])\n",
    "for i in range(1, n):\n",
    "    g1_op2 += x_tensor(n, [i, (i+1)%n])\n",
    "g1_op1, g1_op2"
   ]
  },
  {
   "cell_type": "code",
   "execution_count": null,
   "metadata": {},
   "outputs": [],
   "source": [
    "pauli_complete_algebra([g1_op1, g1_op2], 11)"
   ]
  },
  {
   "cell_type": "code",
   "execution_count": null,
   "metadata": {},
   "outputs": [],
   "source": [
    "len(pauli_complete_algebra([g1_op1, g1_op2], 20, anti=True))"
   ]
  },
  {
   "cell_type": "code",
   "execution_count": null,
   "metadata": {},
   "outputs": [],
   "source": [
    "pauli_complete_algebra([g1_op1, g1_op2], 20)"
   ]
  },
  {
   "cell_type": "code",
   "execution_count": null,
   "metadata": {},
   "outputs": [],
   "source": [
    "pauli_complete_algebra([g1_op1, g1_op2], 20, anti=True)"
   ]
  },
  {
   "cell_type": "code",
   "execution_count": null,
   "metadata": {},
   "outputs": [],
   "source": [
    "# set up initial pair of operators for n (> 2) qubits\n",
    "n = 3\n",
    "g1_op1 = z_tensor(n, [0])\n",
    "for i in range(1, n):\n",
    "    g1_op1 += z_tensor(n, [i])\n",
    "g1_op2 = x_tensor(n, [0, 1])\n",
    "for i in range(1, n):\n",
    "    g1_op2 += x_tensor(n, [i, (i+1)%n])\n",
    "g1_op1, g1_op2"
   ]
  },
  {
   "cell_type": "code",
   "execution_count": null,
   "metadata": {},
   "outputs": [],
   "source": [
    "n=6\n",
    "g1_op1 = z_tensor(n, [0])\n",
    "for i in range(1, n):\n",
    "    g1_op1 += z_tensor(n, [i])\n",
    "g1_op2 = x_tensor(n, [0, 1])\n",
    "for i in range(1, n):\n",
    "    g1_op2 += x_tensor(n, [i, (i+1)%n])\n",
    "g1_6 = pauli_complete_algebra([g1_op1, g1_op2], 3*n-1)\n",
    "len(g1_6)"
   ]
  },
  {
   "cell_type": "code",
   "execution_count": null,
   "metadata": {},
   "outputs": [],
   "source": [
    "n=10\n",
    "g1_op1 = z_tensor(n, [0])\n",
    "for i in range(1, n):\n",
    "    g1_op1 += z_tensor(n, [i])\n",
    "g1_op2 = x_tensor(n, [0, 1])\n",
    "for i in range(1, n):\n",
    "    g1_op2 += x_tensor(n, [i, (i+1)%n])\n",
    "g1_10 = pauli_complete_algebra([g1_op1, g1_op2], 3*n-1)\n",
    "len(g1_10)"
   ]
  },
  {
   "cell_type": "code",
   "execution_count": null,
   "metadata": {},
   "outputs": [],
   "source": [
    "# time for various n\n",
    "\n",
    "for n in [3, 4, 5, 6, 10]:\n",
    "    g1_op1 = z_tensor(n, [0])\n",
    "    for i in range(1, n):\n",
    "        g1_op1 += z_tensor(n, [i])\n",
    "    g1_op2 = x_tensor(n, [0, 1])\n",
    "    for i in range(1, n):\n",
    "        g1_op2 += x_tensor(n, [i, (i+1)%n])\n",
    "    print(f\"For n={n}:\")\n",
    "    %timeit pauli_complete_algebra([g1_op1, g1_op2], 3*n-1)"
   ]
  },
  {
   "cell_type": "markdown",
   "metadata": {},
   "source": [
    "### Task: given A, find B such that [A, B] = 0"
   ]
  },
  {
   "cell_type": "code",
   "execution_count": 1,
   "metadata": {},
   "outputs": [],
   "source": [
    "def find_comm(n):\n",
    "    # random nxn matrix\n",
    "    Re = np.random.randn(n, n)\n",
    "    Im = np.random.randn(n, n)\n",
    "    A = Re + 1.j * Im\n",
    "\n",
    "    # find eigenvectors of A tensor A^-T with eigenvalue 1 (some error when finding evals=1 so -1 and allow 1e-6 error about 0)\n",
    "    L = np.kron(A, np.linalg.inv(A).T)\n",
    "    l, V = np.linalg.eig(L)\n",
    "    l -= 1\n",
    "    l = l.real**2 + l.imag**2\n",
    "    ii = (l<1e-6)\n",
    "    v = V[:, ii]\n",
    "\n",
    "    # construct B by reshape eigenvectors\n",
    "    for vec in v.T:\n",
    "        B = vec.reshape(n, n)\n",
    "        # raise error if AB-BA is not 0\n",
    "        C = commutator(B, A)\n",
    "        assert np.allclose(C, 0)\n",
    "\n",
    "    # return the number of Bs found\n",
    "\n",
    "    return v.shape[1]"
   ]
  },
  {
   "cell_type": "code",
   "execution_count": 2,
   "metadata": {},
   "outputs": [
    {
     "ename": "NameError",
     "evalue": "name 'np' is not defined",
     "output_type": "error",
     "traceback": [
      "\u001b[1;31m---------------------------------------------------------------------------\u001b[0m",
      "\u001b[1;31mNameError\u001b[0m                                 Traceback (most recent call last)",
      "Cell \u001b[1;32mIn[2], line 1\u001b[0m\n\u001b[1;32m----> 1\u001b[0m [find_comm(i) \u001b[38;5;28;01mfor\u001b[39;00m i \u001b[38;5;129;01min\u001b[39;00m \u001b[38;5;28mrange\u001b[39m(\u001b[38;5;241m1\u001b[39m, \u001b[38;5;241m26\u001b[39m)]\n",
      "Cell \u001b[1;32mIn[2], line 1\u001b[0m, in \u001b[0;36m<listcomp>\u001b[1;34m(.0)\u001b[0m\n\u001b[1;32m----> 1\u001b[0m [\u001b[43mfind_comm\u001b[49m\u001b[43m(\u001b[49m\u001b[43mi\u001b[49m\u001b[43m)\u001b[49m \u001b[38;5;28;01mfor\u001b[39;00m i \u001b[38;5;129;01min\u001b[39;00m \u001b[38;5;28mrange\u001b[39m(\u001b[38;5;241m1\u001b[39m, \u001b[38;5;241m26\u001b[39m)]\n",
      "Cell \u001b[1;32mIn[1], line 3\u001b[0m, in \u001b[0;36mfind_comm\u001b[1;34m(n)\u001b[0m\n\u001b[0;32m      1\u001b[0m \u001b[38;5;28;01mdef\u001b[39;00m \u001b[38;5;21mfind_comm\u001b[39m(n):\n\u001b[0;32m      2\u001b[0m     \u001b[38;5;66;03m# random nxn matrix\u001b[39;00m\n\u001b[1;32m----> 3\u001b[0m     Re \u001b[38;5;241m=\u001b[39m \u001b[43mnp\u001b[49m\u001b[38;5;241m.\u001b[39mrandom\u001b[38;5;241m.\u001b[39mrandn(n, n)\n\u001b[0;32m      4\u001b[0m     Im \u001b[38;5;241m=\u001b[39m np\u001b[38;5;241m.\u001b[39mrandom\u001b[38;5;241m.\u001b[39mrandn(n, n)\n\u001b[0;32m      5\u001b[0m     A \u001b[38;5;241m=\u001b[39m Re \u001b[38;5;241m+\u001b[39m \u001b[38;5;241m1.\u001b[39mj \u001b[38;5;241m*\u001b[39m Im\n",
      "\u001b[1;31mNameError\u001b[0m: name 'np' is not defined"
     ]
    }
   ],
   "source": [
    "[find_comm(i) for i in range(1, 26)]"
   ]
  },
  {
   "cell_type": "code",
   "execution_count": null,
   "metadata": {},
   "outputs": [],
   "source": [
    "find_comm(2)"
   ]
  },
  {
   "cell_type": "code",
   "execution_count": null,
   "metadata": {},
   "outputs": [],
   "source": []
  },
  {
   "cell_type": "markdown",
   "metadata": {},
   "source": [
    "### Task: given A_n, find B such that [A_n, B] = 0 for all n"
   ]
  },
  {
   "cell_type": "code",
   "execution_count": null,
   "metadata": {},
   "outputs": [],
   "source": [
    "# helppp not possible..."
   ]
  },
  {
   "cell_type": "markdown",
   "metadata": {},
   "source": [
    "### Task: decompose a given operator into a sum of Pauli operators (+using Pauli class??)"
   ]
  },
  {
   "cell_type": "code",
   "execution_count": null,
   "metadata": {},
   "outputs": [],
   "source": [
    "decomp = decompose(A)\n",
    "decomp"
   ]
  },
  {
   "cell_type": "code",
   "execution_count": null,
   "metadata": {},
   "outputs": [],
   "source": [
    "np.allclose(decomp[0][0] * I + decomp[0][1] * X + decomp[0][2] * Y + decomp[0][3] * Z, A)"
   ]
  },
  {
   "cell_type": "code",
   "execution_count": null,
   "metadata": {},
   "outputs": [],
   "source": [
    "test_decomp = tensor(B, 3, 0, 1)\n",
    "decomp1 = decompose(test_decomp)"
   ]
  },
  {
   "cell_type": "code",
   "execution_count": null,
   "metadata": {},
   "outputs": [],
   "source": [
    "tested_decomp = np.zeros(test_decomp.shape)\n",
    "for i in range(test_decomp.shape[0]**2):\n",
    "    tested_decomp = tested_decomp + decomp1[0][i] * decomp1[1][i]\n",
    "np.allclose(tested_decomp, test_decomp)"
   ]
  }
 ],
 "metadata": {
  "kernelspec": {
   "display_name": "lie_venv",
   "language": "python",
   "name": "python3"
  },
  "language_info": {
   "codemirror_mode": {
    "name": "ipython",
    "version": 3
   },
   "file_extension": ".py",
   "mimetype": "text/x-python",
   "name": "python",
   "nbconvert_exporter": "python",
   "pygments_lexer": "ipython3",
   "version": "3.9.6"
  },
  "orig_nbformat": 4
 },
 "nbformat": 4,
 "nbformat_minor": 2
}

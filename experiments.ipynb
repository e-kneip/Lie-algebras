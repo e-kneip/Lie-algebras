{
 "cells": [
  {
   "cell_type": "markdown",
   "metadata": {},
   "source": [
    "## Experiments"
   ]
  },
  {
   "cell_type": "code",
   "execution_count": 1,
   "metadata": {},
   "outputs": [],
   "source": [
    "from Lie_algebras import *\n",
    "import numpy as np"
   ]
  },
  {
   "cell_type": "markdown",
   "metadata": {},
   "source": [
    "### Task: check find algrebra smaller than complete"
   ]
  },
  {
   "cell_type": "code",
   "execution_count": 26,
   "metadata": {},
   "outputs": [],
   "source": [
    "# define operators for H: Z1+Z2+Z3, X1X2+X2X3+X3X1\n",
    "n = 3\n",
    "ops = [sum([tensor(Z, n, i) for i in range(n)]), sum([tensor(X, n, i)@tensor(X, n, (i+1)%n) for i in range(n)])]\n",
    "\n",
    "# define opertaor for I: Z1Z3\n",
    "t = [tensor(Z, 3, 0)@tensor(Z, 3, 2)]"
   ]
  },
  {
   "cell_type": "code",
   "execution_count": 27,
   "metadata": {},
   "outputs": [
    {
     "name": "stdout",
     "output_type": "stream",
     "text": [
      "calg length = 18; falg length = 4\n"
     ]
    }
   ],
   "source": [
    "falg = find_algebra(t, ops, 20)\n",
    "calg = complete_algebra(ops + t, 20)\n",
    "print(f\"calg length = {len(calg)}; falg length = {len(falg)}\")"
   ]
  },
  {
   "cell_type": "code",
   "execution_count": null,
   "metadata": {},
   "outputs": [],
   "source": []
  },
  {
   "cell_type": "markdown",
   "metadata": {},
   "source": [
    "### Task: given A, find B such that [A, B] = 0"
   ]
  },
  {
   "cell_type": "code",
   "execution_count": 53,
   "metadata": {},
   "outputs": [],
   "source": [
    "def find_comm(n):\n",
    "    # random nxn matrix\n",
    "    Re = np.random.randn(n, n)\n",
    "    Im = np.random.randn(n, n)\n",
    "    A = Re + 1.j * Im\n",
    "\n",
    "    # find eigenvectors of A tensor A^-T with eigenvalue 1 (some error when finding evals=1 so -1 and allow 1e-6 error about 0)\n",
    "    L = np.kron(A, np.linalg.inv(A).T)\n",
    "    l, V = np.linalg.eig(L)\n",
    "    l -= 1\n",
    "    l = l.real**2 + l.imag**2\n",
    "    ii = (l<1e-6)\n",
    "    v = V[:, ii]\n",
    "\n",
    "    # construct B by reshape eigenvectors\n",
    "    for vec in v.T:\n",
    "        B = vec.reshape(n, n)\n",
    "        # raise error if AB-BA is not 0\n",
    "        C = comm(B, A)\n",
    "        assert np.allclose(C, 0)\n",
    "\n",
    "    # return the number of Bs found\n",
    "\n",
    "    return v.shape[1]"
   ]
  },
  {
   "cell_type": "code",
   "execution_count": 46,
   "metadata": {},
   "outputs": [
    {
     "data": {
      "text/plain": [
       "[1,\n",
       " 2,\n",
       " 3,\n",
       " 4,\n",
       " 5,\n",
       " 6,\n",
       " 7,\n",
       " 8,\n",
       " 9,\n",
       " 10,\n",
       " 11,\n",
       " 12,\n",
       " 13,\n",
       " 14,\n",
       " 15,\n",
       " 16,\n",
       " 17,\n",
       " 18,\n",
       " 19,\n",
       " 20,\n",
       " 21,\n",
       " 22,\n",
       " 23,\n",
       " 24,\n",
       " 25]"
      ]
     },
     "execution_count": 46,
     "metadata": {},
     "output_type": "execute_result"
    }
   ],
   "source": [
    "[find_comm(i) for i in range(1, 26)]"
   ]
  },
  {
   "cell_type": "code",
   "execution_count": 52,
   "metadata": {},
   "outputs": [
    {
     "name": "stdout",
     "output_type": "stream",
     "text": [
      "[[-0.36960898-0.53607787j  0.11445961-0.84934057j]\n",
      " [ 0.93584564-0.85089595j -0.44441963+0.39588458j]]\n"
     ]
    },
    {
     "data": {
      "text/plain": [
       "2"
      ]
     },
     "execution_count": 52,
     "metadata": {},
     "output_type": "execute_result"
    }
   ],
   "source": [
    "find_comm(2)"
   ]
  },
  {
   "cell_type": "code",
   "execution_count": null,
   "metadata": {},
   "outputs": [],
   "source": []
  },
  {
   "cell_type": "markdown",
   "metadata": {},
   "source": [
    "### Task: given A_n, find B such that [A_n, B] = 0 for all n"
   ]
  },
  {
   "cell_type": "code",
   "execution_count": 1,
   "metadata": {},
   "outputs": [],
   "source": [
    "# helppp not possible..."
   ]
  },
  {
   "cell_type": "markdown",
   "metadata": {},
   "source": [
    "### Task: decompose a given operator into a sum of Pauli operators (+using Pauli class??)"
   ]
  },
  {
   "cell_type": "code",
   "execution_count": 3,
   "metadata": {},
   "outputs": [
    {
     "data": {
      "text/plain": [
       "([0.5, 0.5, -0.5j, 0.5],\n",
       " [array([[1., 0.],\n",
       "         [0., 1.]]),\n",
       "  array([[0, 1],\n",
       "         [1, 0]]),\n",
       "  array([[ 0.+0.j, -0.-1.j],\n",
       "         [ 0.+1.j,  0.+0.j]]),\n",
       "  array([[ 1,  0],\n",
       "         [ 0, -1]])])"
      ]
     },
     "execution_count": 3,
     "metadata": {},
     "output_type": "execute_result"
    }
   ],
   "source": [
    "decomp = decompose(A)\n",
    "decomp"
   ]
  },
  {
   "cell_type": "code",
   "execution_count": 4,
   "metadata": {},
   "outputs": [
    {
     "data": {
      "text/plain": [
       "True"
      ]
     },
     "execution_count": 4,
     "metadata": {},
     "output_type": "execute_result"
    }
   ],
   "source": [
    "np.allclose(decomp[0][0] * I + decomp[0][1] * X + decomp[0][2] * Y + decomp[0][3] * Z, A)"
   ]
  },
  {
   "cell_type": "code",
   "execution_count": 5,
   "metadata": {},
   "outputs": [],
   "source": [
    "test_decomp = tensor(B, 3, 0, 1)\n",
    "decomp1 = decompose(test_decomp)"
   ]
  },
  {
   "cell_type": "code",
   "execution_count": 6,
   "metadata": {},
   "outputs": [
    {
     "data": {
      "text/plain": [
       "True"
      ]
     },
     "execution_count": 6,
     "metadata": {},
     "output_type": "execute_result"
    }
   ],
   "source": [
    "tested_decomp = np.zeros(test_decomp.shape)\n",
    "for i in range(test_decomp.shape[0]**2):\n",
    "    tested_decomp = tested_decomp + decomp1[0][i] * decomp1[1][i]\n",
    "np.allclose(tested_decomp, test_decomp)"
   ]
  }
 ],
 "metadata": {
  "kernelspec": {
   "display_name": "lie_venv",
   "language": "python",
   "name": "python3"
  },
  "language_info": {
   "codemirror_mode": {
    "name": "ipython",
    "version": 3
   },
   "file_extension": ".py",
   "mimetype": "text/x-python",
   "name": "python",
   "nbconvert_exporter": "python",
   "pygments_lexer": "ipython3",
   "version": "3.10.13"
  },
  "orig_nbformat": 4
 },
 "nbformat": 4,
 "nbformat_minor": 2
}

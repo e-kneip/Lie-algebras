{
 "cells": [
  {
   "cell_type": "markdown",
   "metadata": {},
   "source": [
    "## Constructing Lie Algebras Examples"
   ]
  },
  {
   "cell_type": "code",
   "execution_count": 1,
   "metadata": {},
   "outputs": [],
   "source": [
    "from Lie_algebras import *\n",
    "import numpy as np"
   ]
  },
  {
   "cell_type": "code",
   "execution_count": 2,
   "metadata": {},
   "outputs": [],
   "source": [
    "A = np.array([[1, 0], [1, 0]])\n",
    "B = np.array([[2, 0], [1, 1]])"
   ]
  },
  {
   "cell_type": "code",
   "execution_count": 3,
   "metadata": {},
   "outputs": [
    {
     "data": {
      "text/plain": [
       "[array([[0, 1],\n",
       "        [1, 0]]),\n",
       " array([[1., 0.],\n",
       "        [0., 1.]]),\n",
       " array([[ 1,  0],\n",
       "        [ 0, -1]]),\n",
       " array([[ 0, -2],\n",
       "        [ 2,  0]])]"
      ]
     },
     "execution_count": 3,
     "metadata": {},
     "output_type": "execute_result"
    }
   ],
   "source": [
    "complete_algebra([X, I, Z], 5)"
   ]
  },
  {
   "cell_type": "code",
   "execution_count": 4,
   "metadata": {},
   "outputs": [
    {
     "data": {
      "text/plain": [
       "[array([[0, 1],\n",
       "        [1, 0]]),\n",
       " array([[1., 0.],\n",
       "        [0., 1.]]),\n",
       " array([[ 0, -2],\n",
       "        [ 2,  0]]),\n",
       " array([[ 1, -1],\n",
       "        [ 1, -1]])]"
      ]
     },
     "execution_count": 4,
     "metadata": {},
     "output_type": "execute_result"
    }
   ],
   "source": [
    "find_algebra([X, I], [Z, A, B], 5)"
   ]
  },
  {
   "cell_type": "code",
   "execution_count": 5,
   "metadata": {},
   "outputs": [
    {
     "data": {
      "text/plain": [
       "[array([[0, 1],\n",
       "        [1, 0]]),\n",
       " array([[1., 0.],\n",
       "        [0., 1.]]),\n",
       " array([[ 0, -2],\n",
       "        [ 2,  0]]),\n",
       " array([[ 1, -1],\n",
       "        [ 1, -1]])]"
      ]
     },
     "execution_count": 5,
     "metadata": {},
     "output_type": "execute_result"
    }
   ],
   "source": [
    "complete_algebra([X, I, comm(X, Z), comm(X, A)], 10)"
   ]
  },
  {
   "cell_type": "code",
   "execution_count": 6,
   "metadata": {},
   "outputs": [
    {
     "data": {
      "text/plain": [
       "True"
      ]
     },
     "execution_count": 6,
     "metadata": {},
     "output_type": "execute_result"
    }
   ],
   "source": [
    "complete_algebra([X, I], 10) == [X, I]"
   ]
  },
  {
   "cell_type": "code",
   "execution_count": null,
   "metadata": {},
   "outputs": [],
   "source": []
  },
  {
   "cell_type": "markdown",
   "metadata": {},
   "source": [
    "### Tests from paper"
   ]
  },
  {
   "cell_type": "markdown",
   "metadata": {},
   "source": [
    "##### 1. Lie Algebra g_1"
   ]
  },
  {
   "cell_type": "code",
   "execution_count": 24,
   "metadata": {},
   "outputs": [],
   "source": [
    "n = 3\n",
    "ops = [sum([tensor(Z, n, i) for i in range(n)]), sum([tensor(X, n, i)@tensor(X, n, (i+1)%n) for i in range(n)])]"
   ]
  },
  {
   "cell_type": "code",
   "execution_count": 8,
   "metadata": {},
   "outputs": [
    {
     "data": {
      "text/plain": [
       "[array([[ 3.,  0.,  0.,  0.,  0.,  0.,  0.,  0.],\n",
       "        [ 0.,  1.,  0.,  0.,  0.,  0.,  0.,  0.],\n",
       "        [ 0.,  0.,  1.,  0.,  0.,  0.,  0.,  0.],\n",
       "        [ 0.,  0.,  0., -1.,  0.,  0.,  0.,  0.],\n",
       "        [ 0.,  0.,  0.,  0.,  1.,  0.,  0.,  0.],\n",
       "        [ 0.,  0.,  0.,  0.,  0., -1.,  0.,  0.],\n",
       "        [ 0.,  0.,  0.,  0.,  0.,  0., -1.,  0.],\n",
       "        [ 0.,  0.,  0.,  0.,  0.,  0.,  0., -3.]]),\n",
       " array([[0., 0., 0., 1., 0., 1., 1., 0.],\n",
       "        [0., 0., 1., 0., 1., 0., 0., 1.],\n",
       "        [0., 1., 0., 0., 1., 0., 0., 1.],\n",
       "        [1., 0., 0., 0., 0., 1., 1., 0.],\n",
       "        [0., 1., 1., 0., 0., 0., 0., 1.],\n",
       "        [1., 0., 0., 1., 0., 0., 1., 0.],\n",
       "        [1., 0., 0., 1., 0., 1., 0., 0.],\n",
       "        [0., 1., 1., 0., 1., 0., 0., 0.]])]"
      ]
     },
     "execution_count": 8,
     "metadata": {},
     "output_type": "execute_result"
    }
   ],
   "source": [
    "ops"
   ]
  },
  {
   "cell_type": "code",
   "execution_count": 9,
   "metadata": {},
   "outputs": [
    {
     "data": {
      "text/plain": [
       "8"
      ]
     },
     "execution_count": 9,
     "metadata": {},
     "output_type": "execute_result"
    }
   ],
   "source": [
    "alg = complete_algebra(ops, 9)\n",
    "len(alg)"
   ]
  },
  {
   "cell_type": "code",
   "execution_count": 10,
   "metadata": {},
   "outputs": [],
   "source": [
    "# answers\n",
    "s_1 = sum([tensor(Z, n, i) for i in range(n)])\n",
    "s_20 = sum([tensor(X, n, i)@tensor(X, n, i+1) for i in range(n-1)]) + tensor(X, n, n-1)@tensor(X, n, 0)\n",
    "s_30 = sum([tensor(Y, n, i)@tensor(Y, n, i+1) for i in range(n-1)]) + tensor(Y, n, n-1)@tensor(Y, n, 0)\n",
    "s_5 = s_1@tensor(Z, n, 0, n-1)\n",
    "\n",
    "# n=3 case only:\n",
    "s_21 = tensor(X, 3, 0)@tensor(Z, 3, 1)@tensor(X, 3, 2) + tensor(X, 3, 1)@tensor(Z, 3, 2)@tensor(X, 3, 0) + tensor(X, 3, 2)@tensor(Z, 3, 0)@tensor(X, 3, 1)\n",
    "s_31 = tensor(Y, 3, 0)@tensor(Z, 3, 1)@tensor(Y, 3, 2) + tensor(Y, 3, 1)@tensor(Z, 3, 2)@tensor(Y, 3, 0) + tensor(Y, 3, 2)@tensor(Z, 3, 0)@tensor(Y, 3, 1)\n",
    "s_40 = tensor(X, 3, 0)@tensor(Y, 3, 1) + tensor(Y, 3, 0)@tensor(X, 3, 1) + tensor(X, 3, 1)@tensor(Y, 3, 2) + tensor(Y, 3, 1)@tensor(X, 3, 2) + tensor(X, 3, 2)@tensor(Y, 3, 0) + tensor(Y, 3, 2)@tensor(X, 3, 0)\n",
    "s_41 = tensor(X, 3, 0)@tensor(Z, 3, 1)@tensor(Y, 3, 2) + tensor(Y, 3, 0)@tensor(Z, 3, 1)@tensor(X, 3, 2) + tensor(X, 3, 1)@tensor(Z, 3, 2)@tensor(Y, 3, 0) + tensor(Y, 3, 1)@tensor(Z, 3, 2)@tensor(X, 3, 0) + tensor(X, 3, 2)@tensor(Z, 3, 0)@tensor(Y, 3, 1) + tensor(Y, 3, 2)@tensor(Z, 3, 0)@tensor(X, 3, 1)"
   ]
  },
  {
   "cell_type": "code",
   "execution_count": 11,
   "metadata": {},
   "outputs": [
    {
     "data": {
      "text/plain": [
       "[False, False, False, False, False, False, False, False]"
      ]
     },
     "execution_count": 11,
     "metadata": {},
     "output_type": "execute_result"
    }
   ],
   "source": [
    "# can express any of the solutions in terms of alg\n",
    "[lin_ind(alg + [i]) for i in [s_1, s_20, s_21, s_20, s_31, s_40, s_41, s_5]]"
   ]
  },
  {
   "cell_type": "code",
   "execution_count": 12,
   "metadata": {},
   "outputs": [
    {
     "data": {
      "text/plain": [
       "[False, False, False, False, False, False, False, False]"
      ]
     },
     "execution_count": 12,
     "metadata": {},
     "output_type": "execute_result"
    }
   ],
   "source": [
    "# can express any of alg in terms of the solutions\n",
    "[lin_ind([s_1, s_20, s_21, s_20, s_31, s_40, s_41, s_5]+[i]) for i in alg]"
   ]
  },
  {
   "cell_type": "code",
   "execution_count": 13,
   "metadata": {},
   "outputs": [
    {
     "data": {
      "text/plain": [
       "array([[ True,  True,  True,  True,  True,  True,  True,  True],\n",
       "       [ True,  True,  True,  True,  True,  True,  True,  True],\n",
       "       [ True,  True,  True,  True,  True,  True,  True,  True],\n",
       "       [ True,  True,  True,  True,  True,  True,  True,  True],\n",
       "       [ True,  True,  True,  True,  True,  True,  True,  True],\n",
       "       [ True,  True,  True,  True,  True,  True,  True,  True],\n",
       "       [ True,  True,  True,  True,  True,  True,  True,  True],\n",
       "       [ True,  True,  True,  True,  True,  True,  True,  True]])"
      ]
     },
     "execution_count": 13,
     "metadata": {},
     "output_type": "execute_result"
    }
   ],
   "source": [
    "# example of the linear relationship between alg and solutions\n",
    "alg[2] == (2.j*s_40).real"
   ]
  },
  {
   "cell_type": "markdown",
   "metadata": {},
   "source": [
    "##### 3. Lie Algebra g_3"
   ]
  },
  {
   "cell_type": "code",
   "execution_count": 14,
   "metadata": {},
   "outputs": [
    {
     "data": {
      "text/plain": [
       "30"
      ]
     },
     "execution_count": 14,
     "metadata": {},
     "output_type": "execute_result"
    }
   ],
   "source": [
    "ops2 = [tensor(Z, 3, 0), tensor(Z, 3, 1), tensor(Z, 3, 2), tensor(X, 3, 0)@tensor(X, 3, 1), tensor(X, 3, 1)@tensor(X, 3, 2), tensor(X, 3, 2)@tensor(X, 3, 0)]\n",
    "4*n**2 - 2*n"
   ]
  },
  {
   "cell_type": "code",
   "execution_count": 15,
   "metadata": {},
   "outputs": [
    {
     "data": {
      "text/plain": [
       "30"
      ]
     },
     "execution_count": 15,
     "metadata": {},
     "output_type": "execute_result"
    }
   ],
   "source": [
    "alg2 = complete_algebra(ops2, 35)\n",
    "len(alg2)"
   ]
  },
  {
   "cell_type": "code",
   "execution_count": null,
   "metadata": {},
   "outputs": [],
   "source": []
  },
  {
   "cell_type": "markdown",
   "metadata": {},
   "source": [
    "### Limits??"
   ]
  },
  {
   "cell_type": "code",
   "execution_count": 16,
   "metadata": {},
   "outputs": [
    {
     "data": {
      "text/plain": [
       "(1024, 1024)"
      ]
     },
     "execution_count": 16,
     "metadata": {},
     "output_type": "execute_result"
    }
   ],
   "source": [
    "dim = 10\n",
    "l_op1 = tensor(X, dim, 0, 3)\n",
    "l_op2 = tensor(Z, dim, 0, 2)\n",
    "l_op3 = tensor(Y, dim, 0)\n",
    "l_op1.shape"
   ]
  },
  {
   "cell_type": "code",
   "execution_count": 17,
   "metadata": {},
   "outputs": [
    {
     "data": {
      "text/plain": [
       "6"
      ]
     },
     "execution_count": 17,
     "metadata": {},
     "output_type": "execute_result"
    }
   ],
   "source": [
    "len(complete_algebra([l_op1+l_op2, l_op2, l_op3 + l_op2], 10))"
   ]
  },
  {
   "cell_type": "code",
   "execution_count": null,
   "metadata": {},
   "outputs": [],
   "source": []
  },
  {
   "cell_type": "markdown",
   "metadata": {},
   "source": [
    "## Experiments for meeting"
   ]
  },
  {
   "cell_type": "markdown",
   "metadata": {},
   "source": [
    "### Task: check find algrebra smaller than complete"
   ]
  },
  {
   "cell_type": "code",
   "execution_count": 26,
   "metadata": {},
   "outputs": [],
   "source": [
    "# define operators for H: Z1+Z2+Z3, X1X2+X2X3+X3X1\n",
    "n = 3\n",
    "ops = [sum([tensor(Z, n, i) for i in range(n)]), sum([tensor(X, n, i)@tensor(X, n, (i+1)%n) for i in range(n)])]\n",
    "\n",
    "# define opertaor for I: Z1Z3\n",
    "t = [tensor(Z, 3, 0)@tensor(Z, 3, 2)]"
   ]
  },
  {
   "cell_type": "code",
   "execution_count": 27,
   "metadata": {},
   "outputs": [
    {
     "name": "stdout",
     "output_type": "stream",
     "text": [
      "calg length = 18; falg length = 4\n"
     ]
    }
   ],
   "source": [
    "falg = find_algebra(t, ops, 20)\n",
    "calg = complete_algebra(ops + t, 20)\n",
    "print(f\"calg length = {len(calg)}; falg length = {len(falg)}\")"
   ]
  },
  {
   "cell_type": "code",
   "execution_count": null,
   "metadata": {},
   "outputs": [],
   "source": []
  },
  {
   "cell_type": "markdown",
   "metadata": {},
   "source": [
    "### Task: given A, find B such that [A, B] = 0"
   ]
  },
  {
   "cell_type": "code",
   "execution_count": 53,
   "metadata": {},
   "outputs": [],
   "source": [
    "def find_comm(n):\n",
    "    # random nxn matrix\n",
    "    Re = np.random.randn(n, n)\n",
    "    Im = np.random.randn(n, n)\n",
    "    A = Re + 1.j * Im\n",
    "\n",
    "    # find eigenvectors of A tensor A^-T with eigenvalue 1 (some error when finding evals=1 so -1 and allow 1e-6 error about 0)\n",
    "    L = np.kron(A, np.linalg.inv(A).T)\n",
    "    l, V = np.linalg.eig(L)\n",
    "    l -= 1\n",
    "    l = l.real**2 + l.imag**2\n",
    "    ii = (l<1e-6)\n",
    "    v = V[:, ii]\n",
    "\n",
    "    # construct B by reshape eigenvectors\n",
    "    for vec in v.T:\n",
    "        B = vec.reshape(n, n)\n",
    "        # raise error if AB-BA is not 0\n",
    "        C = comm(B, A)\n",
    "        assert np.allclose(C, 0)\n",
    "\n",
    "    # return the number of Bs found\n",
    "\n",
    "    return v.shape[1]"
   ]
  },
  {
   "cell_type": "code",
   "execution_count": 46,
   "metadata": {},
   "outputs": [
    {
     "data": {
      "text/plain": [
       "[1,\n",
       " 2,\n",
       " 3,\n",
       " 4,\n",
       " 5,\n",
       " 6,\n",
       " 7,\n",
       " 8,\n",
       " 9,\n",
       " 10,\n",
       " 11,\n",
       " 12,\n",
       " 13,\n",
       " 14,\n",
       " 15,\n",
       " 16,\n",
       " 17,\n",
       " 18,\n",
       " 19,\n",
       " 20,\n",
       " 21,\n",
       " 22,\n",
       " 23,\n",
       " 24,\n",
       " 25]"
      ]
     },
     "execution_count": 46,
     "metadata": {},
     "output_type": "execute_result"
    }
   ],
   "source": [
    "[find_comm(i) for i in range(1, 26)]"
   ]
  },
  {
   "cell_type": "code",
   "execution_count": 52,
   "metadata": {},
   "outputs": [
    {
     "name": "stdout",
     "output_type": "stream",
     "text": [
      "[[-0.36960898-0.53607787j  0.11445961-0.84934057j]\n",
      " [ 0.93584564-0.85089595j -0.44441963+0.39588458j]]\n"
     ]
    },
    {
     "data": {
      "text/plain": [
       "2"
      ]
     },
     "execution_count": 52,
     "metadata": {},
     "output_type": "execute_result"
    }
   ],
   "source": [
    "find_comm(2)"
   ]
  },
  {
   "cell_type": "code",
   "execution_count": null,
   "metadata": {},
   "outputs": [],
   "source": []
  },
  {
   "cell_type": "markdown",
   "metadata": {},
   "source": [
    "### Task: given A_n, find B such that [A_n, B] = 0 for all n"
   ]
  },
  {
   "cell_type": "code",
   "execution_count": null,
   "metadata": {},
   "outputs": [],
   "source": []
  },
  {
   "cell_type": "markdown",
   "metadata": {},
   "source": [
    "### Task: decompose a given operator into a sum of Pauli operators"
   ]
  },
  {
   "cell_type": "code",
   "execution_count": 3,
   "metadata": {},
   "outputs": [
    {
     "data": {
      "text/plain": [
       "([0.5, 0.5, -0.5j, 0.5],\n",
       " [array([[1., 0.],\n",
       "         [0., 1.]]),\n",
       "  array([[0, 1],\n",
       "         [1, 0]]),\n",
       "  array([[ 0.+0.j, -0.-1.j],\n",
       "         [ 0.+1.j,  0.+0.j]]),\n",
       "  array([[ 1,  0],\n",
       "         [ 0, -1]])])"
      ]
     },
     "execution_count": 3,
     "metadata": {},
     "output_type": "execute_result"
    }
   ],
   "source": [
    "decomp = decompose(A)\n",
    "decomp"
   ]
  },
  {
   "cell_type": "code",
   "execution_count": 4,
   "metadata": {},
   "outputs": [
    {
     "data": {
      "text/plain": [
       "True"
      ]
     },
     "execution_count": 4,
     "metadata": {},
     "output_type": "execute_result"
    }
   ],
   "source": [
    "np.allclose(decomp[0][0] * I + decomp[0][1] * X + decomp[0][2] * Y + decomp[0][3] * Z, A)"
   ]
  },
  {
   "cell_type": "code",
   "execution_count": 5,
   "metadata": {},
   "outputs": [],
   "source": [
    "test_decomp = tensor(B, 3, 0, 1)\n",
    "decomp1 = decompose(test_decomp)"
   ]
  },
  {
   "cell_type": "code",
   "execution_count": 6,
   "metadata": {},
   "outputs": [
    {
     "data": {
      "text/plain": [
       "True"
      ]
     },
     "execution_count": 6,
     "metadata": {},
     "output_type": "execute_result"
    }
   ],
   "source": [
    "tested_decomp = np.zeros(test_decomp.shape)\n",
    "for i in range(test_decomp.shape[0]**2):\n",
    "    tested_decomp = tested_decomp + decomp1[0][i] * decomp1[1][i]\n",
    "np.allclose(tested_decomp, test_decomp)"
   ]
  },
  {
   "cell_type": "markdown",
   "metadata": {},
   "source": [
    "### Task: Pauli class demonstration"
   ]
  },
  {
   "cell_type": "code",
   "execution_count": 1,
   "metadata": {},
   "outputs": [],
   "source": [
    "import numpy as np\n",
    "from Lie_algebras import *"
   ]
  },
  {
   "cell_type": "code",
   "execution_count": 2,
   "metadata": {},
   "outputs": [],
   "source": [
    "p = Pauli([X, Y, I, I, Z])\n",
    "q = Pauli([Z, Y, I, Y, Y])\n",
    "r = Pauli([X, X, Y, Y, I])\n",
    "s = SuperPauli([(2, p), (1, q)])\n",
    "t = p + 2*q + 3*r"
   ]
  },
  {
   "cell_type": "code",
   "execution_count": 21,
   "metadata": {},
   "outputs": [
    {
     "data": {
      "text/plain": [
       "True"
      ]
     },
     "execution_count": 21,
     "metadata": {},
     "output_type": "execute_result"
    }
   ],
   "source": [
    "lin_ind([1*p, 1*q, t])"
   ]
  },
  {
   "cell_type": "code",
   "execution_count": 37,
   "metadata": {},
   "outputs": [
    {
     "name": "stdout",
     "output_type": "stream",
     "text": [
      "2.06 ms ± 68.7 µs per loop (mean ± std. dev. of 7 runs, 100 loops each)\n"
     ]
    }
   ],
   "source": [
    "%timeit comm(s, t)"
   ]
  },
  {
   "cell_type": "code",
   "execution_count": 9,
   "metadata": {},
   "outputs": [
    {
     "data": {
      "text/plain": [
       "SuperPauli([(-12j, Pauli([I, Z, Y, Y, Z]))])"
      ]
     },
     "execution_count": 9,
     "metadata": {},
     "output_type": "execute_result"
    }
   ],
   "source": [
    "comm(s, t)"
   ]
  },
  {
   "cell_type": "code",
   "execution_count": 12,
   "metadata": {},
   "outputs": [
    {
     "data": {
      "text/plain": [
       "SuperPauli([(-12j, Pauli([I, Z, Y, Y, Z]))])"
      ]
     },
     "execution_count": 12,
     "metadata": {},
     "output_type": "execute_result"
    }
   ],
   "source": [
    "2 * comm(p, p) + 4 * comm(p, q) + 6 * comm(p, r) + comm(q, p) + 2 * comm(q, q) + 3 * comm(q, r)"
   ]
  },
  {
   "cell_type": "code",
   "execution_count": 10,
   "metadata": {},
   "outputs": [
    {
     "data": {
      "text/plain": [
       "SuperPauli([((-10+0j), Pauli([Y, I, I, Y, X])), ((8+0j), Pauli([I, I, I, I, I])), ((6+0j), Pauli([Y, Z, Y, I, Y]))])"
      ]
     },
     "execution_count": 10,
     "metadata": {},
     "output_type": "execute_result"
    }
   ],
   "source": [
    "acomm(s, t)"
   ]
  },
  {
   "cell_type": "code",
   "execution_count": 11,
   "metadata": {},
   "outputs": [
    {
     "data": {
      "text/plain": [
       "SuperPauli([((8+0j), Pauli([I, I, I, I, I])), ((-10+0j), Pauli([Y, I, I, Y, X])), ((6+0j), Pauli([Y, Z, Y, I, Y]))])"
      ]
     },
     "execution_count": 11,
     "metadata": {},
     "output_type": "execute_result"
    }
   ],
   "source": [
    "2 * acomm(p, p) + 4 * acomm(p, q) + 6 * acomm(p, r) + acomm(q, p) + 2 * acomm(q, q) + 3 * acomm(q, r)"
   ]
  },
  {
   "cell_type": "code",
   "execution_count": null,
   "metadata": {},
   "outputs": [],
   "source": []
  }
 ],
 "metadata": {
  "kernelspec": {
   "display_name": "lie_venv",
   "language": "python",
   "name": "python3"
  },
  "language_info": {
   "codemirror_mode": {
    "name": "ipython",
    "version": 3
   },
   "file_extension": ".py",
   "mimetype": "text/x-python",
   "name": "python",
   "nbconvert_exporter": "python",
   "pygments_lexer": "ipython3",
   "version": "3.9.6"
  },
  "orig_nbformat": 4
 },
 "nbformat": 4,
 "nbformat_minor": 2
}

{
 "cells": [
  {
   "cell_type": "markdown",
   "metadata": {},
   "source": [
    "## Plan\n",
    "\n",
    "- set up standard operators\n",
    "- function to make tensor products with trivial operators\n",
    "- function to check linear independence (rank=#operators iff rows linearly dependent)\n",
    "- function to build closed lie algebras (with cut off)\n",
    "- function to extend lie algebra with commutations of another lie algebra\n",
    "\n",
    "##### Problems\n",
    "\n",
    "- cannot determine how an operator is linearly dependent on opertaors in algebra\n",
    "- final Lie algebra is list of huge matrices, not their tensor decomposition"
   ]
  },
  {
   "cell_type": "code",
   "execution_count": 19,
   "metadata": {},
   "outputs": [],
   "source": [
    "import numpy as np"
   ]
  },
  {
   "cell_type": "code",
   "execution_count": 20,
   "metadata": {},
   "outputs": [],
   "source": [
    "I = np.eye(2)\n",
    "X = np.array([[0, 1], [1, 0]])\n",
    "Y = np.array([[0, -1j], [1j, 0]])\n",
    "Z = np.array([[1, 0], [0, -1]])"
   ]
  },
  {
   "cell_type": "code",
   "execution_count": 38,
   "metadata": {},
   "outputs": [],
   "source": [
    "def tensor(W: np.ndarray, dim: int, start: int, end: int =0):\n",
    "    \"\"\"\n",
    "    Return tensor product of dim operators acting with W on qubits [start, end] and trivially elsewhere.\n",
    "    \n",
    "    Parameters\n",
    "    ----------\n",
    "    W : np.ndarray\n",
    "        Operator acting on quibits [start, end]\n",
    "    dim : int\n",
    "        Number of qubits in system\n",
    "    start : int\n",
    "        First non-trivial operator\n",
    "    end : int\n",
    "        Final non-trivial operator\n",
    "\n",
    "    Returns\n",
    "    -------\n",
    "    T : np.ndarray\n",
    "        Tensor product acting with W on qubits [start, end] and trivially elsewhere\n",
    "    \"\"\"\n",
    "    if not end:\n",
    "        end = start\n",
    "\n",
    "    op = [I for i in range(dim)]\n",
    "\n",
    "    for i in range(start, end+1):\n",
    "        op[i] = W\n",
    "\n",
    "    T = op[0]\n",
    "    for i in range(1, dim):\n",
    "        T = np.kron(T, op[i])\n",
    "\n",
    "    return T"
   ]
  },
  {
   "cell_type": "code",
   "execution_count": 134,
   "metadata": {},
   "outputs": [],
   "source": [
    "def lin_ind(Ops: list):\n",
    "    \"\"\"\n",
    "    Determines whether a list of operators are linearly independent.\n",
    "    \n",
    "    Parameters\n",
    "    ----------\n",
    "    Ops : list\n",
    "        List of operators with equal dimension\n",
    "\n",
    "    Returns\n",
    "    -------\n",
    "    ind : bool\n",
    "        List of operators are linearly independent, true or false\n",
    "    \"\"\"\n",
    "    # matrix such that each column corresponds to one operator\n",
    "    L = np.array([np.squeeze(op.reshape((1, -1))) for op in Ops]).T\n",
    "\n",
    "    rank = np.linalg.matrix_rank(L)\n",
    "    ind = (rank==len(Ops))\n",
    "    return ind"
   ]
  },
  {
   "cell_type": "code",
   "execution_count": 161,
   "metadata": {},
   "outputs": [],
   "source": [
    "class max_operators(Exception):\n",
    "    pass"
   ]
  },
  {
   "cell_type": "code",
   "execution_count": 192,
   "metadata": {},
   "outputs": [],
   "source": [
    "def complete_algebra(Ops: list, max: int):\n",
    "    \"\"\"\n",
    "    Find closed Lie algebra given initial set of operators.\n",
    "\n",
    "    Parameters\n",
    "    ----------\n",
    "    Ops : list\n",
    "        List of initial operators in Lie algebra\n",
    "    max : int\n",
    "        Cut off after max number of operators in Lie algebra found\n",
    "\n",
    "    Returns\n",
    "    -------\n",
    "    new_Ops : list\n",
    "        List of operators in completed Lie algebra\n",
    "    \"\"\"\n",
    "    old_Ops = Ops\n",
    "    start = 0\n",
    "\n",
    "    while True:\n",
    "        # stop if maximum operators in algebra reached\n",
    "        if len(old_Ops) > max:\n",
    "            raise max_operators(f\"Maximum of {max} operators in algebra reached.\")\n",
    "        \n",
    "        # find new set of linearly independent operators to extend old_Ops\n",
    "        new_Ops = complete_algebra_inner(old_Ops, start)\n",
    "\n",
    "        # number of new operators added\n",
    "        added_ops = len(new_Ops) - len(old_Ops)\n",
    "\n",
    "        # if no new operators found, algebra is complete\n",
    "        if added_ops == 0:\n",
    "            return new_Ops\n",
    "        else:\n",
    "            start = len(old_Ops)\n",
    "            old_Ops = new_Ops"
   ]
  },
  {
   "cell_type": "code",
   "execution_count": 193,
   "metadata": {},
   "outputs": [],
   "source": [
    "def complete_algebra_inner(Ops: list, start: int):\n",
    "    \"\"\"Find all linearly independent operators from commutations of operators in Ops[0:len(Ops)] with operators in Ops[start:len(Ops)].\"\"\"\n",
    "    new_Ops = Ops\n",
    "    for i in Ops:\n",
    "        for j in Ops[max(i, start):len(Ops)]:\n",
    "            new_op = new_Ops[i]@new_Ops[j] - new_Ops[j]@new_Ops[i]\n",
    "            new_Ops.append(new_op)\n",
    "            if not lin_ind(new_Ops):\n",
    "                new_Ops.pop()\n",
    "    return new_Ops"
   ]
  },
  {
   "cell_type": "code",
   "execution_count": null,
   "metadata": {},
   "outputs": [],
   "source": [
    "def find_algebra(Lie_0: list, Lie_1: list, max: int):\n",
    "    \"\"\"\n",
    "    Extend Lie algebra Lie_0 to include commutations with operators in Lie_1.\n",
    "\n",
    "    Parameters\n",
    "    ----------\n",
    "    Lie_0 : list\n",
    "        List of operators forming a Lie algebra\n",
    "    Lie_1 : list\n",
    "        List of operators to extend Lie_0 with commutations of\n",
    "    max : int\n",
    "        Cut off after max number of operators in Lie algebra found\n",
    "\n",
    "    Returns\n",
    "    -------\n",
    "    Lie_alg : list\n",
    "        List of operators in extended Lie algebra\n",
    "    \"\"\""
   ]
  },
  {
   "cell_type": "code",
   "execution_count": 135,
   "metadata": {},
   "outputs": [],
   "source": [
    "A = np.array([[1, 0], [1, 0]])\n",
    "B = np.array([[2, 0], [1, 1]])"
   ]
  },
  {
   "cell_type": "code",
   "execution_count": 143,
   "metadata": {},
   "outputs": [
    {
     "data": {
      "text/plain": [
       "False"
      ]
     },
     "execution_count": 143,
     "metadata": {},
     "output_type": "execute_result"
    }
   ],
   "source": [
    "lin_ind([A, I, B])"
   ]
  },
  {
   "cell_type": "code",
   "execution_count": 190,
   "metadata": {},
   "outputs": [
    {
     "name": "stdout",
     "output_type": "stream",
     "text": [
      "hello 5\n"
     ]
    }
   ],
   "source": [
    "t = 5\n",
    "\n",
    "print(f\"hello {t}\")"
   ]
  },
  {
   "cell_type": "code",
   "execution_count": 184,
   "metadata": {},
   "outputs": [
    {
     "data": {
      "text/plain": [
       "5"
      ]
     },
     "execution_count": 184,
     "metadata": {},
     "output_type": "execute_result"
    }
   ],
   "source": [
    "max(5, 3)"
   ]
  },
  {
   "cell_type": "code",
   "execution_count": 163,
   "metadata": {},
   "outputs": [
    {
     "ename": "max_operators",
     "evalue": "Wrong!",
     "output_type": "error",
     "traceback": [
      "\u001b[1;31m---------------------------------------------------------------------------\u001b[0m",
      "\u001b[1;31mmax_operators\u001b[0m                             Traceback (most recent call last)",
      "Cell \u001b[1;32mIn[163], line 1\u001b[0m\n\u001b[1;32m----> 1\u001b[0m \u001b[39mraise\u001b[39;00m max_operators(\u001b[39m\"\u001b[39m\u001b[39mWrong!\u001b[39m\u001b[39m\"\u001b[39m)\n",
      "\u001b[1;31mmax_operators\u001b[0m: Wrong!"
     ]
    }
   ],
   "source": [
    "raise max_operators(\"Wrong!\")"
   ]
  },
  {
   "cell_type": "code",
   "execution_count": null,
   "metadata": {},
   "outputs": [],
   "source": []
  }
 ],
 "metadata": {
  "kernelspec": {
   "display_name": "lie_venv",
   "language": "python",
   "name": "python3"
  },
  "language_info": {
   "codemirror_mode": {
    "name": "ipython",
    "version": 3
   },
   "file_extension": ".py",
   "mimetype": "text/x-python",
   "name": "python",
   "nbconvert_exporter": "python",
   "pygments_lexer": "ipython3",
   "version": "3.9.6"
  },
  "orig_nbformat": 4
 },
 "nbformat": 4,
 "nbformat_minor": 2
}

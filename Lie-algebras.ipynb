{
 "cells": [
  {
   "cell_type": "markdown",
   "metadata": {},
   "source": [
    "## Plan\n",
    "\n",
    "- set up standard operators\n",
    "- function to make tensor products with trivial operators\n",
    "- function to check linear independence (rank=#operators iff rows linearly dependent)\n",
    "- function to build closed lie algebras (with cut off)\n",
    "- function to extend lie algebra with commutations of another lie algebra\n",
    "- create tests from examples in paper\n",
    "\n",
    "##### Problems\n",
    "\n",
    "- original Ops in complete_algebra need to be linearly independent: check \"complete_algebra([X, X], 5)\"\n",
    "- cannot determine how an operator is linearly dependent on operators in algebra (use qr decomp: cols of r give dependencies)\n",
    "- final Lie algebra is list of huge matrices, not their tensor decomposition (way to simplify down from linear dependencies?)"
   ]
  },
  {
   "cell_type": "code",
   "execution_count": 93,
   "metadata": {},
   "outputs": [],
   "source": [
    "import numpy as np"
   ]
  },
  {
   "cell_type": "code",
   "execution_count": 94,
   "metadata": {},
   "outputs": [],
   "source": [
    "I = np.eye(2)\n",
    "X = np.array([[0, 1], [1, 0]])\n",
    "Y = np.array([[0, -1j], [1j, 0]])\n",
    "Z = np.array([[1, 0], [0, -1]])"
   ]
  },
  {
   "cell_type": "code",
   "execution_count": 103,
   "metadata": {},
   "outputs": [],
   "source": [
    "def tensor(W: np.ndarray, dim: int, start: int, end: int = 0):\n",
    "    \"\"\"\n",
    "    Return tensor product of dim operators acting with W on qubits [start, end] and trivially elsewhere.\n",
    "    \n",
    "    Parameters\n",
    "    ----------\n",
    "    W : np.ndarray\n",
    "        Operator acting on quibits [start, end]\n",
    "    dim : int\n",
    "        Number of qubits in system\n",
    "    start : int\n",
    "        First non-trivial operator\n",
    "    end : int\n",
    "        Final non-trivial operator\n",
    "\n",
    "    Returns\n",
    "    -------\n",
    "    T : np.ndarray\n",
    "        Tensor product acting with W on qubits [start, end] and trivially elsewhere\n",
    "    \"\"\"\n",
    "    if not end:\n",
    "        end = start\n",
    "\n",
    "    op = [I for i in range(dim)]\n",
    "\n",
    "    for i in range(start, end+1):\n",
    "        op[i] = W\n",
    "\n",
    "    T = op[0]\n",
    "    for i in range(1, dim):\n",
    "        T = np.kron(T, op[i])\n",
    "\n",
    "    return T"
   ]
  },
  {
   "cell_type": "code",
   "execution_count": 96,
   "metadata": {},
   "outputs": [],
   "source": [
    "def lin_ind(Ops: list):\n",
    "    \"\"\"\n",
    "    Determines whether a list of operators are linearly independent.\n",
    "    \n",
    "    Parameters\n",
    "    ----------\n",
    "    Ops : list\n",
    "        List of operators with equal dimension\n",
    "\n",
    "    Returns\n",
    "    -------\n",
    "    ind : bool\n",
    "        List of operators are linearly independent, true or false\n",
    "    \"\"\"\n",
    "    # matrix such that each column corresponds to one operator\n",
    "    L = np.array([np.squeeze(op.reshape((1, -1))) for op in Ops]).T\n",
    "\n",
    "    rank = np.linalg.matrix_rank(L)\n",
    "    ind = (rank==len(Ops))\n",
    "    return ind"
   ]
  },
  {
   "cell_type": "code",
   "execution_count": 149,
   "metadata": {},
   "outputs": [],
   "source": [
    "class MaxOperators(Exception):\n",
    "    pass\n",
    "\n",
    "class LinearIndependence(Exception):\n",
    "    pass"
   ]
  },
  {
   "cell_type": "code",
   "execution_count": 98,
   "metadata": {},
   "outputs": [],
   "source": [
    "def complete_algebra_inner(Ops: list, start: int):\n",
    "    \"\"\"Find all linearly independent operators from commutations of operators in Ops[0:len(Ops)] with operators in Ops[start:len(Ops)].\"\"\"\n",
    "    new_Ops = Ops\n",
    "    for i in range(len(Ops)):\n",
    "        for j in range(max(i, start), len(Ops)):\n",
    "            new_op = new_Ops[i]@new_Ops[j] - new_Ops[j]@new_Ops[i]\n",
    "            new_Ops.append(new_op)\n",
    "            if not lin_ind(new_Ops):\n",
    "                new_Ops.pop()\n",
    "    return new_Ops"
   ]
  },
  {
   "cell_type": "code",
   "execution_count": 150,
   "metadata": {},
   "outputs": [],
   "source": [
    "def complete_algebra(Ops: list, max: int, start: int = 0):\n",
    "    \"\"\"\n",
    "    Find closed Lie algebra given initial set of operators.\n",
    "\n",
    "    Parameters\n",
    "    ----------\n",
    "    Ops : list\n",
    "        List of initial operators in Lie algebra\n",
    "    max : int\n",
    "        Cut off after max number of operators in Lie algebra found\n",
    "    start : int\n",
    "        Operator index to start verifying closedness, ie every commutation with operators before start already accounted  \n",
    "\n",
    "    Returns\n",
    "    -------\n",
    "    new_Ops : list\n",
    "        List of operators in completed Lie algebra\n",
    "    \"\"\"\n",
    "    if not lin_ind(Ops):\n",
    "        raise LinearIndependence(\"Given operators are not linearly independent.\")\n",
    "\n",
    "    old_Ops = Ops\n",
    "\n",
    "    while True:\n",
    "        # stop if maximum operators in algebra reached\n",
    "        if len(old_Ops) > max:\n",
    "            raise MaxOperators(f\"Maximum of {max} operators in algebra reached.\")\n",
    "        \n",
    "        # find new set of linearly independent operators to extend old_Ops\n",
    "        new_Ops = complete_algebra_inner(old_Ops, start)\n",
    "\n",
    "        # number of new operators added\n",
    "        added_ops = len(new_Ops) - len(old_Ops)\n",
    "\n",
    "        # if no new operators found, algebra is complete\n",
    "        if added_ops == 0:\n",
    "            return new_Ops\n",
    "        else:\n",
    "            start = len(old_Ops)\n",
    "            old_Ops = new_Ops"
   ]
  },
  {
   "cell_type": "code",
   "execution_count": 121,
   "metadata": {},
   "outputs": [],
   "source": [
    "def find_algebra(Lie_0: list, Lie_1: list, max: int):\n",
    "    \"\"\"\n",
    "    Extend Lie algebra Lie_0 to include commutations with operators in Lie_1.\n",
    "\n",
    "    Parameters\n",
    "    ----------\n",
    "    Lie_0 : list\n",
    "        List of operators forming a Lie algebra\n",
    "    Lie_1 : list\n",
    "        List of operators to extend Lie_0 with commutations of\n",
    "    max : int\n",
    "        Cut off after max number of operators in Lie algebra found\n",
    "\n",
    "    Returns\n",
    "    -------\n",
    "    Lie_alg : list\n",
    "        List of operators in extended Lie algebra\n",
    "    \"\"\"\n",
    "    Ops = Lie_0\n",
    "    # append every commutation that is linearly independent\n",
    "    for i in range(len(Lie_0)):\n",
    "        for j in range(len(Lie_1)):\n",
    "            new_op = Lie_0[i]@Lie_1[j] - Lie_1[j]@Lie_0[i]\n",
    "            Ops.append(new_op)\n",
    "            if not lin_ind(Ops):\n",
    "                Ops.pop()\n",
    "    # complete the algebra, starting from added operators\n",
    "    Lie_alg = complete_algebra(Ops, max, start=len(Lie_0)-1)\n",
    "    return Lie_alg\n",
    "            "
   ]
  },
  {
   "cell_type": "code",
   "execution_count": 151,
   "metadata": {},
   "outputs": [
    {
     "ename": "LinearIndependence",
     "evalue": "Given operators are not linearly independent.",
     "output_type": "error",
     "traceback": [
      "\u001b[1;31m---------------------------------------------------------------------------\u001b[0m",
      "\u001b[1;31mLinearIndependence\u001b[0m                        Traceback (most recent call last)",
      "Cell \u001b[1;32mIn[151], line 1\u001b[0m\n\u001b[1;32m----> 1\u001b[0m complete_algebra([X, I, Z, A, B], \u001b[39m10\u001b[39;49m)\n",
      "Cell \u001b[1;32mIn[150], line 20\u001b[0m, in \u001b[0;36mcomplete_algebra\u001b[1;34m(Ops, max, start)\u001b[0m\n\u001b[0;32m      2\u001b[0m \u001b[39m\u001b[39m\u001b[39m\"\"\"\u001b[39;00m\n\u001b[0;32m      3\u001b[0m \u001b[39mFind closed Lie algebra given initial set of operators.\u001b[39;00m\n\u001b[0;32m      4\u001b[0m \n\u001b[1;32m   (...)\u001b[0m\n\u001b[0;32m     17\u001b[0m \u001b[39m    List of operators in completed Lie algebra\u001b[39;00m\n\u001b[0;32m     18\u001b[0m \u001b[39m\"\"\"\u001b[39;00m\n\u001b[0;32m     19\u001b[0m \u001b[39mif\u001b[39;00m \u001b[39mnot\u001b[39;00m lin_ind(Ops):\n\u001b[1;32m---> 20\u001b[0m     \u001b[39mraise\u001b[39;00m LinearIndependence(\u001b[39m\"\u001b[39m\u001b[39mGiven operators are not linearly independent.\u001b[39m\u001b[39m\"\u001b[39m)\n\u001b[0;32m     22\u001b[0m old_Ops \u001b[39m=\u001b[39m Ops\n\u001b[0;32m     24\u001b[0m \u001b[39mwhile\u001b[39;00m \u001b[39mTrue\u001b[39;00m:\n\u001b[0;32m     25\u001b[0m     \u001b[39m# stop if maximum operators in algebra reached\u001b[39;00m\n",
      "\u001b[1;31mLinearIndependence\u001b[0m: Given operators are not linearly independent."
     ]
    }
   ],
   "source": [
    "complete_algebra([X, I, Z, A, B], 10)"
   ]
  },
  {
   "cell_type": "code",
   "execution_count": 146,
   "metadata": {},
   "outputs": [
    {
     "data": {
      "text/plain": [
       "False"
      ]
     },
     "execution_count": 146,
     "metadata": {},
     "output_type": "execute_result"
    }
   ],
   "source": [
    "lin_ind([X,I,Z,A,B])"
   ]
  },
  {
   "cell_type": "code",
   "execution_count": 148,
   "metadata": {},
   "outputs": [
    {
     "data": {
      "text/plain": [
       "[array([[0, 1],\n",
       "        [1, 0]]),\n",
       " array([[1., 0.],\n",
       "        [0., 1.]]),\n",
       " array([[ 0, -2],\n",
       "        [ 2,  0]]),\n",
       " array([[ 1, -1],\n",
       "        [ 1, -1]])]"
      ]
     },
     "execution_count": 148,
     "metadata": {},
     "output_type": "execute_result"
    }
   ],
   "source": [
    "find_algebra([X, I], [Z, A, B], 10)"
   ]
  },
  {
   "cell_type": "code",
   "execution_count": 125,
   "metadata": {},
   "outputs": [],
   "source": [
    "A = np.array([[1, 0], [1, 0]])\n",
    "B = np.array([[2, 0], [1, 1]])"
   ]
  },
  {
   "cell_type": "code",
   "execution_count": 102,
   "metadata": {},
   "outputs": [
    {
     "data": {
      "text/plain": [
       "False"
      ]
     },
     "execution_count": 102,
     "metadata": {},
     "output_type": "execute_result"
    }
   ],
   "source": [
    "lin_ind([A, I, B])"
   ]
  },
  {
   "cell_type": "code",
   "execution_count": null,
   "metadata": {},
   "outputs": [],
   "source": []
  }
 ],
 "metadata": {
  "kernelspec": {
   "display_name": "lie_venv",
   "language": "python",
   "name": "python3"
  },
  "language_info": {
   "codemirror_mode": {
    "name": "ipython",
    "version": 3
   },
   "file_extension": ".py",
   "mimetype": "text/x-python",
   "name": "python",
   "nbconvert_exporter": "python",
   "pygments_lexer": "ipython3",
   "version": "3.9.6"
  },
  "orig_nbformat": 4
 },
 "nbformat": 4,
 "nbformat_minor": 2
}

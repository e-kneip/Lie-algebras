{
 "cells": [
  {
   "cell_type": "markdown",
   "metadata": {},
   "source": [
    "### Plan\n",
    "\n",
    "- set up standard operators\n",
    "- function to make tensor products with trivial operators\n",
    "- function to check linear independence (eval=0 iff cols linearly dependent)\n",
    "- find way to determine dependence?\n",
    "- function to build closed lie algebras (with cut off)"
   ]
  },
  {
   "cell_type": "code",
   "execution_count": 19,
   "metadata": {},
   "outputs": [],
   "source": [
    "import numpy as np"
   ]
  },
  {
   "cell_type": "code",
   "execution_count": 20,
   "metadata": {},
   "outputs": [],
   "source": [
    "I = np.eye(2)\n",
    "X = np.array([[0, 1], [1, 0]])\n",
    "Y = np.array([[0, -1j], [1j, 0]])\n",
    "Z = np.array([[1, 0], [0, -1]])"
   ]
  },
  {
   "cell_type": "code",
   "execution_count": 21,
   "metadata": {},
   "outputs": [
    {
     "data": {
      "text/plain": [
       "array([[1., 0., 0., 0.],\n",
       "       [0., 1., 0., 0.],\n",
       "       [0., 0., 1., 0.],\n",
       "       [0., 0., 0., 1.]])"
      ]
     },
     "execution_count": 21,
     "metadata": {},
     "output_type": "execute_result"
    }
   ],
   "source": [
    "np.kron(I, I)"
   ]
  },
  {
   "cell_type": "code",
   "execution_count": 38,
   "metadata": {},
   "outputs": [],
   "source": [
    "def tensor(W: np.ndarray, dim: int, start: int, end: int =0):\n",
    "    \"\"\"\n",
    "    Return tensor product of dim operators acting with W on qubits [start, end] and trivially elsewhere.\n",
    "    \n",
    "    Parameters\n",
    "    ----------\n",
    "    W : np.ndarray\n",
    "        Operator acting on quibits [start, end]\n",
    "    dim : int\n",
    "        Number of qubits in system\n",
    "    start : int\n",
    "        First non-trivial operator\n",
    "    end : int\n",
    "        Final non-trivial operator\n",
    "\n",
    "    Returns\n",
    "    -------\n",
    "    T : np.ndarray\n",
    "        Tensor product acting with W on qubits [start, end] and trivially elsewhere\n",
    "    \"\"\"\n",
    "    if not end:\n",
    "        end = start\n",
    "\n",
    "    op = [I for i in range(dim)]\n",
    "\n",
    "    for i in range(start, end+1):\n",
    "        op[i] = W\n",
    "\n",
    "    T = op[0]\n",
    "    for i in range(1, dim):\n",
    "        T = np.kron(T, op[i])\n",
    "\n",
    "    return T"
   ]
  },
  {
   "cell_type": "code",
   "execution_count": 118,
   "metadata": {},
   "outputs": [],
   "source": [
    "def lin_ind(Ops: list):\n",
    "    \"\"\"\n",
    "    Determines whether a list of operators are linearly independent.\n",
    "    \n",
    "    Parameters\n",
    "    ----------\n",
    "    Ops : list\n",
    "        List of operators with equal dimension\n",
    "\n",
    "    Returns\n",
    "    -------\n",
    "    ind : bool\n",
    "        List of operators are linearly independent, true or false\n",
    "    \"\"\"\n",
    "    # matrix such that each row coressponds to one operator\n",
    "    L = np.array([np.squeeze(op.reshape((1, -1))) for op in Ops]).T\n",
    "\n",
    "    rank = np.linalg.matrix_rank(L)\n",
    "    ind = (rank==len(Ops))\n",
    "    return ind"
   ]
  },
  {
   "cell_type": "code",
   "execution_count": 119,
   "metadata": {},
   "outputs": [],
   "source": [
    "A = np.array([[1, 0], [1, 0]])\n",
    "B = np.array([[2, 0], [1, 1]])"
   ]
  },
  {
   "cell_type": "code",
   "execution_count": 133,
   "metadata": {},
   "outputs": [
    {
     "data": {
      "text/plain": [
       "True"
      ]
     },
     "execution_count": 133,
     "metadata": {},
     "output_type": "execute_result"
    }
   ],
   "source": [
    "lin_ind([A, B])"
   ]
  },
  {
   "cell_type": "code",
   "execution_count": null,
   "metadata": {},
   "outputs": [],
   "source": []
  }
 ],
 "metadata": {
  "kernelspec": {
   "display_name": "lie_venv",
   "language": "python",
   "name": "python3"
  },
  "language_info": {
   "codemirror_mode": {
    "name": "ipython",
    "version": 3
   },
   "file_extension": ".py",
   "mimetype": "text/x-python",
   "name": "python",
   "nbconvert_exporter": "python",
   "pygments_lexer": "ipython3",
   "version": "3.9.6"
  },
  "orig_nbformat": 4
 },
 "nbformat": 4,
 "nbformat_minor": 2
}

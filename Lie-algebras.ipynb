{
 "cells": [
  {
   "cell_type": "markdown",
   "metadata": {},
   "source": [
    "## Constructing Lie Algebras Examples"
   ]
  },
  {
   "cell_type": "code",
   "execution_count": 1,
   "metadata": {},
   "outputs": [],
   "source": [
    "from Lie_algebras import *\n",
    "import numpy as np"
   ]
  },
  {
   "cell_type": "code",
   "execution_count": 2,
   "metadata": {},
   "outputs": [],
   "source": [
    "A = np.array([[1, 0], [1, 0]])\n",
    "B = np.array([[2, 0], [1, 1]])"
   ]
  },
  {
   "cell_type": "code",
   "execution_count": 5,
   "metadata": {},
   "outputs": [
    {
     "data": {
      "text/plain": [
       "[array([[0, 1],\n",
       "        [1, 0]]),\n",
       " array([[1., 0.],\n",
       "        [0., 1.]]),\n",
       " array([[ 1,  0],\n",
       "        [ 0, -1]]),\n",
       " array([[ 0, -2],\n",
       "        [ 2,  0]])]"
      ]
     },
     "execution_count": 5,
     "metadata": {},
     "output_type": "execute_result"
    }
   ],
   "source": [
    "complete_algebra([X, I, Z], 4)"
   ]
  },
  {
   "cell_type": "code",
   "execution_count": 4,
   "metadata": {},
   "outputs": [
    {
     "data": {
      "text/plain": [
       "[array([[0, 1],\n",
       "        [1, 0]]),\n",
       " array([[1., 0.],\n",
       "        [0., 1.]]),\n",
       " array([[ 0, -2],\n",
       "        [ 2,  0]]),\n",
       " array([[ 1, -1],\n",
       "        [ 1, -1]])]"
      ]
     },
     "execution_count": 4,
     "metadata": {},
     "output_type": "execute_result"
    }
   ],
   "source": [
    "find_algebra([X, I], [Z, A, B], 10)"
   ]
  },
  {
   "cell_type": "code",
   "execution_count": 5,
   "metadata": {},
   "outputs": [
    {
     "data": {
      "text/plain": [
       "[array([[0, 1],\n",
       "        [1, 0]]),\n",
       " array([[1., 0.],\n",
       "        [0., 1.]]),\n",
       " array([[ 0, -2],\n",
       "        [ 2,  0]]),\n",
       " array([[ 1, -1],\n",
       "        [ 1, -1]])]"
      ]
     },
     "execution_count": 5,
     "metadata": {},
     "output_type": "execute_result"
    }
   ],
   "source": [
    "complete_algebra([X, I, comm(X, Z), comm(X, A)], 10)"
   ]
  },
  {
   "cell_type": "code",
   "execution_count": 6,
   "metadata": {},
   "outputs": [
    {
     "data": {
      "text/plain": [
       "True"
      ]
     },
     "execution_count": 6,
     "metadata": {},
     "output_type": "execute_result"
    }
   ],
   "source": [
    "complete_algebra([X, I], 10) == [X, I]"
   ]
  },
  {
   "cell_type": "code",
   "execution_count": null,
   "metadata": {},
   "outputs": [],
   "source": []
  },
  {
   "cell_type": "markdown",
   "metadata": {},
   "source": [
    "### Tests from paper"
   ]
  },
  {
   "cell_type": "markdown",
   "metadata": {},
   "source": [
    "##### 1. Lie Algebra g_1"
   ]
  },
  {
   "cell_type": "code",
   "execution_count": 151,
   "metadata": {},
   "outputs": [],
   "source": [
    "n = 3\n",
    "ops = [sum([tensor(Z, n, i) for i in range(n)]), sum([tensor(X, n, i)@tensor(X, n, i+1) for i in range(n-1)]) + tensor(X, n, n-1)@tensor(X, n, 0)]"
   ]
  },
  {
   "cell_type": "code",
   "execution_count": 152,
   "metadata": {},
   "outputs": [
    {
     "data": {
      "text/plain": [
       "[array([[ 3.,  0.,  0.,  0.,  0.,  0.,  0.,  0.],\n",
       "        [ 0.,  1.,  0.,  0.,  0.,  0.,  0.,  0.],\n",
       "        [ 0.,  0.,  1.,  0.,  0.,  0.,  0.,  0.],\n",
       "        [ 0.,  0.,  0., -1.,  0.,  0.,  0.,  0.],\n",
       "        [ 0.,  0.,  0.,  0.,  1.,  0.,  0.,  0.],\n",
       "        [ 0.,  0.,  0.,  0.,  0., -1.,  0.,  0.],\n",
       "        [ 0.,  0.,  0.,  0.,  0.,  0., -1.,  0.],\n",
       "        [ 0.,  0.,  0.,  0.,  0.,  0.,  0., -3.]]),\n",
       " array([[0., 0., 0., 1., 0., 1., 1., 0.],\n",
       "        [0., 0., 1., 0., 1., 0., 0., 1.],\n",
       "        [0., 1., 0., 0., 1., 0., 0., 1.],\n",
       "        [1., 0., 0., 0., 0., 1., 1., 0.],\n",
       "        [0., 1., 1., 0., 0., 0., 0., 1.],\n",
       "        [1., 0., 0., 1., 0., 0., 1., 0.],\n",
       "        [1., 0., 0., 1., 0., 1., 0., 0.],\n",
       "        [0., 1., 1., 0., 1., 0., 0., 0.]])]"
      ]
     },
     "execution_count": 152,
     "metadata": {},
     "output_type": "execute_result"
    }
   ],
   "source": [
    "ops"
   ]
  },
  {
   "cell_type": "code",
   "execution_count": 163,
   "metadata": {},
   "outputs": [
    {
     "data": {
      "text/plain": [
       "8"
      ]
     },
     "execution_count": 163,
     "metadata": {},
     "output_type": "execute_result"
    }
   ],
   "source": [
    "alg = complete_algebra(ops, 9)\n",
    "len(alg)"
   ]
  },
  {
   "cell_type": "code",
   "execution_count": 169,
   "metadata": {},
   "outputs": [],
   "source": [
    "# answers\n",
    "s_1 = sum([tensor(Z, n, i) for i in range(n)])\n",
    "s_20 = sum([tensor(X, n, i)@tensor(X, n, i+1) for i in range(n-1)]) + tensor(X, n, n-1)@tensor(X, n, 0)\n",
    "s_30 = sum([tensor(Y, n, i)@tensor(Y, n, i+1) for i in range(n-1)]) + tensor(Y, n, n-1)@tensor(Y, n, 0)\n",
    "s_5 = s_1@tensor(Z, n, 0, n-1)\n",
    "\n",
    "# n=3 case only:\n",
    "s_21 = tensor(X, 3, 0)@tensor(Z, 3, 1)@tensor(X, 3, 2) + tensor(X, 3, 1)@tensor(Z, 3, 2)@tensor(X, 3, 0) + tensor(X, 3, 2)@tensor(Z, 3, 0)@tensor(X, 3, 1)\n",
    "s_31 = tensor(Y, 3, 0)@tensor(Z, 3, 1)@tensor(Y, 3, 2) + tensor(Y, 3, 1)@tensor(Z, 3, 2)@tensor(Y, 3, 0) + tensor(Y, 3, 2)@tensor(Z, 3, 0)@tensor(Y, 3, 1)\n",
    "s_40 = tensor(X, 3, 0)@tensor(Y, 3, 1) + tensor(Y, 3, 0)@tensor(X, 3, 1) + tensor(X, 3, 1)@tensor(Y, 3, 2) + tensor(Y, 3, 1)@tensor(X, 3, 2) + tensor(X, 3, 2)@tensor(Y, 3, 0) + tensor(Y, 3, 2)@tensor(X, 3, 0)\n",
    "s_41 = tensor(X, 3, 0)@tensor(Z, 3, 1)@tensor(Y, 3, 2) + tensor(Y, 3, 0)@tensor(Z, 3, 1)@tensor(X, 3, 2) + tensor(X, 3, 1)@tensor(Z, 3, 2)@tensor(Y, 3, 0) + tensor(Y, 3, 1)@tensor(Z, 3, 2)@tensor(X, 3, 0) + tensor(X, 3, 2)@tensor(Z, 3, 0)@tensor(Y, 3, 1) + tensor(Y, 3, 2)@tensor(Z, 3, 0)@tensor(X, 3, 1)"
   ]
  },
  {
   "cell_type": "code",
   "execution_count": 170,
   "metadata": {},
   "outputs": [
    {
     "data": {
      "text/plain": [
       "[False, False, False, False, False, False, False, False]"
      ]
     },
     "execution_count": 170,
     "metadata": {},
     "output_type": "execute_result"
    }
   ],
   "source": [
    "# can express any of the solutions in terms of alg\n",
    "[lin_ind(alg + [i]) for i in [s_1, s_20, s_21, s_20, s_31, s_40, s_41, s_5]]"
   ]
  },
  {
   "cell_type": "code",
   "execution_count": 171,
   "metadata": {},
   "outputs": [
    {
     "data": {
      "text/plain": [
       "[False, False, False, False, False, False, False, False]"
      ]
     },
     "execution_count": 171,
     "metadata": {},
     "output_type": "execute_result"
    }
   ],
   "source": [
    "# can express any of alg in terms of the solutions\n",
    "[lin_ind([s_1, s_20, s_21, s_20, s_31, s_40, s_41, s_5]+[i]) for i in alg]"
   ]
  },
  {
   "cell_type": "code",
   "execution_count": 200,
   "metadata": {},
   "outputs": [
    {
     "data": {
      "text/plain": [
       "array([[ True,  True,  True,  True,  True,  True,  True,  True],\n",
       "       [ True,  True,  True,  True,  True,  True,  True,  True],\n",
       "       [ True,  True,  True,  True,  True,  True,  True,  True],\n",
       "       [ True,  True,  True,  True,  True,  True,  True,  True],\n",
       "       [ True,  True,  True,  True,  True,  True,  True,  True],\n",
       "       [ True,  True,  True,  True,  True,  True,  True,  True],\n",
       "       [ True,  True,  True,  True,  True,  True,  True,  True],\n",
       "       [ True,  True,  True,  True,  True,  True,  True,  True]])"
      ]
     },
     "execution_count": 200,
     "metadata": {},
     "output_type": "execute_result"
    }
   ],
   "source": [
    "# example of the linear relationship between alg and solutions\n",
    "alg[2] == (2.j*s_40).real"
   ]
  },
  {
   "cell_type": "markdown",
   "metadata": {},
   "source": [
    "##### 3. Lie Algebra g_3"
   ]
  },
  {
   "cell_type": "code",
   "execution_count": 155,
   "metadata": {},
   "outputs": [
    {
     "data": {
      "text/plain": [
       "30"
      ]
     },
     "execution_count": 155,
     "metadata": {},
     "output_type": "execute_result"
    }
   ],
   "source": [
    "ops2 = [tensor(Z, 3, 0), tensor(Z, 3, 1), tensor(Z, 3, 2), tensor(X, 3, 0)@tensor(X, 3, 1), tensor(X, 3, 1)@tensor(X, 3, 2), tensor(X, 3, 2)@tensor(X, 3, 0)]\n",
    "4*n**2 - 2*n"
   ]
  },
  {
   "cell_type": "code",
   "execution_count": 201,
   "metadata": {},
   "outputs": [
    {
     "data": {
      "text/plain": [
       "30"
      ]
     },
     "execution_count": 201,
     "metadata": {},
     "output_type": "execute_result"
    }
   ],
   "source": [
    "alg2 = complete_algebra(ops2, 35)\n",
    "len(alg2)"
   ]
  },
  {
   "cell_type": "code",
   "execution_count": null,
   "metadata": {},
   "outputs": [],
   "source": []
  },
  {
   "cell_type": "markdown",
   "metadata": {},
   "source": [
    "### Limits??"
   ]
  },
  {
   "cell_type": "code",
   "execution_count": 222,
   "metadata": {},
   "outputs": [
    {
     "data": {
      "text/plain": [
       "(1024, 1024)"
      ]
     },
     "execution_count": 222,
     "metadata": {},
     "output_type": "execute_result"
    }
   ],
   "source": [
    "dim = 10\n",
    "l_op1 = tensor(X, dim, 0, 3)\n",
    "l_op2 = tensor(Z, dim, 0, 2)\n",
    "l_op3 = tensor(Y, dim, 0)\n",
    "l_op1.shape"
   ]
  },
  {
   "cell_type": "code",
   "execution_count": 226,
   "metadata": {},
   "outputs": [
    {
     "data": {
      "text/plain": [
       "6"
      ]
     },
     "execution_count": 226,
     "metadata": {},
     "output_type": "execute_result"
    }
   ],
   "source": [
    "len(complete_algebra([l_op1+l_op2, l_op2, l_op3 + l_op2], 10))"
   ]
  },
  {
   "cell_type": "code",
   "execution_count": null,
   "metadata": {},
   "outputs": [],
   "source": []
  }
 ],
 "metadata": {
  "kernelspec": {
   "display_name": "lie_venv",
   "language": "python",
   "name": "python3"
  },
  "language_info": {
   "codemirror_mode": {
    "name": "ipython",
    "version": 3
   },
   "file_extension": ".py",
   "mimetype": "text/x-python",
   "name": "python",
   "nbconvert_exporter": "python",
   "pygments_lexer": "ipython3",
   "version": "3.9.6"
  },
  "orig_nbformat": 4
 },
 "nbformat": 4,
 "nbformat_minor": 2
}
